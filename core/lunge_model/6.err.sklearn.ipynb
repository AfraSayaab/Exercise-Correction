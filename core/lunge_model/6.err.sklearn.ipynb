{
 "cells": [
  {
   "cell_type": "code",
   "execution_count": 1,
   "metadata": {},
   "outputs": [
    {
     "name": "stderr",
     "output_type": "stream",
     "text": [
      "objc[58216]: Class CaptureDelegate is implemented in both /Users/fuixlabsdev1/Programming/PP/graduation-thesis/env/lib/python3.8/site-packages/mediapipe/.dylibs/libopencv_videoio.3.4.16.dylib (0x10ae08860) and /Users/fuixlabsdev1/Programming/PP/graduation-thesis/env/lib/python3.8/site-packages/cv2/cv2.abi3.so (0x17ce56480). One of the two will be used. Which one is undefined.\n",
      "objc[58216]: Class CVWindow is implemented in both /Users/fuixlabsdev1/Programming/PP/graduation-thesis/env/lib/python3.8/site-packages/mediapipe/.dylibs/libopencv_highgui.3.4.16.dylib (0x105bd0a68) and /Users/fuixlabsdev1/Programming/PP/graduation-thesis/env/lib/python3.8/site-packages/cv2/cv2.abi3.so (0x17ce564d0). One of the two will be used. Which one is undefined.\n",
      "objc[58216]: Class CVView is implemented in both /Users/fuixlabsdev1/Programming/PP/graduation-thesis/env/lib/python3.8/site-packages/mediapipe/.dylibs/libopencv_highgui.3.4.16.dylib (0x105bd0a90) and /Users/fuixlabsdev1/Programming/PP/graduation-thesis/env/lib/python3.8/site-packages/cv2/cv2.abi3.so (0x17ce564f8). One of the two will be used. Which one is undefined.\n",
      "objc[58216]: Class CVSlider is implemented in both /Users/fuixlabsdev1/Programming/PP/graduation-thesis/env/lib/python3.8/site-packages/mediapipe/.dylibs/libopencv_highgui.3.4.16.dylib (0x105bd0ab8) and /Users/fuixlabsdev1/Programming/PP/graduation-thesis/env/lib/python3.8/site-packages/cv2/cv2.abi3.so (0x17ce56520). One of the two will be used. Which one is undefined.\n"
     ]
    }
   ],
   "source": [
    "import mediapipe as mp\n",
    "import cv2\n",
    "import pandas as pd\n",
    "import pickle\n",
    "from sklearn.model_selection import train_test_split\n",
    "from sklearn.preprocessing import StandardScaler\n",
    "\n",
    "import warnings\n",
    "warnings.filterwarnings('ignore')\n",
    "\n",
    "# Drawing helpers\n",
    "mp_drawing = mp.solutions.drawing_utils\n",
    "mp_pose = mp.solutions.pose"
   ]
  },
  {
   "cell_type": "markdown",
   "metadata": {},
   "source": [
    "## 1. Set up important functions"
   ]
  },
  {
   "cell_type": "code",
   "execution_count": 2,
   "metadata": {},
   "outputs": [],
   "source": [
    "def rescale_frame(frame, percent=50):\n",
    "    '''\n",
    "    Rescale a frame to a certain percentage compare to its original frame\n",
    "    '''\n",
    "    width = int(frame.shape[1] * percent/ 100)\n",
    "    height = int(frame.shape[0] * percent/ 100)\n",
    "    dim = (width, height)\n",
    "    return cv2.resize(frame, dim, interpolation = cv2.INTER_AREA)\n",
    "\n",
    "\n",
    "def describe_dataset(dataset_path: str):\n",
    "    '''\n",
    "    Describe dataset\n",
    "    '''\n",
    "\n",
    "    data = pd.read_csv(dataset_path)\n",
    "    print(f\"Headers: {list(data.columns.values)}\")\n",
    "    print(f'Number of rows: {data.shape[0]} \\nNumber of columns: {data.shape[1]}\\n')\n",
    "    print(f\"Labels: \\n{data['label'].value_counts()}\\n\")\n",
    "    print(f\"Missing values: {data.isnull().values.any()}\\n\")\n",
    "    \n",
    "    duplicate = data[data.duplicated()]\n",
    "    print(f\"Duplicate Rows : {len(duplicate.sum(axis=1))}\")\n",
    "\n",
    "    return data"
   ]
  },
  {
   "cell_type": "markdown",
   "metadata": {},
   "source": [
    "## 2. Describe and process data"
   ]
  },
  {
   "cell_type": "code",
   "execution_count": 3,
   "metadata": {},
   "outputs": [],
   "source": [
    "TRAIN_SET_PATH  = \"./err.train.csv\"\n",
    "TEST_SET_PATH  = \"./err.test.csv\""
   ]
  },
  {
   "cell_type": "code",
   "execution_count": 4,
   "metadata": {},
   "outputs": [
    {
     "name": "stdout",
     "output_type": "stream",
     "text": [
      "Headers: ['label', 'nose_x', 'nose_y', 'nose_z', 'nose_v', 'left_shoulder_x', 'left_shoulder_y', 'left_shoulder_z', 'left_shoulder_v', 'right_shoulder_x', 'right_shoulder_y', 'right_shoulder_z', 'right_shoulder_v', 'left_hip_x', 'left_hip_y', 'left_hip_z', 'left_hip_v', 'right_hip_x', 'right_hip_y', 'right_hip_z', 'right_hip_v', 'left_knee_x', 'left_knee_y', 'left_knee_z', 'left_knee_v', 'right_knee_x', 'right_knee_y', 'right_knee_z', 'right_knee_v', 'left_ankle_x', 'left_ankle_y', 'left_ankle_z', 'left_ankle_v', 'right_ankle_x', 'right_ankle_y', 'right_ankle_z', 'right_ankle_v', 'left_heel_x', 'left_heel_y', 'left_heel_z', 'left_heel_v', 'right_heel_x', 'right_heel_y', 'right_heel_z', 'right_heel_v', 'left_foot_index_x', 'left_foot_index_y', 'left_foot_index_z', 'left_foot_index_v', 'right_foot_index_x', 'right_foot_index_y', 'right_foot_index_z', 'right_foot_index_v']\n",
      "Number of rows: 17907 \n",
      "Number of columns: 53\n",
      "\n",
      "Labels: \n",
      "L    9114\n",
      "C    8793\n",
      "Name: label, dtype: int64\n",
      "\n",
      "Missing values: False\n",
      "\n",
      "Duplicate Rows : 0\n"
     ]
    },
    {
     "data": {
      "text/html": [
       "<div>\n",
       "<style scoped>\n",
       "    .dataframe tbody tr th:only-of-type {\n",
       "        vertical-align: middle;\n",
       "    }\n",
       "\n",
       "    .dataframe tbody tr th {\n",
       "        vertical-align: top;\n",
       "    }\n",
       "\n",
       "    .dataframe thead th {\n",
       "        text-align: right;\n",
       "    }\n",
       "</style>\n",
       "<table border=\"1\" class=\"dataframe\">\n",
       "  <thead>\n",
       "    <tr style=\"text-align: right;\">\n",
       "      <th></th>\n",
       "      <th>label</th>\n",
       "      <th>nose_x</th>\n",
       "      <th>nose_y</th>\n",
       "      <th>nose_z</th>\n",
       "      <th>nose_v</th>\n",
       "      <th>left_shoulder_x</th>\n",
       "      <th>left_shoulder_y</th>\n",
       "      <th>left_shoulder_z</th>\n",
       "      <th>left_shoulder_v</th>\n",
       "      <th>right_shoulder_x</th>\n",
       "      <th>...</th>\n",
       "      <th>right_heel_z</th>\n",
       "      <th>right_heel_v</th>\n",
       "      <th>left_foot_index_x</th>\n",
       "      <th>left_foot_index_y</th>\n",
       "      <th>left_foot_index_z</th>\n",
       "      <th>left_foot_index_v</th>\n",
       "      <th>right_foot_index_x</th>\n",
       "      <th>right_foot_index_y</th>\n",
       "      <th>right_foot_index_z</th>\n",
       "      <th>right_foot_index_v</th>\n",
       "    </tr>\n",
       "  </thead>\n",
       "  <tbody>\n",
       "    <tr>\n",
       "      <th>17904</th>\n",
       "      <td>C</td>\n",
       "      <td>0.647438</td>\n",
       "      <td>0.442268</td>\n",
       "      <td>0.004114</td>\n",
       "      <td>0.999985</td>\n",
       "      <td>0.615798</td>\n",
       "      <td>0.517170</td>\n",
       "      <td>0.151706</td>\n",
       "      <td>0.999579</td>\n",
       "      <td>0.631354</td>\n",
       "      <td>...</td>\n",
       "      <td>-0.034228</td>\n",
       "      <td>0.979719</td>\n",
       "      <td>0.701826</td>\n",
       "      <td>0.880516</td>\n",
       "      <td>0.134222</td>\n",
       "      <td>0.979319</td>\n",
       "      <td>0.504880</td>\n",
       "      <td>0.881748</td>\n",
       "      <td>-0.027911</td>\n",
       "      <td>0.986165</td>\n",
       "    </tr>\n",
       "    <tr>\n",
       "      <th>17905</th>\n",
       "      <td>C</td>\n",
       "      <td>0.649652</td>\n",
       "      <td>0.419057</td>\n",
       "      <td>0.008783</td>\n",
       "      <td>0.999983</td>\n",
       "      <td>0.617577</td>\n",
       "      <td>0.503514</td>\n",
       "      <td>0.158545</td>\n",
       "      <td>0.999529</td>\n",
       "      <td>0.631972</td>\n",
       "      <td>...</td>\n",
       "      <td>-0.061176</td>\n",
       "      <td>0.980431</td>\n",
       "      <td>0.704606</td>\n",
       "      <td>0.880248</td>\n",
       "      <td>0.071476</td>\n",
       "      <td>0.979932</td>\n",
       "      <td>0.504513</td>\n",
       "      <td>0.881766</td>\n",
       "      <td>-0.088832</td>\n",
       "      <td>0.986975</td>\n",
       "    </tr>\n",
       "    <tr>\n",
       "      <th>17906</th>\n",
       "      <td>C</td>\n",
       "      <td>0.653556</td>\n",
       "      <td>0.400394</td>\n",
       "      <td>0.014852</td>\n",
       "      <td>0.999980</td>\n",
       "      <td>0.620734</td>\n",
       "      <td>0.486522</td>\n",
       "      <td>0.169807</td>\n",
       "      <td>0.999556</td>\n",
       "      <td>0.631171</td>\n",
       "      <td>...</td>\n",
       "      <td>-0.138678</td>\n",
       "      <td>0.979078</td>\n",
       "      <td>0.705475</td>\n",
       "      <td>0.878981</td>\n",
       "      <td>0.003690</td>\n",
       "      <td>0.979199</td>\n",
       "      <td>0.504067</td>\n",
       "      <td>0.882642</td>\n",
       "      <td>-0.183304</td>\n",
       "      <td>0.986824</td>\n",
       "    </tr>\n",
       "  </tbody>\n",
       "</table>\n",
       "<p>3 rows × 53 columns</p>\n",
       "</div>"
      ],
      "text/plain": [
       "      label    nose_x    nose_y    nose_z    nose_v  left_shoulder_x  \\\n",
       "17904     C  0.647438  0.442268  0.004114  0.999985         0.615798   \n",
       "17905     C  0.649652  0.419057  0.008783  0.999983         0.617577   \n",
       "17906     C  0.653556  0.400394  0.014852  0.999980         0.620734   \n",
       "\n",
       "       left_shoulder_y  left_shoulder_z  left_shoulder_v  right_shoulder_x  \\\n",
       "17904         0.517170         0.151706         0.999579          0.631354   \n",
       "17905         0.503514         0.158545         0.999529          0.631972   \n",
       "17906         0.486522         0.169807         0.999556          0.631171   \n",
       "\n",
       "       ...  right_heel_z  right_heel_v  left_foot_index_x  left_foot_index_y  \\\n",
       "17904  ...     -0.034228      0.979719           0.701826           0.880516   \n",
       "17905  ...     -0.061176      0.980431           0.704606           0.880248   \n",
       "17906  ...     -0.138678      0.979078           0.705475           0.878981   \n",
       "\n",
       "       left_foot_index_z  left_foot_index_v  right_foot_index_x  \\\n",
       "17904           0.134222           0.979319            0.504880   \n",
       "17905           0.071476           0.979932            0.504513   \n",
       "17906           0.003690           0.979199            0.504067   \n",
       "\n",
       "       right_foot_index_y  right_foot_index_z  right_foot_index_v  \n",
       "17904            0.881748           -0.027911            0.986165  \n",
       "17905            0.881766           -0.088832            0.986975  \n",
       "17906            0.882642           -0.183304            0.986824  \n",
       "\n",
       "[3 rows x 53 columns]"
      ]
     },
     "execution_count": 4,
     "metadata": {},
     "output_type": "execute_result"
    }
   ],
   "source": [
    "df = describe_dataset(TRAIN_SET_PATH)\n",
    "\n",
    "df.tail(3)"
   ]
  },
  {
   "cell_type": "code",
   "execution_count": 5,
   "metadata": {},
   "outputs": [],
   "source": [
    "# Extract features and class\n",
    "X = df.drop(\"label\", axis=1)\n",
    "y = df[\"label\"]\n",
    "\n",
    "sc = StandardScaler()\n",
    "X = pd.DataFrame(sc.fit_transform(X))"
   ]
  },
  {
   "cell_type": "code",
   "execution_count": 6,
   "metadata": {},
   "outputs": [
    {
     "data": {
      "text/plain": [
       "10827    L\n",
       "11395    L\n",
       "3742     C\n",
       "Name: label, dtype: object"
      ]
     },
     "execution_count": 6,
     "metadata": {},
     "output_type": "execute_result"
    }
   ],
   "source": [
    "X_train, X_test, y_train, y_test = train_test_split(X, y, test_size=0.2, random_state=1234)\n",
    "y_test.head(3)"
   ]
  },
  {
   "cell_type": "markdown",
   "metadata": {},
   "source": [
    "## 3. Train & Evaluate Model"
   ]
  },
  {
   "cell_type": "markdown",
   "metadata": {},
   "source": [
    "### 3.1. Train and evaluate model with train set"
   ]
  },
  {
   "cell_type": "code",
   "execution_count": 7,
   "metadata": {},
   "outputs": [],
   "source": [
    "from sklearn.linear_model import LogisticRegression, RidgeClassifier, SGDClassifier\n",
    "from sklearn.svm import SVC\n",
    "from sklearn.neighbors import KNeighborsClassifier\n",
    "from sklearn.tree import DecisionTreeClassifier\n",
    "from sklearn.ensemble import RandomForestClassifier\n",
    "\n",
    "from sklearn.metrics import precision_score, accuracy_score, f1_score, recall_score"
   ]
  },
  {
   "cell_type": "code",
   "execution_count": 8,
   "metadata": {},
   "outputs": [],
   "source": [
    "algorithms =[(\"LR\", LogisticRegression()),\n",
    "         (\"SVC\", SVC()),\n",
    "         ('KNN',KNeighborsClassifier()),\n",
    "         (\"DTC\", DecisionTreeClassifier()),\n",
    "         (\"SGDC\", SGDClassifier()),\n",
    "         (\"Ridge\", RidgeClassifier()),\n",
    "         ('RF', RandomForestClassifier()),]\n",
    "\n",
    "models = {}\n",
    "final_results = []\n",
    "\n",
    "for name, model in algorithms:\n",
    "    trained_model = model.fit(X_train, y_train)\n",
    "    models[name] = trained_model\n",
    "\n",
    "    # Evaluate model\n",
    "    model_results = model.predict(X_test)\n",
    "\n",
    "    p_score = precision_score(y_test, model_results, average=\"macro\")\n",
    "    a_score = accuracy_score(y_test, model_results)\n",
    "    r_score = recall_score(y_test, model_results, average=\"micro\")\n",
    "    f1_score_result = f1_score(y_test, model_results, average=None, labels=[\"C\", \"L\"])\n",
    "    final_results.append(( name, p_score, a_score, r_score, f1_score_result ))\n"
   ]
  },
  {
   "cell_type": "code",
   "execution_count": 9,
   "metadata": {},
   "outputs": [
    {
     "data": {
      "text/html": [
       "<div>\n",
       "<style scoped>\n",
       "    .dataframe tbody tr th:only-of-type {\n",
       "        vertical-align: middle;\n",
       "    }\n",
       "\n",
       "    .dataframe tbody tr th {\n",
       "        vertical-align: top;\n",
       "    }\n",
       "\n",
       "    .dataframe thead th {\n",
       "        text-align: right;\n",
       "    }\n",
       "</style>\n",
       "<table border=\"1\" class=\"dataframe\">\n",
       "  <thead>\n",
       "    <tr style=\"text-align: right;\">\n",
       "      <th></th>\n",
       "      <th>Model</th>\n",
       "      <th>Precision Score</th>\n",
       "      <th>Accuracy score</th>\n",
       "      <th>Recall Score</th>\n",
       "      <th>F1 score</th>\n",
       "    </tr>\n",
       "  </thead>\n",
       "  <tbody>\n",
       "    <tr>\n",
       "      <th>0</th>\n",
       "      <td>KNN</td>\n",
       "      <td>0.999732</td>\n",
       "      <td>0.999721</td>\n",
       "      <td>0.999721</td>\n",
       "      <td>[0.9997081995914795, 0.9997324056729997]</td>\n",
       "    </tr>\n",
       "    <tr>\n",
       "      <th>1</th>\n",
       "      <td>RF</td>\n",
       "      <td>0.999173</td>\n",
       "      <td>0.999162</td>\n",
       "      <td>0.999162</td>\n",
       "      <td>[0.9991245987744383, 0.9991972170189992]</td>\n",
       "    </tr>\n",
       "    <tr>\n",
       "      <th>2</th>\n",
       "      <td>SVC</td>\n",
       "      <td>0.999198</td>\n",
       "      <td>0.999162</td>\n",
       "      <td>0.999162</td>\n",
       "      <td>[0.9991240875912409, 0.9991976464295266]</td>\n",
       "    </tr>\n",
       "    <tr>\n",
       "      <th>3</th>\n",
       "      <td>DTC</td>\n",
       "      <td>0.996039</td>\n",
       "      <td>0.996092</td>\n",
       "      <td>0.996092</td>\n",
       "      <td>[0.995920745920746, 0.9962486602357985]</td>\n",
       "    </tr>\n",
       "    <tr>\n",
       "      <th>4</th>\n",
       "      <td>SGDC</td>\n",
       "      <td>0.994456</td>\n",
       "      <td>0.994417</td>\n",
       "      <td>0.994417</td>\n",
       "      <td>[0.9941588785046729, 0.9946524064171123]</td>\n",
       "    </tr>\n",
       "    <tr>\n",
       "      <th>5</th>\n",
       "      <td>LR</td>\n",
       "      <td>0.993923</td>\n",
       "      <td>0.993858</td>\n",
       "      <td>0.993858</td>\n",
       "      <td>[0.9935710111046172, 0.9941207910208444]</td>\n",
       "    </tr>\n",
       "    <tr>\n",
       "      <th>6</th>\n",
       "      <td>Ridge</td>\n",
       "      <td>0.985028</td>\n",
       "      <td>0.985204</td>\n",
       "      <td>0.985204</td>\n",
       "      <td>[0.9846153846153847, 0.9857488572196828]</td>\n",
       "    </tr>\n",
       "  </tbody>\n",
       "</table>\n",
       "</div>"
      ],
      "text/plain": [
       "   Model  Precision Score  Accuracy score  Recall Score  \\\n",
       "0    KNN         0.999732        0.999721      0.999721   \n",
       "1     RF         0.999173        0.999162      0.999162   \n",
       "2    SVC         0.999198        0.999162      0.999162   \n",
       "3    DTC         0.996039        0.996092      0.996092   \n",
       "4   SGDC         0.994456        0.994417      0.994417   \n",
       "5     LR         0.993923        0.993858      0.993858   \n",
       "6  Ridge         0.985028        0.985204      0.985204   \n",
       "\n",
       "                                   F1 score  \n",
       "0  [0.9997081995914795, 0.9997324056729997]  \n",
       "1  [0.9991245987744383, 0.9991972170189992]  \n",
       "2  [0.9991240875912409, 0.9991976464295266]  \n",
       "3   [0.995920745920746, 0.9962486602357985]  \n",
       "4  [0.9941588785046729, 0.9946524064171123]  \n",
       "5  [0.9935710111046172, 0.9941207910208444]  \n",
       "6  [0.9846153846153847, 0.9857488572196828]  "
      ]
     },
     "execution_count": 9,
     "metadata": {},
     "output_type": "execute_result"
    }
   ],
   "source": [
    "# Sort results by F1 score\n",
    "final_results.sort(key=lambda k: k[4][0] + k[4][1], reverse=True)\n",
    "\n",
    "pd.DataFrame(final_results, columns=[\"Model\", \"Precision Score\", \"Accuracy score\", \"Recall Score\", \"F1 score\"])"
   ]
  },
  {
   "cell_type": "markdown",
   "metadata": {},
   "source": [
    "### 3.2. Test set evaluation"
   ]
  },
  {
   "cell_type": "code",
   "execution_count": 10,
   "metadata": {},
   "outputs": [
    {
     "name": "stdout",
     "output_type": "stream",
     "text": [
      "Headers: ['label', 'nose_x', 'nose_y', 'nose_z', 'nose_v', 'left_shoulder_x', 'left_shoulder_y', 'left_shoulder_z', 'left_shoulder_v', 'right_shoulder_x', 'right_shoulder_y', 'right_shoulder_z', 'right_shoulder_v', 'left_hip_x', 'left_hip_y', 'left_hip_z', 'left_hip_v', 'right_hip_x', 'right_hip_y', 'right_hip_z', 'right_hip_v', 'left_knee_x', 'left_knee_y', 'left_knee_z', 'left_knee_v', 'right_knee_x', 'right_knee_y', 'right_knee_z', 'right_knee_v', 'left_ankle_x', 'left_ankle_y', 'left_ankle_z', 'left_ankle_v', 'right_ankle_x', 'right_ankle_y', 'right_ankle_z', 'right_ankle_v', 'left_heel_x', 'left_heel_y', 'left_heel_z', 'left_heel_v', 'right_heel_x', 'right_heel_y', 'right_heel_z', 'right_heel_v', 'left_foot_index_x', 'left_foot_index_y', 'left_foot_index_z', 'left_foot_index_v', 'right_foot_index_x', 'right_foot_index_y', 'right_foot_index_z', 'right_foot_index_v']\n",
      "Number of rows: 958 \n",
      "Number of columns: 53\n",
      "\n",
      "Labels: \n",
      "C    497\n",
      "L    461\n",
      "Name: label, dtype: int64\n",
      "\n",
      "Missing values: False\n",
      "\n",
      "Duplicate Rows : 0\n"
     ]
    }
   ],
   "source": [
    "test_df = describe_dataset(TEST_SET_PATH)\n",
    "test_df = test_df.sample(frac=1).reset_index(drop=True)\n",
    "\n",
    "test_x = test_df.drop(\"label\", axis=1)\n",
    "test_y = test_df[\"label\"]\n",
    "\n",
    "test_x = pd.DataFrame(sc.transform(test_x))"
   ]
  },
  {
   "cell_type": "code",
   "execution_count": 11,
   "metadata": {},
   "outputs": [
    {
     "data": {
      "text/html": [
       "<div>\n",
       "<style scoped>\n",
       "    .dataframe tbody tr th:only-of-type {\n",
       "        vertical-align: middle;\n",
       "    }\n",
       "\n",
       "    .dataframe tbody tr th {\n",
       "        vertical-align: top;\n",
       "    }\n",
       "\n",
       "    .dataframe thead th {\n",
       "        text-align: right;\n",
       "    }\n",
       "</style>\n",
       "<table border=\"1\" class=\"dataframe\">\n",
       "  <thead>\n",
       "    <tr style=\"text-align: right;\">\n",
       "      <th></th>\n",
       "      <th>Model</th>\n",
       "      <th>Precision Score</th>\n",
       "      <th>Accuracy score</th>\n",
       "      <th>Recall Score</th>\n",
       "      <th>F1 score</th>\n",
       "    </tr>\n",
       "  </thead>\n",
       "  <tbody>\n",
       "    <tr>\n",
       "      <th>0</th>\n",
       "      <td>DTC</td>\n",
       "      <td>0.982268</td>\n",
       "      <td>0.982255</td>\n",
       "      <td>0.982190</td>\n",
       "      <td>[0.9829145728643216, 0.9815418023887079]</td>\n",
       "    </tr>\n",
       "    <tr>\n",
       "      <th>1</th>\n",
       "      <td>KNN</td>\n",
       "      <td>0.974601</td>\n",
       "      <td>0.972860</td>\n",
       "      <td>0.971958</td>\n",
       "      <td>[0.9744094488188977, 0.9711111111111111]</td>\n",
       "    </tr>\n",
       "    <tr>\n",
       "      <th>2</th>\n",
       "      <td>Ridge</td>\n",
       "      <td>0.965356</td>\n",
       "      <td>0.961378</td>\n",
       "      <td>0.959870</td>\n",
       "      <td>[0.9641125121241514, 0.9581920903954801]</td>\n",
       "    </tr>\n",
       "    <tr>\n",
       "      <th>3</th>\n",
       "      <td>LR</td>\n",
       "      <td>0.961039</td>\n",
       "      <td>0.956159</td>\n",
       "      <td>0.954447</td>\n",
       "      <td>[0.9594594594594594, 0.9522727272727273]</td>\n",
       "    </tr>\n",
       "    <tr>\n",
       "      <th>4</th>\n",
       "      <td>SGDC</td>\n",
       "      <td>0.948556</td>\n",
       "      <td>0.940501</td>\n",
       "      <td>0.938178</td>\n",
       "      <td>[0.9457659372026642, 0.9341040462427745]</td>\n",
       "    </tr>\n",
       "    <tr>\n",
       "      <th>5</th>\n",
       "      <td>RF</td>\n",
       "      <td>0.854673</td>\n",
       "      <td>0.820459</td>\n",
       "      <td>0.814549</td>\n",
       "      <td>[0.8488576449912126, 0.7789203084832904]</td>\n",
       "    </tr>\n",
       "    <tr>\n",
       "      <th>6</th>\n",
       "      <td>SVC</td>\n",
       "      <td>0.777929</td>\n",
       "      <td>0.766180</td>\n",
       "      <td>0.761999</td>\n",
       "      <td>[0.7948717948717949, 0.7281553398058254]</td>\n",
       "    </tr>\n",
       "  </tbody>\n",
       "</table>\n",
       "</div>"
      ],
      "text/plain": [
       "   Model  Precision Score  Accuracy score  Recall Score  \\\n",
       "0    DTC         0.982268        0.982255      0.982190   \n",
       "1    KNN         0.974601        0.972860      0.971958   \n",
       "2  Ridge         0.965356        0.961378      0.959870   \n",
       "3     LR         0.961039        0.956159      0.954447   \n",
       "4   SGDC         0.948556        0.940501      0.938178   \n",
       "5     RF         0.854673        0.820459      0.814549   \n",
       "6    SVC         0.777929        0.766180      0.761999   \n",
       "\n",
       "                                   F1 score  \n",
       "0  [0.9829145728643216, 0.9815418023887079]  \n",
       "1  [0.9744094488188977, 0.9711111111111111]  \n",
       "2  [0.9641125121241514, 0.9581920903954801]  \n",
       "3  [0.9594594594594594, 0.9522727272727273]  \n",
       "4  [0.9457659372026642, 0.9341040462427745]  \n",
       "5  [0.8488576449912126, 0.7789203084832904]  \n",
       "6  [0.7948717948717949, 0.7281553398058254]  "
      ]
     },
     "execution_count": 11,
     "metadata": {},
     "output_type": "execute_result"
    }
   ],
   "source": [
    "testset_final_results = []\n",
    "\n",
    "for name, model in models.items():\n",
    "    # Evaluate model\n",
    "    model_results = model.predict(test_x)\n",
    "\n",
    "    p_score = precision_score(test_y, model_results, average=\"macro\")\n",
    "    a_score = accuracy_score(test_y, model_results)\n",
    "    r_score = recall_score(test_y, model_results, average=\"macro\")\n",
    "    f1_score_result = f1_score(test_y, model_results, average=None, labels=[\"C\", \"L\"])\n",
    "    testset_final_results.append(( name, p_score, a_score, r_score, f1_score_result ))\n",
    "\n",
    "\n",
    "testset_final_results.sort(key=lambda k: k[4][0] + k[4][1], reverse=True)\n",
    "pd.DataFrame(testset_final_results, columns=[\"Model\", \"Precision Score\", \"Accuracy score\", \"Recall Score\", \"F1 score\"])"
   ]
  },
  {
   "cell_type": "markdown",
   "metadata": {},
   "source": [
    "## 4. Dump Models \n",
    "\n",
    "According to the evaluation above, DTC and KNN models would be chosen for more eval."
   ]
  },
  {
   "cell_type": "code",
   "execution_count": 14,
   "metadata": {},
   "outputs": [],
   "source": [
    "with open(\"./model/err_DTC_model.pkl\", \"wb\") as f:\n",
    "    pickle.dump(models[\"DTC\"], f)"
   ]
  },
  {
   "cell_type": "code",
   "execution_count": 15,
   "metadata": {},
   "outputs": [],
   "source": [
    "with open(\"./model/err_KNN_model.pkl\", \"wb\") as f:\n",
    "    pickle.dump(models[\"KNN\"], f)"
   ]
  },
  {
   "cell_type": "code",
   "execution_count": null,
   "metadata": {},
   "outputs": [],
   "source": []
  }
 ],
 "metadata": {
  "kernelspec": {
   "display_name": "Python 3.8.13 (conda)",
   "language": "python",
   "name": "python3"
  },
  "language_info": {
   "codemirror_mode": {
    "name": "ipython",
    "version": 3
   },
   "file_extension": ".py",
   "mimetype": "text/x-python",
   "name": "python",
   "nbconvert_exporter": "python",
   "pygments_lexer": "ipython3",
   "version": "3.8.13"
  },
  "orig_nbformat": 4,
  "vscode": {
   "interpreter": {
    "hash": "9260f401923fb5c4108c543a7d176de9733d378b3752e49535ad7c43c2271b65"
   }
  }
 },
 "nbformat": 4,
 "nbformat_minor": 2
}
