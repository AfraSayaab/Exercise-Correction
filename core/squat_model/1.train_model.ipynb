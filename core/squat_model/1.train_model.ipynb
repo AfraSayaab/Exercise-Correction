{
 "cells": [
  {
   "cell_type": "code",
   "execution_count": 1,
   "metadata": {},
   "outputs": [
    {
     "name": "stderr",
     "output_type": "stream",
     "text": [
      "objc[78227]: Class CaptureDelegate is implemented in both /Users/fuixlabsdev1/Programming/PP/graduation-thesis/env/lib/python3.8/site-packages/mediapipe/.dylibs/libopencv_videoio.3.4.16.dylib (0x104b7c860) and /Users/fuixlabsdev1/Programming/PP/graduation-thesis/env/lib/python3.8/site-packages/cv2/cv2.abi3.so (0x159902480). One of the two will be used. Which one is undefined.\n",
      "objc[78227]: Class CVWindow is implemented in both /Users/fuixlabsdev1/Programming/PP/graduation-thesis/env/lib/python3.8/site-packages/mediapipe/.dylibs/libopencv_highgui.3.4.16.dylib (0x103710a68) and /Users/fuixlabsdev1/Programming/PP/graduation-thesis/env/lib/python3.8/site-packages/cv2/cv2.abi3.so (0x1599024d0). One of the two will be used. Which one is undefined.\n",
      "objc[78227]: Class CVView is implemented in both /Users/fuixlabsdev1/Programming/PP/graduation-thesis/env/lib/python3.8/site-packages/mediapipe/.dylibs/libopencv_highgui.3.4.16.dylib (0x103710a90) and /Users/fuixlabsdev1/Programming/PP/graduation-thesis/env/lib/python3.8/site-packages/cv2/cv2.abi3.so (0x1599024f8). One of the two will be used. Which one is undefined.\n",
      "objc[78227]: Class CVSlider is implemented in both /Users/fuixlabsdev1/Programming/PP/graduation-thesis/env/lib/python3.8/site-packages/mediapipe/.dylibs/libopencv_highgui.3.4.16.dylib (0x103710ab8) and /Users/fuixlabsdev1/Programming/PP/graduation-thesis/env/lib/python3.8/site-packages/cv2/cv2.abi3.so (0x159902520). One of the two will be used. Which one is undefined.\n"
     ]
    }
   ],
   "source": [
    "import mediapipe as mp\n",
    "import cv2\n",
    "import numpy as np\n",
    "import pandas as pd\n",
    "import csv\n",
    "import os\n",
    "import matplotlib.pyplot as plt\n",
    "import seaborn as sns\n",
    "\n",
    "import warnings\n",
    "warnings.filterwarnings('ignore')\n",
    "\n",
    "# Drawing helpers\n",
    "mp_drawing = mp.solutions.drawing_utils\n",
    "mp_pose = mp.solutions.pose"
   ]
  },
  {
   "cell_type": "markdown",
   "metadata": {},
   "source": [
    "### 1. Set up important functions"
   ]
  },
  {
   "cell_type": "code",
   "execution_count": 2,
   "metadata": {},
   "outputs": [],
   "source": [
    "def rescale_frame(frame, percent=50):\n",
    "    '''\n",
    "    Rescale a frame to a certain percentage compare to its original frame\n",
    "    '''\n",
    "    width = int(frame.shape[1] * percent/ 100)\n",
    "    height = int(frame.shape[0] * percent/ 100)\n",
    "    dim = (width, height)\n",
    "    return cv2.resize(frame, dim, interpolation =cv2.INTER_AREA)"
   ]
  },
  {
   "cell_type": "markdown",
   "metadata": {},
   "source": [
    "### 2. Capture landmarks and Export to CSV"
   ]
  },
  {
   "cell_type": "markdown",
   "metadata": {},
   "source": [
    "#### Generate Data Frame\n",
    "\n",
    "According to my research *the correct form* for a squat is analyzed through the position of:\n",
    "- Back\n",
    "- Hip\n",
    "- Legs\n",
    "\n",
    "Therefore, there will be *9 keypoints* which will be extract from mediapipe in order to train or detect a correct form of a squat:\n",
    "- \"NOSE\",\n",
    "- \"LEFT_SHOULDER\",\n",
    "- \"RIGHT_SHOULDER\",\n",
    "- \"LEFT_HIP\",\n",
    "- \"RIGHT_HIP\",\n",
    "- \"LEFT_KNEE\",\n",
    "- \"RIGHT_KNEE\",\n",
    "- \"LEFT_ANKLE\",\n",
    "- \"RIGHT_ANKLE\"\n",
    "\n",
    "The data frame will be saved in a .csv file.\n",
    "\n",
    "A data frame will contains a \"Label\" columns which represent the label of a data point.\n",
    "\n",
    "There are another 9 x 4 columns represent 9 features of a human pose that are important for a squat.\n",
    "In that each landmark's info will be flatten\n",
    "\n",
    "According to the [Mediapipe documentation](https://google.github.io/mediapipe/solutions/pose#python-solution-api),\n",
    "Each landmark consists of the following:\n",
    "- x and y: Landmark coordinates normalized to [0.0, 1.0] by the image width and height respectively.\n",
    "- z: Represents the landmark depth with the depth at the midpoint of hips being the origin, and the smaller the value the closer the landmark is to the camera. The magnitude of z uses roughly the same scale as x.\n",
    "- visibility: A value in [0.0, 1.0] indicating the likelihood of the landmark being visible (present and not occluded) in the image."
   ]
  },
  {
   "cell_type": "code",
   "execution_count": 4,
   "metadata": {},
   "outputs": [],
   "source": [
    "# Determine important landmarks for squat\n",
    "IMPORTANT_LMS = [\n",
    "    \"NOSE\",\n",
    "    \"LEFT_SHOULDER\",\n",
    "    \"RIGHT_SHOULDER\",\n",
    "    \"LEFT_HIP\",\n",
    "    \"RIGHT_HIP\",\n",
    "    \"LEFT_KNEE\",\n",
    "    \"RIGHT_KNEE\",\n",
    "    \"LEFT_ANKLE\",\n",
    "    \"RIGHT_ANKLE\"\n",
    "]\n",
    "\n",
    "# Generate all columns of the data frame\n",
    "\n",
    "landmarks = [\"label\"] # Label column\n",
    "\n",
    "for lm in IMPORTANT_LMS:\n",
    "    landmarks += [f\"{lm.lower()}_x\", f\"{lm.lower()}_y\", f\"{lm.lower()}_z\", f\"{lm.lower()}_v\"]"
   ]
  },
  {
   "cell_type": "code",
   "execution_count": 8,
   "metadata": {},
   "outputs": [],
   "source": []
  },
  {
   "cell_type": "code",
   "execution_count": 29,
   "metadata": {},
   "outputs": [
    {
     "data": {
      "text/plain": [
       "['nose_x',\n",
       " 'nose_y',\n",
       " 'nose_z',\n",
       " 'nose_v',\n",
       " 'left_shoulder_x',\n",
       " 'left_shoulder_y',\n",
       " 'left_shoulder_z',\n",
       " 'left_shoulder_v',\n",
       " 'right_shoulder_x',\n",
       " 'right_shoulder_y',\n",
       " 'right_shoulder_z',\n",
       " 'right_shoulder_v',\n",
       " 'left_hip_x',\n",
       " 'left_hip_y',\n",
       " 'left_hip_z',\n",
       " 'left_hip_v',\n",
       " 'right_hip_x',\n",
       " 'right_hip_y',\n",
       " 'right_hip_z',\n",
       " 'right_hip_v',\n",
       " 'left_knee_x',\n",
       " 'left_knee_y',\n",
       " 'left_knee_z',\n",
       " 'left_knee_v',\n",
       " 'right_knee_x',\n",
       " 'right_knee_y',\n",
       " 'right_knee_z',\n",
       " 'right_knee_v',\n",
       " 'left_ankle_x',\n",
       " 'left_ankle_y',\n",
       " 'left_ankle_z',\n",
       " 'left_ankle_v',\n",
       " 'right_ankle_x',\n",
       " 'right_ankle_y',\n",
       " 'right_ankle_z',\n",
       " 'right_ankle_v']"
      ]
     },
     "execution_count": 29,
     "metadata": {},
     "output_type": "execute_result"
    }
   ],
   "source": [
    "landmarks[1:]"
   ]
  },
  {
   "cell_type": "code",
   "execution_count": 48,
   "metadata": {},
   "outputs": [],
   "source": [
    "DATASET_PATH = \"./data_frame.csv\"\n",
    "\n",
    "def init_csv(dataset_path: str):\n",
    "    '''\n",
    "    Create a blank csv file with just columns\n",
    "    '''\n",
    "\n",
    "    # Write all the columns to a file\n",
    "    with open(dataset_path, mode=\"w\", newline=\"\") as f:\n",
    "        csv_writer = csv.writer(f, delimiter=\",\", quotechar='\"', quoting=csv.QUOTE_MINIMAL)\n",
    "        csv_writer.writerow(landmarks)"
   ]
  },
  {
   "cell_type": "code",
   "execution_count": null,
   "metadata": {},
   "outputs": [],
   "source": [
    "# landmarks = results.pose_landmarks.landmark\n",
    "# for res in landmarks:\n",
    "#     for lm in IMPORTANT_LMS:\n",
    "#         keypoints = landmarks[mp_pose.PoseLandmark[lm].value]\n",
    "#         print(lm, keypoints)"
   ]
  },
  {
   "cell_type": "code",
   "execution_count": 6,
   "metadata": {},
   "outputs": [],
   "source": [
    "\n",
    "def export_landmark_to_csv(dataset_path: str, results, action: str) -> None:\n",
    "    '''\n",
    "    Export Labeled Data from detected landmark to csv\n",
    "    '''\n",
    "    landmarks = results.pose_landmarks.landmark\n",
    "    keypoints = []\n",
    "\n",
    "    try:\n",
    "        # Extract coordinate of important landmarks\n",
    "        for lm in IMPORTANT_LMS:\n",
    "            keypoint = landmarks[mp_pose.PoseLandmark[lm].value]\n",
    "            keypoints.append([keypoint.x, keypoint.y, keypoint.z, keypoint.visibility])\n",
    "        \n",
    "        keypoints = list(np.array(keypoints).flatten())\n",
    "\n",
    "        # Insert action as the label (first column)\n",
    "        keypoints.insert(0, action)\n",
    "\n",
    "        # Append new row to .csv file\n",
    "        with open(dataset_path, mode=\"a\", newline=\"\") as f:\n",
    "            csv_writer = csv.writer(f, delimiter=\",\", quotechar='\"', quoting=csv.QUOTE_MINIMAL)\n",
    "            csv_writer.writerow(keypoints)\n",
    "        \n",
    "\n",
    "    except Exception as e:\n",
    "        print(e)\n",
    "        pass\n",
    "\n",
    "\n",
    "def describe_dataset(dataset_path: str):\n",
    "    '''\n",
    "    Describe dataset\n",
    "    '''\n",
    "\n",
    "    data = pd.read_csv(dataset_path)\n",
    "    print(f\"Headers: {list(data.columns.values)}\")\n",
    "    print(f'Number of rows: {data.shape[0]} \\nNumber of columns: {data.shape[1]}\\n')\n",
    "    print(f\"Labels: \\n{data['label'].value_counts()}\\n\")\n",
    "    print(f\"Missing values: {data.isnull().values.any()}\\n\")\n",
    "    duplicate = data[data.duplicated()]\n",
    "    print(f\"Duplicate Rows : {duplicate.sum(axis=1)}\")\n",
    "\n",
    "    return data\n",
    "    "
   ]
  },
  {
   "cell_type": "markdown",
   "metadata": {},
   "source": [
    "Extract and labeled data from the video dataset"
   ]
  },
  {
   "cell_type": "code",
   "execution_count": 72,
   "metadata": {},
   "outputs": [],
   "source": [
    "cap = cv2.VideoCapture(\"../data/squat_right_4.mp4\")\n",
    "up_save_count = 0\n",
    "down_save_count = 0\n",
    "\n",
    "# path = \"./squat4.csv\"\n",
    "\n",
    "init_csv(DATASET_PATH)\n",
    "\n",
    "with mp_pose.Pose(min_detection_confidence=0.5, min_tracking_confidence=0.5) as pose:\n",
    "    while cap.isOpened():\n",
    "        ret, image = cap.read()\n",
    "\n",
    "        # Reduce size of a frame\n",
    "        image = rescale_frame(image, 80)\n",
    "\n",
    "        if not ret:\n",
    "            break\n",
    "\n",
    "        # Recolor image from BGR to RGB for mediapipe\n",
    "        image = cv2.cvtColor(image, cv2.COLOR_BGR2RGB)\n",
    "        image.flags.writeable = False\n",
    "\n",
    "        results = pose.process(image)\n",
    "\n",
    "        # Recolor image from BGR to RGB for mediapipe\n",
    "        image.flags.writeable = True\n",
    "        image = cv2.cvtColor(image, cv2.COLOR_RGB2BGR)\n",
    "\n",
    "        # Draw landmarks and connections\n",
    "        mp_drawing.draw_landmarks(image, results.pose_landmarks, mp_pose.POSE_CONNECTIONS, mp_drawing.DrawingSpec(color=(244, 117, 66), thickness=2, circle_radius=4), mp_drawing.DrawingSpec(color=(245, 66, 230), thickness=2, circle_radius=2))\n",
    "\n",
    "        # Display the saved count\n",
    "        cv2.putText(image, f\"UP saved: {up_save_count}\", (50, 150), cv2.FONT_HERSHEY_COMPLEX, 2, (255, 255, 255), 1, cv2.LINE_AA)\n",
    "        cv2.putText(image, f\"DOWN saved: {down_save_count}\", (50, 200), cv2.FONT_HERSHEY_COMPLEX, 2, (255, 255, 255), 1, cv2.LINE_AA)\n",
    "\n",
    "        cv2.imshow(\"CV2\", image)\n",
    "        # Press to extract and save to .csv\n",
    "        pressed_key = cv2.waitKey(1)\n",
    "\n",
    "        # Pressed U to label frame as UP position\n",
    "        if pressed_key == 117:\n",
    "            export_landmark_to_csv(DATASET_PATH, results, \"up\")\n",
    "            up_save_count += 1\n",
    "\n",
    "        # Pressed D to label frame as DOWN position\n",
    "        if pressed_key == 100:\n",
    "            export_landmark_to_csv(DATASET_PATH, results, \"down\")\n",
    "            down_save_count += 1\n",
    "        \n",
    "        \n",
    "        # Press Q to close cv2 window\n",
    "        if cv2.waitKey(10) & 0xFF == ord('q'):\n",
    "            break\n",
    "\n",
    "    cap.release()\n",
    "    cv2.destroyAllWindows()\n",
    "\n",
    "    # (Optional)Fix bugs cannot close windows in MacOS (https://stackoverflow.com/questions/6116564/destroywindow-does-not-close-window-on-mac-using-python-and-opencv)\n",
    "    for i in range (1, 5):\n",
    "        cv2.waitKey(1)\n",
    "        "
   ]
  },
  {
   "cell_type": "code",
   "execution_count": null,
   "metadata": {},
   "outputs": [],
   "source": [
    "def concat_csv_files_with_same_headers(file_paths: list, saved_path: str):\n",
    "    '''\n",
    "    Concat different csv files\n",
    "    '''\n",
    "    all_df = []\n",
    "    for path in file_paths:\n",
    "        df = pd.read_csv(path, index_col=None, header=0)\n",
    "        all_df.append(df)\n",
    "    \n",
    "    results = pd.concat(all_df, axis=0, ignore_index=True)\n",
    "    results.to_csv(saved_path, sep=',', encoding='utf-8', index=False)\n",
    "\n",
    "# concat_csv_files_with_same_headers([\"./squat1.csv\", \"./squat2.csv\", \"./squat3.csv\", \"./squat4.csv\"], DATASET_PATH)"
   ]
  },
  {
   "cell_type": "markdown",
   "metadata": {},
   "source": [
    "### 4. Train custom model using Scikit Learn"
   ]
  },
  {
   "cell_type": "markdown",
   "metadata": {},
   "source": [
    "#### 4.1 Read and describe data"
   ]
  },
  {
   "cell_type": "code",
   "execution_count": 106,
   "metadata": {},
   "outputs": [],
   "source": [
    "from sklearn.model_selection import train_test_split"
   ]
  },
  {
   "cell_type": "code",
   "execution_count": 9,
   "metadata": {},
   "outputs": [
    {
     "name": "stdout",
     "output_type": "stream",
     "text": [
      "Headers: ['label', 'nose_x', 'nose_y', 'nose_z', 'nose_v', 'left_shoulder_x', 'left_shoulder_y', 'left_shoulder_z', 'left_shoulder_v', 'right_shoulder_x', 'right_shoulder_y', 'right_shoulder_z', 'right_shoulder_v', 'left_hip_x', 'left_hip_y', 'left_hip_z', 'left_hip_v', 'right_hip_x', 'right_hip_y', 'right_hip_z', 'right_hip_v', 'left_knee_x', 'left_knee_y', 'left_knee_z', 'left_knee_v', 'right_knee_x', 'right_knee_y', 'right_knee_z', 'right_knee_v', 'left_ankle_x', 'left_ankle_y', 'left_ankle_z', 'left_ankle_v', 'right_ankle_x', 'right_ankle_y', 'right_ankle_z', 'right_ankle_v']\n",
      "Number of rows: 374 \n",
      "Number of columns: 37\n",
      "\n",
      "Labels: \n",
      "up      188\n",
      "down    186\n",
      "Name: label, dtype: int64\n",
      "\n",
      "Missing values: False\n",
      "\n",
      "Duplicate Rows : Series([], dtype: float64)\n"
     ]
    },
    {
     "data": {
      "text/html": [
       "<div>\n",
       "<style scoped>\n",
       "    .dataframe tbody tr th:only-of-type {\n",
       "        vertical-align: middle;\n",
       "    }\n",
       "\n",
       "    .dataframe tbody tr th {\n",
       "        vertical-align: top;\n",
       "    }\n",
       "\n",
       "    .dataframe thead th {\n",
       "        text-align: right;\n",
       "    }\n",
       "</style>\n",
       "<table border=\"1\" class=\"dataframe\">\n",
       "  <thead>\n",
       "    <tr style=\"text-align: right;\">\n",
       "      <th></th>\n",
       "      <th>label</th>\n",
       "      <th>nose_x</th>\n",
       "      <th>nose_y</th>\n",
       "      <th>nose_z</th>\n",
       "      <th>nose_v</th>\n",
       "      <th>left_shoulder_x</th>\n",
       "      <th>left_shoulder_y</th>\n",
       "      <th>left_shoulder_z</th>\n",
       "      <th>left_shoulder_v</th>\n",
       "      <th>right_shoulder_x</th>\n",
       "      <th>...</th>\n",
       "      <th>right_knee_z</th>\n",
       "      <th>right_knee_v</th>\n",
       "      <th>left_ankle_x</th>\n",
       "      <th>left_ankle_y</th>\n",
       "      <th>left_ankle_z</th>\n",
       "      <th>left_ankle_v</th>\n",
       "      <th>right_ankle_x</th>\n",
       "      <th>right_ankle_y</th>\n",
       "      <th>right_ankle_z</th>\n",
       "      <th>right_ankle_v</th>\n",
       "    </tr>\n",
       "  </thead>\n",
       "  <tbody>\n",
       "    <tr>\n",
       "      <th>0</th>\n",
       "      <td>down</td>\n",
       "      <td>0.600248</td>\n",
       "      <td>0.433268</td>\n",
       "      <td>-0.006637</td>\n",
       "      <td>0.999949</td>\n",
       "      <td>0.650759</td>\n",
       "      <td>0.517787</td>\n",
       "      <td>0.041632</td>\n",
       "      <td>0.994121</td>\n",
       "      <td>0.571711</td>\n",
       "      <td>...</td>\n",
       "      <td>-0.133012</td>\n",
       "      <td>0.976462</td>\n",
       "      <td>0.659328</td>\n",
       "      <td>0.836607</td>\n",
       "      <td>-0.294549</td>\n",
       "      <td>0.994219</td>\n",
       "      <td>0.575143</td>\n",
       "      <td>0.814380</td>\n",
       "      <td>-0.157936</td>\n",
       "      <td>0.966270</td>\n",
       "    </tr>\n",
       "    <tr>\n",
       "      <th>1</th>\n",
       "      <td>down</td>\n",
       "      <td>0.600160</td>\n",
       "      <td>0.449894</td>\n",
       "      <td>-0.008615</td>\n",
       "      <td>0.999966</td>\n",
       "      <td>0.651127</td>\n",
       "      <td>0.535333</td>\n",
       "      <td>0.036240</td>\n",
       "      <td>0.994432</td>\n",
       "      <td>0.571456</td>\n",
       "      <td>...</td>\n",
       "      <td>-0.115595</td>\n",
       "      <td>0.974204</td>\n",
       "      <td>0.659568</td>\n",
       "      <td>0.831231</td>\n",
       "      <td>-0.279601</td>\n",
       "      <td>0.993431</td>\n",
       "      <td>0.576560</td>\n",
       "      <td>0.812989</td>\n",
       "      <td>-0.135235</td>\n",
       "      <td>0.959162</td>\n",
       "    </tr>\n",
       "    <tr>\n",
       "      <th>2</th>\n",
       "      <td>down</td>\n",
       "      <td>0.599425</td>\n",
       "      <td>0.466234</td>\n",
       "      <td>-0.047636</td>\n",
       "      <td>0.999957</td>\n",
       "      <td>0.651464</td>\n",
       "      <td>0.550511</td>\n",
       "      <td>-0.021722</td>\n",
       "      <td>0.994265</td>\n",
       "      <td>0.571824</td>\n",
       "      <td>...</td>\n",
       "      <td>-0.084128</td>\n",
       "      <td>0.949108</td>\n",
       "      <td>0.659044</td>\n",
       "      <td>0.828410</td>\n",
       "      <td>-0.202085</td>\n",
       "      <td>0.987354</td>\n",
       "      <td>0.575949</td>\n",
       "      <td>0.813362</td>\n",
       "      <td>-0.053549</td>\n",
       "      <td>0.928765</td>\n",
       "    </tr>\n",
       "    <tr>\n",
       "      <th>3</th>\n",
       "      <td>down</td>\n",
       "      <td>0.597382</td>\n",
       "      <td>0.485779</td>\n",
       "      <td>-0.057994</td>\n",
       "      <td>0.999926</td>\n",
       "      <td>0.651386</td>\n",
       "      <td>0.571049</td>\n",
       "      <td>-0.023268</td>\n",
       "      <td>0.994848</td>\n",
       "      <td>0.572379</td>\n",
       "      <td>...</td>\n",
       "      <td>-0.069531</td>\n",
       "      <td>0.921725</td>\n",
       "      <td>0.658455</td>\n",
       "      <td>0.832319</td>\n",
       "      <td>-0.168358</td>\n",
       "      <td>0.982599</td>\n",
       "      <td>0.576511</td>\n",
       "      <td>0.813286</td>\n",
       "      <td>-0.058735</td>\n",
       "      <td>0.904242</td>\n",
       "    </tr>\n",
       "    <tr>\n",
       "      <th>4</th>\n",
       "      <td>down</td>\n",
       "      <td>0.594474</td>\n",
       "      <td>0.438586</td>\n",
       "      <td>-0.041261</td>\n",
       "      <td>0.999931</td>\n",
       "      <td>0.650657</td>\n",
       "      <td>0.518908</td>\n",
       "      <td>-0.003251</td>\n",
       "      <td>0.993209</td>\n",
       "      <td>0.571241</td>\n",
       "      <td>...</td>\n",
       "      <td>-0.119639</td>\n",
       "      <td>0.969358</td>\n",
       "      <td>0.658565</td>\n",
       "      <td>0.836644</td>\n",
       "      <td>-0.274596</td>\n",
       "      <td>0.994046</td>\n",
       "      <td>0.576144</td>\n",
       "      <td>0.815093</td>\n",
       "      <td>-0.117950</td>\n",
       "      <td>0.965770</td>\n",
       "    </tr>\n",
       "  </tbody>\n",
       "</table>\n",
       "<p>5 rows × 37 columns</p>\n",
       "</div>"
      ],
      "text/plain": [
       "  label    nose_x    nose_y    nose_z    nose_v  left_shoulder_x  \\\n",
       "0  down  0.600248  0.433268 -0.006637  0.999949         0.650759   \n",
       "1  down  0.600160  0.449894 -0.008615  0.999966         0.651127   \n",
       "2  down  0.599425  0.466234 -0.047636  0.999957         0.651464   \n",
       "3  down  0.597382  0.485779 -0.057994  0.999926         0.651386   \n",
       "4  down  0.594474  0.438586 -0.041261  0.999931         0.650657   \n",
       "\n",
       "   left_shoulder_y  left_shoulder_z  left_shoulder_v  right_shoulder_x  ...  \\\n",
       "0         0.517787         0.041632         0.994121          0.571711  ...   \n",
       "1         0.535333         0.036240         0.994432          0.571456  ...   \n",
       "2         0.550511        -0.021722         0.994265          0.571824  ...   \n",
       "3         0.571049        -0.023268         0.994848          0.572379  ...   \n",
       "4         0.518908        -0.003251         0.993209          0.571241  ...   \n",
       "\n",
       "   right_knee_z  right_knee_v  left_ankle_x  left_ankle_y  left_ankle_z  \\\n",
       "0     -0.133012      0.976462      0.659328      0.836607     -0.294549   \n",
       "1     -0.115595      0.974204      0.659568      0.831231     -0.279601   \n",
       "2     -0.084128      0.949108      0.659044      0.828410     -0.202085   \n",
       "3     -0.069531      0.921725      0.658455      0.832319     -0.168358   \n",
       "4     -0.119639      0.969358      0.658565      0.836644     -0.274596   \n",
       "\n",
       "   left_ankle_v  right_ankle_x  right_ankle_y  right_ankle_z  right_ankle_v  \n",
       "0      0.994219       0.575143       0.814380      -0.157936       0.966270  \n",
       "1      0.993431       0.576560       0.812989      -0.135235       0.959162  \n",
       "2      0.987354       0.575949       0.813362      -0.053549       0.928765  \n",
       "3      0.982599       0.576511       0.813286      -0.058735       0.904242  \n",
       "4      0.994046       0.576144       0.815093      -0.117950       0.965770  \n",
       "\n",
       "[5 rows x 37 columns]"
      ]
     },
     "execution_count": 9,
     "metadata": {},
     "output_type": "execute_result"
    }
   ],
   "source": [
    "# Brief describe of the dataset\n",
    "df = describe_dataset(\"./dataset.csv\")\n",
    "df.head(5)"
   ]
  },
  {
   "cell_type": "code",
   "execution_count": null,
   "metadata": {},
   "outputs": [],
   "source": [
    "t = df[['nose_x', 'nose_y', 'nose_z', 'nose_v', 'left_shoulder_x', 'left_shoulder_y', 'left_shoulder_z', 'left_shoulder_v', 'right_shoulder_x', 'right_shoulder_y', 'right_shoulder_z', 'right_shoulder_v', 'left_hip_x', 'left_hip_y', 'left_hip_z', 'left_hip_v', 'right_hip_x', 'right_hip_y', 'right_hip_z', 'right_hip_v', 'left_knee_x', 'left_knee_y', 'left_knee_z', 'left_knee_v', 'right_knee_x', 'right_knee_y', 'right_knee_z', 'right_knee_v', 'left_ankle_x', 'left_ankle_y', 'left_ankle_z', 'left_ankle_v', 'right_ankle_x', 'right_ankle_y', 'right_ankle_z', 'right_ankle_v']].apply(lambda x: pd.Series.round(x, 2))\n",
    "t.to_csv(\"round.csv\")"
   ]
  },
  {
   "cell_type": "code",
   "execution_count": 12,
   "metadata": {},
   "outputs": [
    {
     "data": {
      "text/plain": [
       "<AxesSubplot:xlabel='count', ylabel='label'>"
      ]
     },
     "execution_count": 12,
     "metadata": {},
     "output_type": "execute_result"
    },
    {
     "data": {
      "image/png": "[encoded data removed]",
      "text/plain": [
       "<Figure size 640x480 with 1 Axes>"
      ]
     },
     "metadata": {},
     "output_type": "display_data"
    }
   ],
   "source": [
    "sns.countplot(y='label', data=df, palette=\"Set1\")"
   ]
  },
  {
   "cell_type": "code",
   "execution_count": 105,
   "metadata": {},
   "outputs": [],
   "source": [
    "# Extract features and class\n",
    "\n",
    "X = df.drop(\"label\", axis=1) # features\n",
    "y = df[\"label\"]\n"
   ]
  },
  {
   "cell_type": "code",
   "execution_count": 108,
   "metadata": {},
   "outputs": [],
   "source": [
    "# Split train set and test set\n",
    "\n",
    "X_train, X_test, y_train, y_test = train_test_split(X, y, test_size=0.3, random_state=1234)"
   ]
  },
  {
   "cell_type": "code",
   "execution_count": 110,
   "metadata": {},
   "outputs": [
    {
     "data": {
      "text/plain": [
       "286    down\n",
       "71       up\n",
       "66       up\n",
       "118      up\n",
       "29     down\n",
       "67       up\n",
       "149    down\n",
       "64       up\n",
       "91       up\n",
       "133      up\n",
       "Name: label, dtype: object"
      ]
     },
     "execution_count": 110,
     "metadata": {},
     "output_type": "execute_result"
    }
   ],
   "source": [
    "y_test.head(10)"
   ]
  },
  {
   "cell_type": "markdown",
   "metadata": {},
   "source": [
    "#### 4.2 Train Machine learning model"
   ]
  },
  {
   "cell_type": "code",
   "execution_count": 129,
   "metadata": {},
   "outputs": [],
   "source": [
    "from sklearn.linear_model import LogisticRegression, RidgeClassifier, SGDClassifier\n",
    "from sklearn.svm import SVC\n",
    "from sklearn.neighbors import KNeighborsClassifier\n",
    "from sklearn.tree import DecisionTreeClassifier\n",
    "from sklearn.ensemble import RandomForestClassifier\n",
    "\n",
    "from sklearn.metrics import precision_score, accuracy_score, f1_score, recall_score"
   ]
  },
  {
   "cell_type": "code",
   "execution_count": 138,
   "metadata": {},
   "outputs": [],
   "source": [
    "algorithms =[(\"LR\", LogisticRegression()),\n",
    "         (\"SVC\", SVC()),\n",
    "         ('KNN',KNeighborsClassifier()),\n",
    "         (\"DTC\", DecisionTreeClassifier()),\n",
    "         (\"SGDC\", SGDClassifier()),\n",
    "         (\"Ridge\", RidgeClassifier()),\n",
    "         ('RF', RandomForestClassifier()),]\n",
    "\n",
    "models = {}\n",
    "final_results = []\n",
    "\n",
    "for name, model in algorithms:\n",
    "    trained_model = model.fit(X_train, y_train)\n",
    "    models[name] = trained_model\n",
    "\n",
    "    # Evaluate model\n",
    "    model_results = model.predict(X_test)\n",
    "\n",
    "    p_score = precision_score(y_test, model_results, average=\"macro\")\n",
    "    a_score = accuracy_score(y_test, model_results)\n",
    "    f1_score_result = f1_score(y_test, model_results, average=None, labels=[\"down\", \"up\"])\n",
    "    final_results.append(( name, p_score, a_score, f1_score_result ))\n",
    "\n",
    "\n",
    "final_results.sort(key=lambda k: k[3][0] + k[3][1], reverse=True)"
   ]
  },
  {
   "cell_type": "code",
   "execution_count": 139,
   "metadata": {},
   "outputs": [
    {
     "data": {
      "text/html": [
       "<div>\n",
       "<style scoped>\n",
       "    .dataframe tbody tr th:only-of-type {\n",
       "        vertical-align: middle;\n",
       "    }\n",
       "\n",
       "    .dataframe tbody tr th {\n",
       "        vertical-align: top;\n",
       "    }\n",
       "\n",
       "    .dataframe thead th {\n",
       "        text-align: right;\n",
       "    }\n",
       "</style>\n",
       "<table border=\"1\" class=\"dataframe\">\n",
       "  <thead>\n",
       "    <tr style=\"text-align: right;\">\n",
       "      <th></th>\n",
       "      <th>Model</th>\n",
       "      <th>Precision Score</th>\n",
       "      <th>Accuracy score</th>\n",
       "      <th>F1 score</th>\n",
       "    </tr>\n",
       "  </thead>\n",
       "  <tbody>\n",
       "    <tr>\n",
       "      <th>0</th>\n",
       "      <td>LR</td>\n",
       "      <td>1.000000</td>\n",
       "      <td>1.000000</td>\n",
       "      <td>[1.0, 1.0]</td>\n",
       "    </tr>\n",
       "    <tr>\n",
       "      <th>1</th>\n",
       "      <td>SVC</td>\n",
       "      <td>1.000000</td>\n",
       "      <td>1.000000</td>\n",
       "      <td>[1.0, 1.0]</td>\n",
       "    </tr>\n",
       "    <tr>\n",
       "      <th>2</th>\n",
       "      <td>DTC</td>\n",
       "      <td>1.000000</td>\n",
       "      <td>1.000000</td>\n",
       "      <td>[1.0, 1.0]</td>\n",
       "    </tr>\n",
       "    <tr>\n",
       "      <th>3</th>\n",
       "      <td>Ridge</td>\n",
       "      <td>1.000000</td>\n",
       "      <td>1.000000</td>\n",
       "      <td>[1.0, 1.0]</td>\n",
       "    </tr>\n",
       "    <tr>\n",
       "      <th>4</th>\n",
       "      <td>RF</td>\n",
       "      <td>1.000000</td>\n",
       "      <td>1.000000</td>\n",
       "      <td>[1.0, 1.0]</td>\n",
       "    </tr>\n",
       "    <tr>\n",
       "      <th>5</th>\n",
       "      <td>KNN</td>\n",
       "      <td>0.991667</td>\n",
       "      <td>0.991150</td>\n",
       "      <td>[0.9915966386554621, 0.9906542056074767]</td>\n",
       "    </tr>\n",
       "    <tr>\n",
       "      <th>6</th>\n",
       "      <td>SGDC</td>\n",
       "      <td>0.983607</td>\n",
       "      <td>0.982301</td>\n",
       "      <td>[0.9833333333333333, 0.9811320754716981]</td>\n",
       "    </tr>\n",
       "  </tbody>\n",
       "</table>\n",
       "</div>"
      ],
      "text/plain": [
       "   Model  Precision Score  Accuracy score  \\\n",
       "0     LR         1.000000        1.000000   \n",
       "1    SVC         1.000000        1.000000   \n",
       "2    DTC         1.000000        1.000000   \n",
       "3  Ridge         1.000000        1.000000   \n",
       "4     RF         1.000000        1.000000   \n",
       "5    KNN         0.991667        0.991150   \n",
       "6   SGDC         0.983607        0.982301   \n",
       "\n",
       "                                   F1 score  \n",
       "0                                [1.0, 1.0]  \n",
       "1                                [1.0, 1.0]  \n",
       "2                                [1.0, 1.0]  \n",
       "3                                [1.0, 1.0]  \n",
       "4                                [1.0, 1.0]  \n",
       "5  [0.9915966386554621, 0.9906542056074767]  \n",
       "6  [0.9833333333333333, 0.9811320754716981]  "
      ]
     },
     "execution_count": 139,
     "metadata": {},
     "output_type": "execute_result"
    }
   ],
   "source": [
    "# Display model results \n",
    "\n",
    "pd.DataFrame(final_results, columns=[\"Model\", \"Precision Score\", \"Accuracy score\" , \"F1 score\"])"
   ]
  },
  {
   "cell_type": "markdown",
   "metadata": {},
   "source": [
    "#### 4.3. Dumped model using pickle\n",
    "\n",
    "According to the evaluations, there are multiple good models at the moment, therefore, I will pick the Random Forrest model to use."
   ]
  },
  {
   "cell_type": "code",
   "execution_count": 152,
   "metadata": {},
   "outputs": [],
   "source": [
    "# Dump the best model to a pickle file\n",
    "import pickle\n",
    "\n",
    "with open(\"./squat_model.pkl\", \"wb\") as f:\n",
    "    pickle.dump(models[\"RF\"], f)"
   ]
  }
 ],
 "metadata": {
  "kernelspec": {
   "display_name": "Python 3.8.13 (conda)",
   "language": "python",
   "name": "python3"
  },
  "language_info": {
   "codemirror_mode": {
    "name": "ipython",
    "version": 3
   },
   "file_extension": ".py",
   "mimetype": "text/x-python",
   "name": "python",
   "nbconvert_exporter": "python",
   "pygments_lexer": "ipython3",
   "version": "3.8.13"
  },
  "orig_nbformat": 4,
  "vscode": {
   "interpreter": {
    "hash": "9260f401923fb5c4108c543a7d176de9733d378b3752e49535ad7c43c2271b65"
   }
  }
 },
 "nbformat": 4,
 "nbformat_minor": 2
}
