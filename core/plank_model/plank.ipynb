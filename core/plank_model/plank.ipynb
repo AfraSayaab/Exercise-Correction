{
 "cells": [
  {
   "cell_type": "markdown",
   "metadata": {},
   "source": [
    "## Import Libraries"
   ]
  },
  {
   "cell_type": "code",
   "execution_count": 32,
   "metadata": {},
   "outputs": [],
   "source": [
    "import pandas as pd\n",
    "from keras.models import Sequential\n",
    "from keras.layers import Dense\n",
    "import numpy as np\n",
    "from sklearn.preprocessing import StandardScaler\n",
    "from sklearn.preprocessing import OneHotEncoder\n",
    "from sklearn.model_selection import train_test_split\n",
    "from sklearn.metrics import confusion_matrix\n",
    "import matplotlib.pyplot as plt\n",
    "import seaborn as sns\n",
    "import os"
   ]
  },
  {
   "cell_type": "markdown",
   "metadata": {},
   "source": [
    "### Read Data from data frame"
   ]
  },
  {
   "cell_type": "code",
   "execution_count": 29,
   "metadata": {},
   "outputs": [
    {
     "data": {
      "text/html": [
       "<div>\n",
       "<style scoped>\n",
       "    .dataframe tbody tr th:only-of-type {\n",
       "        vertical-align: middle;\n",
       "    }\n",
       "\n",
       "    .dataframe tbody tr th {\n",
       "        vertical-align: top;\n",
       "    }\n",
       "\n",
       "    .dataframe thead th {\n",
       "        text-align: right;\n",
       "    }\n",
       "</style>\n",
       "<table border=\"1\" class=\"dataframe\">\n",
       "  <thead>\n",
       "    <tr style=\"text-align: right;\">\n",
       "      <th></th>\n",
       "      <th>0</th>\n",
       "      <th>1</th>\n",
       "      <th>2</th>\n",
       "      <th>3</th>\n",
       "      <th>4</th>\n",
       "      <th>5</th>\n",
       "      <th>6</th>\n",
       "      <th>7</th>\n",
       "      <th>8</th>\n",
       "      <th>9</th>\n",
       "      <th>...</th>\n",
       "      <th>28</th>\n",
       "      <th>29</th>\n",
       "      <th>30</th>\n",
       "      <th>31</th>\n",
       "      <th>32</th>\n",
       "      <th>33</th>\n",
       "      <th>34</th>\n",
       "      <th>35</th>\n",
       "      <th>filename</th>\n",
       "      <th>label</th>\n",
       "    </tr>\n",
       "  </thead>\n",
       "  <tbody>\n",
       "    <tr>\n",
       "      <th>1</th>\n",
       "      <td>110.0</td>\n",
       "      <td>22.0</td>\n",
       "      <td>114.0</td>\n",
       "      <td>40.0</td>\n",
       "      <td>108.0</td>\n",
       "      <td>38.0</td>\n",
       "      <td>88.0</td>\n",
       "      <td>50.0</td>\n",
       "      <td>86.0</td>\n",
       "      <td>30.0</td>\n",
       "      <td>...</td>\n",
       "      <td>110.0</td>\n",
       "      <td>18.0</td>\n",
       "      <td>114.0</td>\n",
       "      <td>20.0</td>\n",
       "      <td>NaN</td>\n",
       "      <td>NaN</td>\n",
       "      <td>124.0</td>\n",
       "      <td>24.0</td>\n",
       "      <td>7_20-42-03.096</td>\n",
       "      <td>2</td>\n",
       "    </tr>\n",
       "    <tr>\n",
       "      <th>2</th>\n",
       "      <td>142.0</td>\n",
       "      <td>8.0</td>\n",
       "      <td>148.0</td>\n",
       "      <td>20.0</td>\n",
       "      <td>142.0</td>\n",
       "      <td>18.0</td>\n",
       "      <td>124.0</td>\n",
       "      <td>22.0</td>\n",
       "      <td>124.0</td>\n",
       "      <td>12.0</td>\n",
       "      <td>...</td>\n",
       "      <td>140.0</td>\n",
       "      <td>6.0</td>\n",
       "      <td>146.0</td>\n",
       "      <td>6.0</td>\n",
       "      <td>NaN</td>\n",
       "      <td>NaN</td>\n",
       "      <td>154.0</td>\n",
       "      <td>8.0</td>\n",
       "      <td>56_20-35-04.885</td>\n",
       "      <td>2</td>\n",
       "    </tr>\n",
       "    <tr>\n",
       "      <th>3</th>\n",
       "      <td>134.0</td>\n",
       "      <td>10.0</td>\n",
       "      <td>146.0</td>\n",
       "      <td>26.0</td>\n",
       "      <td>148.0</td>\n",
       "      <td>26.0</td>\n",
       "      <td>142.0</td>\n",
       "      <td>56.0</td>\n",
       "      <td>130.0</td>\n",
       "      <td>68.0</td>\n",
       "      <td>...</td>\n",
       "      <td>NaN</td>\n",
       "      <td>NaN</td>\n",
       "      <td>136.0</td>\n",
       "      <td>8.0</td>\n",
       "      <td>NaN</td>\n",
       "      <td>NaN</td>\n",
       "      <td>144.0</td>\n",
       "      <td>10.0</td>\n",
       "      <td>42_18-16-56.450</td>\n",
       "      <td>2</td>\n",
       "    </tr>\n",
       "    <tr>\n",
       "      <th>4</th>\n",
       "      <td>188.0</td>\n",
       "      <td>26.0</td>\n",
       "      <td>178.0</td>\n",
       "      <td>50.0</td>\n",
       "      <td>174.0</td>\n",
       "      <td>50.0</td>\n",
       "      <td>214.0</td>\n",
       "      <td>62.0</td>\n",
       "      <td>216.0</td>\n",
       "      <td>30.0</td>\n",
       "      <td>...</td>\n",
       "      <td>180.0</td>\n",
       "      <td>22.0</td>\n",
       "      <td>188.0</td>\n",
       "      <td>20.0</td>\n",
       "      <td>168.0</td>\n",
       "      <td>28.0</td>\n",
       "      <td>NaN</td>\n",
       "      <td>NaN</td>\n",
       "      <td>75_22-20-57.517</td>\n",
       "      <td>1</td>\n",
       "    </tr>\n",
       "    <tr>\n",
       "      <th>5</th>\n",
       "      <td>86.0</td>\n",
       "      <td>22.0</td>\n",
       "      <td>92.0</td>\n",
       "      <td>38.0</td>\n",
       "      <td>96.0</td>\n",
       "      <td>38.0</td>\n",
       "      <td>72.0</td>\n",
       "      <td>40.0</td>\n",
       "      <td>68.0</td>\n",
       "      <td>28.0</td>\n",
       "      <td>...</td>\n",
       "      <td>NaN</td>\n",
       "      <td>NaN</td>\n",
       "      <td>88.0</td>\n",
       "      <td>20.0</td>\n",
       "      <td>NaN</td>\n",
       "      <td>NaN</td>\n",
       "      <td>94.0</td>\n",
       "      <td>24.0</td>\n",
       "      <td>66_11-27-03.373</td>\n",
       "      <td>1</td>\n",
       "    </tr>\n",
       "  </tbody>\n",
       "</table>\n",
       "<p>5 rows × 38 columns</p>\n",
       "</div>"
      ],
      "text/plain": [
       "       0     1      2     3      4     5      6     7      8     9  ...  \\\n",
       "1  110.0  22.0  114.0  40.0  108.0  38.0   88.0  50.0   86.0  30.0  ...   \n",
       "2  142.0   8.0  148.0  20.0  142.0  18.0  124.0  22.0  124.0  12.0  ...   \n",
       "3  134.0  10.0  146.0  26.0  148.0  26.0  142.0  56.0  130.0  68.0  ...   \n",
       "4  188.0  26.0  178.0  50.0  174.0  50.0  214.0  62.0  216.0  30.0  ...   \n",
       "5   86.0  22.0   92.0  38.0   96.0  38.0   72.0  40.0   68.0  28.0  ...   \n",
       "\n",
       "      28    29     30    31     32    33     34    35         filename  label  \n",
       "1  110.0  18.0  114.0  20.0    NaN   NaN  124.0  24.0   7_20-42-03.096      2  \n",
       "2  140.0   6.0  146.0   6.0    NaN   NaN  154.0   8.0  56_20-35-04.885      2  \n",
       "3    NaN   NaN  136.0   8.0    NaN   NaN  144.0  10.0  42_18-16-56.450      2  \n",
       "4  180.0  22.0  188.0  20.0  168.0  28.0    NaN   NaN  75_22-20-57.517      1  \n",
       "5    NaN   NaN   88.0  20.0    NaN   NaN   94.0  24.0  66_11-27-03.373      1  \n",
       "\n",
       "[5 rows x 38 columns]"
      ]
     },
     "execution_count": 29,
     "metadata": {},
     "output_type": "execute_result"
    }
   ],
   "source": [
    "dataset = pd.read_pickle(\"./plank_data_frame\")\n",
    "dataset = dataset.replace(r'\\\\n',' ', regex=True)\n",
    "dataset['label'] = dataset['label'].astype(int)\n",
    "\n",
    "dataset.head(5)"
   ]
  },
  {
   "cell_type": "markdown",
   "metadata": {},
   "source": [
    "### Data descriptions\n",
    "\n",
    "1. The last columns represent the label of each image:\n",
    "    - 0: Back too low\n",
    "    - 1: Correct form\n",
    "    - 2: Back too high\n",
    "1. ..."
   ]
  },
  {
   "cell_type": "code",
   "execution_count": 13,
   "metadata": {},
   "outputs": [],
   "source": [
    "# Split dataset\n",
    "dataset = dataset.values\n",
    "X = dataset[:, 0:36]\n",
    "Y = dataset[:, 37]\n",
    "Y = Y.astype(int)"
   ]
  },
  {
   "cell_type": "markdown",
   "metadata": {},
   "source": [
    "### Data processing"
   ]
  },
  {
   "cell_type": "code",
   "execution_count": 14,
   "metadata": {},
   "outputs": [],
   "source": [
    "# Feature Scaling (all values between 0.0 and 1.0) and NaN to 0\n",
    "sc = StandardScaler()\n",
    "X = sc.fit_transform(X)\n",
    "X = np.nan_to_num(X)"
   ]
  },
  {
   "cell_type": "code",
   "execution_count": 15,
   "metadata": {},
   "outputs": [],
   "source": [
    "# one hot encoding of labels\n",
    "# One-hot encoding -> https://machinelearningmastery.com/why-one-hot-encode-data-in-machine-learning/\n",
    "onehot_encoder = OneHotEncoder(sparse=False)\n",
    "Y = Y.reshape(len(Y), 1)\n",
    "Y = onehot_encoder.fit_transform(Y)"
   ]
  },
  {
   "cell_type": "code",
   "execution_count": 16,
   "metadata": {},
   "outputs": [],
   "source": [
    "# split in train / test set\n",
    "X_train, X_test, y_train, y_test = train_test_split(X, Y, test_size=0.33, random_state=42, shuffle=True)"
   ]
  },
  {
   "cell_type": "markdown",
   "metadata": {},
   "source": [
    "## Training model"
   ]
  },
  {
   "cell_type": "code",
   "execution_count": 17,
   "metadata": {},
   "outputs": [
    {
     "name": "stderr",
     "output_type": "stream",
     "text": [
      "2022-09-13 15:21:00.909053: I tensorflow/core/common_runtime/pluggable_device/pluggable_device_factory.cc:305] Could not identify NUMA node of platform GPU ID 0, defaulting to 0. Your kernel may not have been built with NUMA support.\n",
      "2022-09-13 15:21:00.909765: I tensorflow/core/common_runtime/pluggable_device/pluggable_device_factory.cc:271] Created TensorFlow device (/job:localhost/replica:0/task:0/device:GPU:0 with 0 MB memory) -> physical PluggableDevice (device: 0, name: METAL, pci bus id: <undefined>)\n",
      "2022-09-13 15:21:01.116678: W tensorflow/core/platform/profile_utils/cpu_utils.cc:128] Failed to get CPU frequency: 0 Hz\n"
     ]
    },
    {
     "name": "stdout",
     "output_type": "stream",
     "text": [
      "Metal device set to: Apple M1\n",
      "\n",
      "systemMemory: 16.00 GB\n",
      "maxCacheSize: 5.33 GB\n",
      "\n",
      "Epoch 1/100\n"
     ]
    },
    {
     "name": "stderr",
     "output_type": "stream",
     "text": [
      "2022-09-13 15:21:01.348312: I tensorflow/core/grappler/optimizers/custom_graph_optimizer_registry.cc:113] Plugin optimizer for device_type GPU is enabled.\n"
     ]
    },
    {
     "name": "stdout",
     "output_type": "stream",
     "text": [
      "464/464 [==============================] - ETA: 0s - loss: 0.8026 - accuracy: 0.6440"
     ]
    },
    {
     "name": "stderr",
     "output_type": "stream",
     "text": [
      "2022-09-13 15:21:07.516511: I tensorflow/core/grappler/optimizers/custom_graph_optimizer_registry.cc:113] Plugin optimizer for device_type GPU is enabled.\n"
     ]
    },
    {
     "name": "stdout",
     "output_type": "stream",
     "text": [
      "464/464 [==============================] - 8s 11ms/step - loss: 0.8026 - accuracy: 0.6440 - val_loss: 0.7315 - val_accuracy: 0.6801\n",
      "Epoch 2/100\n",
      "464/464 [==============================] - 5s 11ms/step - loss: 0.6637 - accuracy: 0.7283 - val_loss: 0.6311 - val_accuracy: 0.7519\n",
      "Epoch 3/100\n",
      "464/464 [==============================] - 5s 11ms/step - loss: 0.5813 - accuracy: 0.7733 - val_loss: 0.5780 - val_accuracy: 0.7707\n",
      "Epoch 4/100\n",
      "464/464 [==============================] - 5s 10ms/step - loss: 0.5370 - accuracy: 0.7908 - val_loss: 0.5156 - val_accuracy: 0.8018\n",
      "Epoch 5/100\n",
      "464/464 [==============================] - 5s 10ms/step - loss: 0.5014 - accuracy: 0.8113 - val_loss: 0.5151 - val_accuracy: 0.7917\n",
      "Epoch 6/100\n",
      "464/464 [==============================] - 5s 10ms/step - loss: 0.4812 - accuracy: 0.8154 - val_loss: 0.4884 - val_accuracy: 0.8053\n",
      "Epoch 7/100\n",
      "464/464 [==============================] - 5s 11ms/step - loss: 0.4570 - accuracy: 0.8247 - val_loss: 0.4781 - val_accuracy: 0.8166\n",
      "Epoch 8/100\n",
      "464/464 [==============================] - 5s 11ms/step - loss: 0.4452 - accuracy: 0.8204 - val_loss: 0.4627 - val_accuracy: 0.8201\n",
      "Epoch 9/100\n",
      "464/464 [==============================] - 5s 10ms/step - loss: 0.4376 - accuracy: 0.8260 - val_loss: 0.4474 - val_accuracy: 0.8219\n",
      "Epoch 10/100\n",
      "464/464 [==============================] - 5s 11ms/step - loss: 0.4298 - accuracy: 0.8324 - val_loss: 0.4534 - val_accuracy: 0.8319\n",
      "Epoch 11/100\n",
      "464/464 [==============================] - 5s 10ms/step - loss: 0.4108 - accuracy: 0.8432 - val_loss: 0.4497 - val_accuracy: 0.8267\n",
      "Epoch 12/100\n",
      "464/464 [==============================] - 5s 11ms/step - loss: 0.4066 - accuracy: 0.8469 - val_loss: 0.4473 - val_accuracy: 0.8276\n",
      "Epoch 13/100\n",
      "464/464 [==============================] - 5s 10ms/step - loss: 0.4055 - accuracy: 0.8454 - val_loss: 0.4218 - val_accuracy: 0.8460\n",
      "Epoch 14/100\n",
      "464/464 [==============================] - 5s 10ms/step - loss: 0.3997 - accuracy: 0.8482 - val_loss: 0.4426 - val_accuracy: 0.8271\n",
      "Epoch 15/100\n",
      "464/464 [==============================] - 5s 11ms/step - loss: 0.3936 - accuracy: 0.8497 - val_loss: 0.4165 - val_accuracy: 0.8473\n",
      "Epoch 16/100\n",
      "464/464 [==============================] - 5s 11ms/step - loss: 0.3851 - accuracy: 0.8493 - val_loss: 0.4227 - val_accuracy: 0.8460\n",
      "Epoch 17/100\n",
      "464/464 [==============================] - 5s 11ms/step - loss: 0.3845 - accuracy: 0.8488 - val_loss: 0.4123 - val_accuracy: 0.8403\n",
      "Epoch 18/100\n",
      "464/464 [==============================] - 5s 11ms/step - loss: 0.3781 - accuracy: 0.8557 - val_loss: 0.4214 - val_accuracy: 0.8416\n",
      "Epoch 19/100\n",
      "464/464 [==============================] - 5s 11ms/step - loss: 0.3724 - accuracy: 0.8525 - val_loss: 0.3995 - val_accuracy: 0.8516\n",
      "Epoch 20/100\n",
      "464/464 [==============================] - 5s 10ms/step - loss: 0.3763 - accuracy: 0.8499 - val_loss: 0.4109 - val_accuracy: 0.8420\n",
      "Epoch 21/100\n",
      "464/464 [==============================] - 5s 10ms/step - loss: 0.3646 - accuracy: 0.8575 - val_loss: 0.3955 - val_accuracy: 0.8503\n",
      "Epoch 22/100\n",
      "464/464 [==============================] - 5s 10ms/step - loss: 0.3649 - accuracy: 0.8579 - val_loss: 0.4049 - val_accuracy: 0.8516\n",
      "Epoch 23/100\n",
      "464/464 [==============================] - 5s 10ms/step - loss: 0.3544 - accuracy: 0.8622 - val_loss: 0.4085 - val_accuracy: 0.8416\n",
      "Epoch 24/100\n",
      "464/464 [==============================] - 5s 11ms/step - loss: 0.3616 - accuracy: 0.8596 - val_loss: 0.3968 - val_accuracy: 0.8512\n",
      "Epoch 25/100\n",
      "464/464 [==============================] - 5s 10ms/step - loss: 0.3535 - accuracy: 0.8592 - val_loss: 0.3970 - val_accuracy: 0.8547\n",
      "Epoch 26/100\n",
      "464/464 [==============================] - 5s 10ms/step - loss: 0.3487 - accuracy: 0.8644 - val_loss: 0.4017 - val_accuracy: 0.8468\n",
      "Epoch 27/100\n",
      "464/464 [==============================] - 5s 10ms/step - loss: 0.3460 - accuracy: 0.8603 - val_loss: 0.3867 - val_accuracy: 0.8565\n",
      "Epoch 28/100\n",
      "464/464 [==============================] - 5s 10ms/step - loss: 0.3422 - accuracy: 0.8648 - val_loss: 0.4287 - val_accuracy: 0.8442\n",
      "Epoch 29/100\n",
      "464/464 [==============================] - 5s 10ms/step - loss: 0.3369 - accuracy: 0.8667 - val_loss: 0.3871 - val_accuracy: 0.8551\n",
      "Epoch 30/100\n",
      "464/464 [==============================] - 5s 11ms/step - loss: 0.3353 - accuracy: 0.8676 - val_loss: 0.3998 - val_accuracy: 0.8521\n",
      "Epoch 31/100\n",
      "464/464 [==============================] - 5s 10ms/step - loss: 0.3328 - accuracy: 0.8626 - val_loss: 0.4284 - val_accuracy: 0.8407\n",
      "Epoch 32/100\n",
      "464/464 [==============================] - 5s 10ms/step - loss: 0.3349 - accuracy: 0.8672 - val_loss: 0.3895 - val_accuracy: 0.8503\n",
      "Epoch 33/100\n",
      "464/464 [==============================] - 5s 10ms/step - loss: 0.3313 - accuracy: 0.8680 - val_loss: 0.4023 - val_accuracy: 0.8490\n",
      "Epoch 34/100\n",
      "464/464 [==============================] - 5s 10ms/step - loss: 0.3223 - accuracy: 0.8693 - val_loss: 0.4002 - val_accuracy: 0.8560\n",
      "Epoch 35/100\n",
      "464/464 [==============================] - 5s 10ms/step - loss: 0.3243 - accuracy: 0.8654 - val_loss: 0.4206 - val_accuracy: 0.8354\n",
      "Epoch 36/100\n",
      "464/464 [==============================] - 5s 10ms/step - loss: 0.3209 - accuracy: 0.8702 - val_loss: 0.3974 - val_accuracy: 0.8521\n",
      "Epoch 37/100\n",
      "464/464 [==============================] - 5s 11ms/step - loss: 0.3259 - accuracy: 0.8725 - val_loss: 0.3864 - val_accuracy: 0.8591\n",
      "Epoch 38/100\n",
      "464/464 [==============================] - 5s 10ms/step - loss: 0.3200 - accuracy: 0.8738 - val_loss: 0.3755 - val_accuracy: 0.8656\n",
      "Epoch 39/100\n",
      "464/464 [==============================] - 5s 10ms/step - loss: 0.3143 - accuracy: 0.8736 - val_loss: 0.3878 - val_accuracy: 0.8582\n",
      "Epoch 40/100\n",
      "464/464 [==============================] - 5s 11ms/step - loss: 0.3100 - accuracy: 0.8801 - val_loss: 0.3835 - val_accuracy: 0.8556\n",
      "Epoch 41/100\n",
      "464/464 [==============================] - 5s 10ms/step - loss: 0.3156 - accuracy: 0.8717 - val_loss: 0.3973 - val_accuracy: 0.8468\n",
      "Epoch 42/100\n",
      "464/464 [==============================] - 5s 10ms/step - loss: 0.3162 - accuracy: 0.8741 - val_loss: 0.3917 - val_accuracy: 0.8534\n",
      "Epoch 43/100\n",
      "464/464 [==============================] - 5s 10ms/step - loss: 0.3074 - accuracy: 0.8743 - val_loss: 0.4033 - val_accuracy: 0.8460\n",
      "Epoch 44/100\n",
      "464/464 [==============================] - 5s 10ms/step - loss: 0.3072 - accuracy: 0.8756 - val_loss: 0.3943 - val_accuracy: 0.8530\n",
      "Epoch 45/100\n",
      "464/464 [==============================] - 5s 10ms/step - loss: 0.3109 - accuracy: 0.8747 - val_loss: 0.3854 - val_accuracy: 0.8556\n",
      "Epoch 46/100\n",
      "464/464 [==============================] - 5s 10ms/step - loss: 0.3052 - accuracy: 0.8732 - val_loss: 0.3715 - val_accuracy: 0.8578\n",
      "Epoch 47/100\n",
      "464/464 [==============================] - 5s 10ms/step - loss: 0.3063 - accuracy: 0.8788 - val_loss: 0.3796 - val_accuracy: 0.8648\n",
      "Epoch 48/100\n",
      "464/464 [==============================] - 5s 10ms/step - loss: 0.3004 - accuracy: 0.8764 - val_loss: 0.3681 - val_accuracy: 0.8630\n",
      "Epoch 49/100\n",
      "464/464 [==============================] - 5s 10ms/step - loss: 0.2971 - accuracy: 0.8754 - val_loss: 0.3894 - val_accuracy: 0.8586\n",
      "Epoch 50/100\n",
      "464/464 [==============================] - 5s 10ms/step - loss: 0.3042 - accuracy: 0.8810 - val_loss: 0.3721 - val_accuracy: 0.8665\n",
      "Epoch 51/100\n",
      "464/464 [==============================] - 5s 10ms/step - loss: 0.2968 - accuracy: 0.8801 - val_loss: 0.3697 - val_accuracy: 0.8626\n",
      "Epoch 52/100\n",
      "464/464 [==============================] - 5s 10ms/step - loss: 0.2981 - accuracy: 0.8790 - val_loss: 0.3650 - val_accuracy: 0.8665\n",
      "Epoch 53/100\n",
      "464/464 [==============================] - 5s 10ms/step - loss: 0.2892 - accuracy: 0.8823 - val_loss: 0.3799 - val_accuracy: 0.8582\n",
      "Epoch 54/100\n",
      "464/464 [==============================] - 5s 10ms/step - loss: 0.2939 - accuracy: 0.8823 - val_loss: 0.3716 - val_accuracy: 0.8661\n",
      "Epoch 55/100\n",
      "464/464 [==============================] - 5s 10ms/step - loss: 0.2937 - accuracy: 0.8853 - val_loss: 0.4107 - val_accuracy: 0.8425\n",
      "Epoch 56/100\n",
      "464/464 [==============================] - 5s 10ms/step - loss: 0.2861 - accuracy: 0.8855 - val_loss: 0.3792 - val_accuracy: 0.8582\n",
      "Epoch 57/100\n",
      "464/464 [==============================] - 5s 10ms/step - loss: 0.2914 - accuracy: 0.8840 - val_loss: 0.3870 - val_accuracy: 0.8652\n",
      "Epoch 58/100\n",
      "464/464 [==============================] - 5s 10ms/step - loss: 0.2822 - accuracy: 0.8889 - val_loss: 0.3660 - val_accuracy: 0.8626\n",
      "Epoch 59/100\n",
      "464/464 [==============================] - 5s 10ms/step - loss: 0.2823 - accuracy: 0.8883 - val_loss: 0.4049 - val_accuracy: 0.8525\n",
      "Epoch 60/100\n",
      "464/464 [==============================] - 5s 10ms/step - loss: 0.2799 - accuracy: 0.8896 - val_loss: 0.3863 - val_accuracy: 0.8565\n",
      "Epoch 61/100\n",
      "464/464 [==============================] - 5s 10ms/step - loss: 0.2798 - accuracy: 0.8844 - val_loss: 0.4050 - val_accuracy: 0.8503\n",
      "Epoch 62/100\n",
      "464/464 [==============================] - 5s 10ms/step - loss: 0.2867 - accuracy: 0.8805 - val_loss: 0.3889 - val_accuracy: 0.8578\n",
      "Epoch 63/100\n",
      "464/464 [==============================] - 5s 10ms/step - loss: 0.2819 - accuracy: 0.8868 - val_loss: 0.3890 - val_accuracy: 0.8538\n",
      "Epoch 64/100\n",
      "464/464 [==============================] - 5s 10ms/step - loss: 0.2804 - accuracy: 0.8868 - val_loss: 0.3958 - val_accuracy: 0.8565\n",
      "Epoch 65/100\n",
      "464/464 [==============================] - 5s 10ms/step - loss: 0.2824 - accuracy: 0.8842 - val_loss: 0.3780 - val_accuracy: 0.8595\n",
      "Epoch 66/100\n",
      "464/464 [==============================] - 5s 10ms/step - loss: 0.2745 - accuracy: 0.8917 - val_loss: 0.3910 - val_accuracy: 0.8578\n",
      "Epoch 67/100\n",
      "464/464 [==============================] - 5s 10ms/step - loss: 0.2738 - accuracy: 0.8920 - val_loss: 0.3812 - val_accuracy: 0.8617\n",
      "Epoch 68/100\n",
      "464/464 [==============================] - 5s 10ms/step - loss: 0.2764 - accuracy: 0.8857 - val_loss: 0.3944 - val_accuracy: 0.8591\n",
      "Epoch 69/100\n",
      "464/464 [==============================] - 5s 10ms/step - loss: 0.2748 - accuracy: 0.8883 - val_loss: 0.3816 - val_accuracy: 0.8591\n",
      "Epoch 70/100\n",
      "464/464 [==============================] - 5s 10ms/step - loss: 0.2735 - accuracy: 0.8896 - val_loss: 0.3824 - val_accuracy: 0.8661\n",
      "Epoch 71/100\n",
      "464/464 [==============================] - 5s 10ms/step - loss: 0.2735 - accuracy: 0.8887 - val_loss: 0.3829 - val_accuracy: 0.8613\n",
      "Epoch 72/100\n",
      "464/464 [==============================] - 5s 10ms/step - loss: 0.2735 - accuracy: 0.8866 - val_loss: 0.3874 - val_accuracy: 0.8674\n",
      "Epoch 73/100\n",
      "464/464 [==============================] - 5s 10ms/step - loss: 0.2700 - accuracy: 0.8894 - val_loss: 0.3864 - val_accuracy: 0.8652\n",
      "Epoch 74/100\n",
      "464/464 [==============================] - 5s 10ms/step - loss: 0.2688 - accuracy: 0.8922 - val_loss: 0.3961 - val_accuracy: 0.8569\n",
      "Epoch 75/100\n",
      "464/464 [==============================] - 5s 10ms/step - loss: 0.2632 - accuracy: 0.8924 - val_loss: 0.3758 - val_accuracy: 0.8670\n",
      "Epoch 76/100\n",
      "464/464 [==============================] - 5s 10ms/step - loss: 0.2676 - accuracy: 0.8913 - val_loss: 0.3734 - val_accuracy: 0.8652\n",
      "Epoch 77/100\n",
      "464/464 [==============================] - 5s 10ms/step - loss: 0.2670 - accuracy: 0.8954 - val_loss: 0.3796 - val_accuracy: 0.8600\n",
      "Epoch 78/100\n",
      "464/464 [==============================] - 5s 10ms/step - loss: 0.2648 - accuracy: 0.8932 - val_loss: 0.3569 - val_accuracy: 0.8700\n",
      "Epoch 79/100\n",
      "464/464 [==============================] - 5s 10ms/step - loss: 0.2680 - accuracy: 0.8941 - val_loss: 0.3836 - val_accuracy: 0.8643\n",
      "Epoch 80/100\n",
      "464/464 [==============================] - 5s 10ms/step - loss: 0.2643 - accuracy: 0.8930 - val_loss: 0.4028 - val_accuracy: 0.8591\n",
      "Epoch 81/100\n",
      "464/464 [==============================] - 5s 10ms/step - loss: 0.2660 - accuracy: 0.8911 - val_loss: 0.3912 - val_accuracy: 0.8586\n",
      "Epoch 82/100\n",
      "464/464 [==============================] - 5s 10ms/step - loss: 0.2652 - accuracy: 0.8922 - val_loss: 0.3899 - val_accuracy: 0.8578\n",
      "Epoch 83/100\n",
      "464/464 [==============================] - 5s 10ms/step - loss: 0.2591 - accuracy: 0.8948 - val_loss: 0.3815 - val_accuracy: 0.8608\n",
      "Epoch 84/100\n",
      "464/464 [==============================] - 5s 10ms/step - loss: 0.2635 - accuracy: 0.8969 - val_loss: 0.3840 - val_accuracy: 0.8621\n",
      "Epoch 85/100\n",
      "464/464 [==============================] - 5s 10ms/step - loss: 0.2665 - accuracy: 0.8954 - val_loss: 0.3926 - val_accuracy: 0.8652\n",
      "Epoch 86/100\n",
      "464/464 [==============================] - 5s 11ms/step - loss: 0.2579 - accuracy: 0.8973 - val_loss: 0.4057 - val_accuracy: 0.8652\n",
      "Epoch 87/100\n",
      "464/464 [==============================] - 5s 10ms/step - loss: 0.2662 - accuracy: 0.8926 - val_loss: 0.3735 - val_accuracy: 0.8661\n",
      "Epoch 88/100\n",
      "464/464 [==============================] - 5s 11ms/step - loss: 0.2583 - accuracy: 0.8945 - val_loss: 0.3617 - val_accuracy: 0.8700\n",
      "Epoch 89/100\n",
      "464/464 [==============================] - 5s 10ms/step - loss: 0.2520 - accuracy: 0.8937 - val_loss: 0.3863 - val_accuracy: 0.8617\n",
      "Epoch 90/100\n",
      "464/464 [==============================] - 5s 10ms/step - loss: 0.2536 - accuracy: 0.8958 - val_loss: 0.3845 - val_accuracy: 0.8661\n",
      "Epoch 91/100\n",
      "464/464 [==============================] - 5s 10ms/step - loss: 0.2566 - accuracy: 0.8967 - val_loss: 0.4183 - val_accuracy: 0.8621\n",
      "Epoch 92/100\n",
      "464/464 [==============================] - 5s 10ms/step - loss: 0.2533 - accuracy: 0.8991 - val_loss: 0.3991 - val_accuracy: 0.8604\n",
      "Epoch 93/100\n",
      "464/464 [==============================] - 5s 10ms/step - loss: 0.2564 - accuracy: 0.8958 - val_loss: 0.4042 - val_accuracy: 0.8604\n",
      "Epoch 94/100\n",
      "464/464 [==============================] - 5s 10ms/step - loss: 0.2591 - accuracy: 0.8958 - val_loss: 0.3826 - val_accuracy: 0.8617\n",
      "Epoch 95/100\n",
      "464/464 [==============================] - 5s 10ms/step - loss: 0.2536 - accuracy: 0.8945 - val_loss: 0.3939 - val_accuracy: 0.8600\n",
      "Epoch 96/100\n",
      "464/464 [==============================] - 5s 11ms/step - loss: 0.2483 - accuracy: 0.9006 - val_loss: 0.4605 - val_accuracy: 0.8473\n",
      "Epoch 97/100\n",
      "464/464 [==============================] - 5s 10ms/step - loss: 0.2495 - accuracy: 0.8999 - val_loss: 0.3901 - val_accuracy: 0.8547\n",
      "Epoch 98/100\n",
      "464/464 [==============================] - 5s 10ms/step - loss: 0.2525 - accuracy: 0.8997 - val_loss: 0.3873 - val_accuracy: 0.8626\n",
      "Epoch 99/100\n",
      "464/464 [==============================] - 5s 10ms/step - loss: 0.2496 - accuracy: 0.8995 - val_loss: 0.3819 - val_accuracy: 0.8635\n",
      "Epoch 100/100\n",
      "464/464 [==============================] - 5s 10ms/step - loss: 0.2556 - accuracy: 0.8967 - val_loss: 0.3723 - val_accuracy: 0.8643\n"
     ]
    }
   ],
   "source": [
    "# create model\n",
    "model = Sequential()\n",
    "model.add(Dense(36, input_dim=36, activation='relu'))\n",
    "model.add(Dense(18, activation='relu'))\n",
    "model.add(Dense(9, activation='relu'))\n",
    "model.add(Dense(3, activation='softmax'))  # we use Softmax, so the outputs represent accuracies that add up to 1\n",
    "\n",
    "# Compile model\n",
    "model.compile(loss='categorical_crossentropy', optimizer='adam', metrics=['accuracy'])\n",
    "\n",
    "\n",
    "# Fit the model\n",
    "history = model.fit(X_train, y_train, epochs=100, batch_size=10, validation_data=(X_test, y_test))"
   ]
  },
  {
   "cell_type": "markdown",
   "metadata": {},
   "source": [
    "### Evaluate model"
   ]
  },
  {
   "cell_type": "code",
   "execution_count": 18,
   "metadata": {},
   "outputs": [
    {
     "name": "stdout",
     "output_type": "stream",
     "text": [
      "145/145 [==============================] - 1s 6ms/step - loss: 0.2233 - accuracy: 0.9140\n"
     ]
    },
    {
     "data": {
      "text/plain": [
       "[0.22329846024513245, 0.9139530062675476]"
      ]
     },
     "execution_count": 18,
     "metadata": {},
     "output_type": "execute_result"
    }
   ],
   "source": [
    "eval_model = model.evaluate(X_train, y_train)\n",
    "eval_model"
   ]
  },
  {
   "cell_type": "code",
   "execution_count": 21,
   "metadata": {},
   "outputs": [
    {
     "name": "stdout",
     "output_type": "stream",
     "text": [
      "dict_keys(['loss', 'accuracy', 'val_loss', 'val_accuracy'])\n"
     ]
    },
    {
     "data": {
      "image/png": "[encoded data removed]",
      "text/plain": [
       "<Figure size 640x480 with 1 Axes>"
      ]
     },
     "metadata": {},
     "output_type": "display_data"
    },
    {
     "data": {
      "image/png": "[encoded data removed]",
      "text/plain": [
       "<Figure size 640x480 with 1 Axes>"
      ]
     },
     "metadata": {},
     "output_type": "display_data"
    }
   ],
   "source": [
    "# summarize history for accuracy\n",
    "plt.plot(history.history['accuracy'])\n",
    "plt.plot(history.history['val_accuracy'])\n",
    "plt.title('model accuracy')\n",
    "plt.ylabel('accuracy')\n",
    "plt.xlabel('epoch')\n",
    "plt.legend(['train', 'test'], loc='upper left')\n",
    "plt.show()\n",
    "\n",
    "# summarize history for loss\n",
    "plt.plot(history.history['loss'])\n",
    "plt.plot(history.history['val_loss'])\n",
    "plt.title('model loss')\n",
    "plt.ylabel('loss')\n",
    "plt.xlabel('epoch')\n",
    "plt.legend(['train', 'test'], loc='upper left')\n",
    "plt.show()"
   ]
  },
  {
   "cell_type": "code",
   "execution_count": 27,
   "metadata": {},
   "outputs": [
    {
     "name": "stdout",
     "output_type": "stream",
     "text": [
      "72/72 [==============================] - 0s 2ms/step\n"
     ]
    },
    {
     "data": {
      "text/plain": [
       "((2285, 3),\n",
       " array([[ True, False, False],\n",
       "        [False,  True, False],\n",
       "        [False, False,  True],\n",
       "        ...,\n",
       "        [ True, False, False],\n",
       "        [False,  True, False],\n",
       "        [False,  True, False]]))"
      ]
     },
     "execution_count": 27,
     "metadata": {},
     "output_type": "execute_result"
    }
   ],
   "source": [
    "y_pred = model.predict(X_test)\n",
    "\n",
    "# Transform prediction from float number (probability) to True, False\n",
    "# If prob > 50%, that is what the model predicted\n",
    "y_pred = y_pred > 0.5\n",
    "\n",
    "y_pred.shape, y_pred"
   ]
  },
  {
   "cell_type": "code",
   "execution_count": 26,
   "metadata": {},
   "outputs": [
    {
     "name": "stdout",
     "output_type": "stream",
     "text": [
      "[[193  35   1]\n",
      " [ 37 984  97]\n",
      " [  5 138 795]]\n"
     ]
    }
   ],
   "source": [
    "cm = confusion_matrix(y_test.argmax(axis=1), y_pred.argmax(axis=1))\n",
    "print(cm)"
   ]
  },
  {
   "cell_type": "code",
   "execution_count": 34,
   "metadata": {},
   "outputs": [
    {
     "data": {
      "image/png": "[encoded data removed]",
      "text/plain": [
       "<Figure size 700x500 with 2 Axes>"
      ]
     },
     "metadata": {},
     "output_type": "display_data"
    }
   ],
   "source": [
    "def print_confusion_matrix(confusion_matrix, class_names, figsize=(7, 5), fontsize=14):\n",
    "    \"\"\"Prints a confusion matrix, as returned by sklearn.metrics.confusion_matrix, as a heatmap.\n",
    "\n",
    "    Arguments\n",
    "    ---------\n",
    "    confusion_matrix: numpy.ndarray\n",
    "        The numpy.ndarray object returned from a call to sklearn.metrics.confusion_matrix.\n",
    "        Similarly constructed ndarrays can also be used.\n",
    "    class_names: list\n",
    "        An ordered list of class names, in the order they index the given confusion matrix.\n",
    "    figsize: tuple\n",
    "        A 2-long tuple, the first value determining the horizontal size of the ouputted figure,\n",
    "        the second determining the vertical size. Defaults to (10,7).\n",
    "    fontsize: int\n",
    "        Font size for axes labels. Defaults to 14.\n",
    "\n",
    "    Returns\n",
    "    -------\n",
    "    matplotlib.figure.Figure\n",
    "        The resulting confusion matrix figure\n",
    "    \"\"\"\n",
    "    df_cm = pd.DataFrame(\n",
    "        confusion_matrix, index=class_names, columns=class_names,\n",
    "    )\n",
    "    fig = plt.figure(figsize=figsize)\n",
    "    try:\n",
    "        heatmap = sns.heatmap(df_cm, annot=True, fmt=\"d\")\n",
    "    except ValueError:\n",
    "        raise ValueError(\"Confusion matrix values must be integers.\")\n",
    "    heatmap.yaxis.set_ticklabels(heatmap.yaxis.get_ticklabels(), rotation=0, ha='right', fontsize=fontsize)\n",
    "    heatmap.xaxis.set_ticklabels(heatmap.xaxis.get_ticklabels(), rotation=45, ha='right', fontsize=fontsize)\n",
    "    plt.ylabel('True label')\n",
    "    plt.xlabel('Predicted label')\n",
    "\n",
    "\n",
    "# define confusion matrix\n",
    "cm = confusion_matrix(y_test.argmax(axis=1), y_pred.argmax(axis=1))\n",
    "print_confusion_matrix(cm, ['too low', 'correct', 'too high'])"
   ]
  },
  {
   "cell_type": "code",
   "execution_count": null,
   "metadata": {},
   "outputs": [],
   "source": []
  }
 ],
 "metadata": {
  "kernelspec": {
   "display_name": "Python 3.8.13",
   "language": "python",
   "name": "python3"
  },
  "language_info": {
   "codemirror_mode": {
    "name": "ipython",
    "version": 3
   },
   "file_extension": ".py",
   "mimetype": "text/x-python",
   "name": "python",
   "nbconvert_exporter": "python",
   "pygments_lexer": "ipython3",
   "version": "3.8.13"
  },
  "orig_nbformat": 4,
  "vscode": {
   "interpreter": {
    "hash": "9260f401923fb5c4108c543a7d176de9733d378b3752e49535ad7c43c2271b65"
   }
  }
 },
 "nbformat": 4,
 "nbformat_minor": 2
}
