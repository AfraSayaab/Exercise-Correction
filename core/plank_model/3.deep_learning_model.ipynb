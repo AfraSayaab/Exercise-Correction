{
 "cells": [
  {
   "cell_type": "code",
   "execution_count": 1,
   "metadata": {},
   "outputs": [],
   "source": [
    "# Data visualization\n",
    "import numpy as np\n",
    "import pandas as pd \n",
    "\n",
    "# Keras\n",
    "from keras.models import Sequential\n",
    "from keras.layers import Dense\n",
    "from keras.layers import Dropout\n",
    "from keras.optimizers import Adam\n",
    "from keras.utils.np_utils import to_categorical\n",
    "\n",
    "# Train-Test\n",
    "from sklearn.model_selection import train_test_split\n",
    "# Classification Report\n",
    "from sklearn.metrics import classification_report, confusion_matrix\n",
    "\n",
    "import pickle\n",
    "\n",
    "import warnings\n",
    "warnings.filterwarnings('ignore')"
   ]
  },
  {
   "cell_type": "markdown",
   "metadata": {},
   "source": [
    "#### 1. Describe Dataset"
   ]
  },
  {
   "cell_type": "code",
   "execution_count": 2,
   "metadata": {},
   "outputs": [],
   "source": [
    "# Determine important landmarks for plank\n",
    "IMPORTANT_LMS = [\n",
    "    \"NOSE\",\n",
    "    \"LEFT_SHOULDER\",\n",
    "    \"RIGHT_SHOULDER\",\n",
    "    \"LEFT_ELBOW\",\n",
    "    \"RIGHT_ELBOW\",\n",
    "    \"LEFT_WRIST\",\n",
    "    \"RIGHT_WRIST\",\n",
    "    \"LEFT_HIP\",\n",
    "    \"RIGHT_HIP\",\n",
    "    \"LEFT_KNEE\",\n",
    "    \"RIGHT_KNEE\",\n",
    "    \"LEFT_ANKLE\",\n",
    "    \"RIGHT_ANKLE\",\n",
    "    \"LEFT_HEEL\",\n",
    "    \"RIGHT_HEEL\",\n",
    "    \"LEFT_FOOT_INDEX\",\n",
    "    \"RIGHT_FOOT_INDEX\",\n",
    "]\n",
    "\n",
    "# Generate all columns of the data frame\n",
    "\n",
    "HEADERS = [\"label\"] # Label column\n",
    "\n",
    "for lm in IMPORTANT_LMS:\n",
    "    HEADERS += [f\"{lm.lower()}_x\", f\"{lm.lower()}_y\", f\"{lm.lower()}_z\", f\"{lm.lower()}_v\"]"
   ]
  },
  {
   "cell_type": "code",
   "execution_count": 3,
   "metadata": {},
   "outputs": [
    {
     "name": "stdout",
     "output_type": "stream",
     "text": [
      "Headers: ['label', 'nose_x', 'nose_y', 'nose_z', 'nose_v', 'left_shoulder_x', 'left_shoulder_y', 'left_shoulder_z', 'left_shoulder_v', 'right_shoulder_x', 'right_shoulder_y', 'right_shoulder_z', 'right_shoulder_v', 'left_elbow_x', 'left_elbow_y', 'left_elbow_z', 'left_elbow_v', 'right_elbow_x', 'right_elbow_y', 'right_elbow_z', 'right_elbow_v', 'left_wrist_x', 'left_wrist_y', 'left_wrist_z', 'left_wrist_v', 'right_wrist_x', 'right_wrist_y', 'right_wrist_z', 'right_wrist_v', 'left_hip_x', 'left_hip_y', 'left_hip_z', 'left_hip_v', 'right_hip_x', 'right_hip_y', 'right_hip_z', 'right_hip_v', 'left_knee_x', 'left_knee_y', 'left_knee_z', 'left_knee_v', 'right_knee_x', 'right_knee_y', 'right_knee_z', 'right_knee_v', 'left_ankle_x', 'left_ankle_y', 'left_ankle_z', 'left_ankle_v', 'right_ankle_x', 'right_ankle_y', 'right_ankle_z', 'right_ankle_v', 'left_heel_x', 'left_heel_y', 'left_heel_z', 'left_heel_v', 'right_heel_x', 'right_heel_y', 'right_heel_z', 'right_heel_v', 'left_foot_index_x', 'left_foot_index_y', 'left_foot_index_z', 'left_foot_index_v', 'right_foot_index_x', 'right_foot_index_y', 'right_foot_index_z', 'right_foot_index_v']\n",
      "Number of rows: 28520 \n",
      "Number of columns: 69\n",
      "\n",
      "Labels: \n",
      "C    9904\n",
      "L    9546\n",
      "H    9070\n",
      "Name: label, dtype: int64\n",
      "\n",
      "Missing values: False\n",
      "\n",
      "Duplicate Rows : 0\n"
     ]
    }
   ],
   "source": [
    "def describe_dataset(dataset_path: str):\n",
    "    '''\n",
    "    Describe dataset\n",
    "    '''\n",
    "\n",
    "    data = pd.read_csv(dataset_path)\n",
    "    print(f\"Headers: {list(data.columns.values)}\")\n",
    "    print(f'Number of rows: {data.shape[0]} \\nNumber of columns: {data.shape[1]}\\n')\n",
    "    print(f\"Labels: \\n{data['label'].value_counts()}\\n\")\n",
    "    print(f\"Missing values: {data.isnull().values.any()}\\n\")\n",
    "    \n",
    "    duplicate = data[data.duplicated()]\n",
    "    print(f\"Duplicate Rows : {len(duplicate.sum(axis=1))}\")\n",
    "\n",
    "    return data\n",
    "\n",
    "\n",
    "# Remove duplicate rows (optional)\n",
    "def remove_duplicate_rows(dataset_path: str):\n",
    "    '''\n",
    "    Remove duplicated data from the dataset then save it to another files\n",
    "    '''\n",
    "    \n",
    "    df = pd.read_csv(dataset_path)\n",
    "    df.drop_duplicates(keep=\"first\", inplace=True)\n",
    "    df.to_csv(f\"cleaned_dataset.csv\", sep=',', encoding='utf-8', index=False)\n",
    "\n",
    "\n",
    "df = describe_dataset(\"./dataset.csv\")"
   ]
  },
  {
   "cell_type": "markdown",
   "metadata": {},
   "source": [
    "#### 2. Preprocess Dataset"
   ]
  },
  {
   "cell_type": "code",
   "execution_count": 4,
   "metadata": {},
   "outputs": [
    {
     "name": "stdout",
     "output_type": "stream",
     "text": [
      "Number of rows: 28520 \n",
      "Number of columns: 69\n",
      "\n",
      "Labels: \n",
      "0    9904\n",
      "2    9546\n",
      "1    9070\n",
      "Name: label, dtype: int64\n",
      "\n"
     ]
    }
   ],
   "source": [
    "# load dataset\n",
    "df = pd.read_csv(\"./dataset.csv\")\n",
    "\n",
    "# Categorizing label\n",
    "df.loc[df[\"label\"] == \"C\", \"label\"] = 0\n",
    "df.loc[df[\"label\"] == \"H\", \"label\"] = 1\n",
    "df.loc[df[\"label\"] == \"L\", \"label\"] = 2\n",
    "\n",
    "print(f'Number of rows: {df.shape[0]} \\nNumber of columns: {df.shape[1]}\\n')\n",
    "print(f\"Labels: \\n{df['label'].value_counts()}\\n\")"
   ]
  },
  {
   "cell_type": "code",
   "execution_count": 5,
   "metadata": {},
   "outputs": [],
   "source": [
    "# Standard Scaling of features\n",
    "# Dump input scaler\n",
    "with open(\"./model/input_scaler.pkl\", \"rb\") as f2:\n",
    "    sc = pickle.load(f2)\n",
    "\n",
    "x = df.drop(\"label\", axis = 1)\n",
    "x = pd.DataFrame(sc.transform(x))\n",
    "\n",
    "y = df[\"label\"]\n",
    "\n",
    "# # Converting prediction to categorical\n",
    "y_cat = to_categorical(y)"
   ]
  },
  {
   "cell_type": "markdown",
   "metadata": {},
   "source": [
    "### 3. Split train/test set, construct model"
   ]
  },
  {
   "cell_type": "code",
   "execution_count": 6,
   "metadata": {},
   "outputs": [],
   "source": [
    "x_train, x_test, y_train, y_test = train_test_split(x.values, y_cat, test_size=0.2, random_state=1234)"
   ]
  },
  {
   "cell_type": "code",
   "execution_count": 7,
   "metadata": {},
   "outputs": [
    {
     "name": "stdout",
     "output_type": "stream",
     "text": [
      "Metal device set to: Apple M1\n",
      "\n",
      "systemMemory: 16.00 GB\n",
      "maxCacheSize: 5.33 GB\n",
      "\n",
      "Model: \"sequential\"\n",
      "_________________________________________________________________\n",
      " Layer (type)                Output Shape              Param #   \n",
      "=================================================================\n",
      " dense (Dense)               (None, 68)                4692      \n",
      "                                                                 \n",
      " dropout (Dropout)           (None, 68)                0         \n",
      "                                                                 \n",
      " dense_1 (Dense)             (None, 68)                4692      \n",
      "                                                                 \n",
      " dropout_1 (Dropout)         (None, 68)                0         \n",
      "                                                                 \n",
      " dense_2 (Dense)             (None, 14)                966       \n",
      "                                                                 \n",
      " dense_3 (Dense)             (None, 3)                 45        \n",
      "                                                                 \n",
      "=================================================================\n",
      "Total params: 10,395\n",
      "Trainable params: 10,395\n",
      "Non-trainable params: 0\n",
      "_________________________________________________________________\n"
     ]
    },
    {
     "name": "stderr",
     "output_type": "stream",
     "text": [
      "2022-11-16 13:57:53.961115: I tensorflow/core/common_runtime/pluggable_device/pluggable_device_factory.cc:305] Could not identify NUMA node of platform GPU ID 0, defaulting to 0. Your kernel may not have been built with NUMA support.\n",
      "2022-11-16 13:57:53.961835: I tensorflow/core/common_runtime/pluggable_device/pluggable_device_factory.cc:271] Created TensorFlow device (/job:localhost/replica:0/task:0/device:GPU:0 with 0 MB memory) -> physical PluggableDevice (device: 0, name: METAL, pci bus id: <undefined>)\n"
     ]
    }
   ],
   "source": [
    "model = Sequential()\n",
    "model.add(Dense(68, input_dim = 68, activation = \"relu\"))\n",
    "model.add(Dropout(0.5))\n",
    "model.add(Dense(68, activation = \"relu\"))\n",
    "model.add(Dropout(0.5))\n",
    "model.add(Dense(14, activation = \"relu\"))\n",
    "model.add(Dense(3, activation = \"softmax\"))\n",
    "model.compile(Adam(lr = 0.01), \"categorical_crossentropy\", metrics = [\"accuracy\"])\n",
    "model.summary()"
   ]
  },
  {
   "cell_type": "code",
   "execution_count": 8,
   "metadata": {},
   "outputs": [
    {
     "name": "stdout",
     "output_type": "stream",
     "text": [
      "Epoch 1/100\n"
     ]
    },
    {
     "name": "stderr",
     "output_type": "stream",
     "text": [
      "2022-11-16 13:58:01.664666: W tensorflow/core/platform/profile_utils/cpu_utils.cc:128] Failed to get CPU frequency: 0 Hz\n",
      "2022-11-16 13:58:02.000329: I tensorflow/core/grappler/optimizers/custom_graph_optimizer_registry.cc:113] Plugin optimizer for device_type GPU is enabled.\n"
     ]
    },
    {
     "name": "stdout",
     "output_type": "stream",
     "text": [
      "2282/2282 [==============================] - ETA: 0s - loss: 0.1187 - accuracy: 0.9611"
     ]
    },
    {
     "name": "stderr",
     "output_type": "stream",
     "text": [
      "2022-11-16 13:58:21.821882: I tensorflow/core/grappler/optimizers/custom_graph_optimizer_registry.cc:113] Plugin optimizer for device_type GPU is enabled.\n"
     ]
    },
    {
     "name": "stdout",
     "output_type": "stream",
     "text": [
      "2282/2282 [==============================] - 23s 10ms/step - loss: 0.1187 - accuracy: 0.9611 - val_loss: 0.0095 - val_accuracy: 0.9974\n",
      "Epoch 2/100\n",
      "2282/2282 [==============================] - 24s 11ms/step - loss: 0.0532 - accuracy: 0.9871 - val_loss: 0.0309 - val_accuracy: 0.9928\n",
      "Epoch 3/100\n",
      "2282/2282 [==============================] - 23s 10ms/step - loss: 0.0765 - accuracy: 0.9840 - val_loss: 0.0227 - val_accuracy: 0.9942\n",
      "Epoch 4/100\n",
      "2282/2282 [==============================] - 23s 10ms/step - loss: 0.1157 - accuracy: 0.9830 - val_loss: 0.0222 - val_accuracy: 0.9940\n",
      "Epoch 5/100\n",
      "2282/2282 [==============================] - 23s 10ms/step - loss: 0.0490 - accuracy: 0.9895 - val_loss: 0.0136 - val_accuracy: 0.9967\n",
      "Epoch 6/100\n",
      "2282/2282 [==============================] - 24s 11ms/step - loss: 0.1333 - accuracy: 0.9808 - val_loss: 0.0300 - val_accuracy: 0.9930\n",
      "Epoch 7/100\n",
      "2282/2282 [==============================] - 24s 10ms/step - loss: 0.0936 - accuracy: 0.9838 - val_loss: 0.0324 - val_accuracy: 0.9944\n",
      "Epoch 8/100\n",
      "2282/2282 [==============================] - 23s 10ms/step - loss: 0.0851 - accuracy: 0.9887 - val_loss: 0.0253 - val_accuracy: 0.9939\n",
      "Epoch 9/100\n",
      "2282/2282 [==============================] - 23s 10ms/step - loss: 0.0737 - accuracy: 0.9916 - val_loss: 0.0245 - val_accuracy: 0.9949\n",
      "Epoch 10/100\n",
      "2282/2282 [==============================] - 24s 10ms/step - loss: 0.1191 - accuracy: 0.9833 - val_loss: 0.0169 - val_accuracy: 0.9984\n",
      "Epoch 11/100\n",
      "2282/2282 [==============================] - 23s 10ms/step - loss: 0.1203 - accuracy: 0.9895 - val_loss: 0.0473 - val_accuracy: 0.9895\n",
      "Epoch 12/100\n",
      "2282/2282 [==============================] - 23s 10ms/step - loss: 0.0726 - accuracy: 0.9915 - val_loss: 4.4584 - val_accuracy: 0.6748\n",
      "Epoch 13/100\n",
      "2282/2282 [==============================] - 23s 10ms/step - loss: 0.1234 - accuracy: 0.9844 - val_loss: 0.0155 - val_accuracy: 0.9984\n",
      "Epoch 14/100\n",
      "2282/2282 [==============================] - 23s 10ms/step - loss: 0.0456 - accuracy: 0.9935 - val_loss: 0.0285 - val_accuracy: 0.9942\n",
      "Epoch 15/100\n",
      "2282/2282 [==============================] - 23s 10ms/step - loss: 0.2332 - accuracy: 0.9551 - val_loss: 0.0166 - val_accuracy: 0.9977\n",
      "Epoch 16/100\n",
      "2282/2282 [==============================] - 23s 10ms/step - loss: 0.0824 - accuracy: 0.9914 - val_loss: 0.0153 - val_accuracy: 0.9984\n",
      "Epoch 17/100\n",
      "2282/2282 [==============================] - 22s 10ms/step - loss: 0.0899 - accuracy: 0.9885 - val_loss: 0.0285 - val_accuracy: 0.9974\n",
      "Epoch 18/100\n",
      "2282/2282 [==============================] - 23s 10ms/step - loss: 0.2086 - accuracy: 0.9694 - val_loss: 0.4587 - val_accuracy: 0.8338\n",
      "Epoch 19/100\n",
      "2282/2282 [==============================] - 23s 10ms/step - loss: 0.0668 - accuracy: 0.9878 - val_loss: 0.0438 - val_accuracy: 0.9902\n",
      "Epoch 20/100\n",
      "2282/2282 [==============================] - 22s 10ms/step - loss: 0.1707 - accuracy: 0.9859 - val_loss: 0.0134 - val_accuracy: 0.9986\n",
      "Epoch 21/100\n",
      "2282/2282 [==============================] - 23s 10ms/step - loss: 0.0895 - accuracy: 0.9810 - val_loss: 0.0311 - val_accuracy: 0.9982\n",
      "Epoch 22/100\n",
      "2282/2282 [==============================] - 24s 10ms/step - loss: 0.0992 - accuracy: 0.9880 - val_loss: 0.0171 - val_accuracy: 0.9975\n",
      "Epoch 23/100\n",
      "2282/2282 [==============================] - 24s 11ms/step - loss: 0.0678 - accuracy: 0.9930 - val_loss: 0.0137 - val_accuracy: 0.9986\n",
      "Epoch 24/100\n",
      "2282/2282 [==============================] - 23s 10ms/step - loss: 0.1282 - accuracy: 0.9795 - val_loss: 0.0161 - val_accuracy: 0.9977\n",
      "Epoch 25/100\n",
      "2282/2282 [==============================] - 23s 10ms/step - loss: 0.2176 - accuracy: 0.9796 - val_loss: 0.0127 - val_accuracy: 0.9974\n",
      "Epoch 26/100\n",
      "2282/2282 [==============================] - 23s 10ms/step - loss: 0.0258 - accuracy: 0.9961 - val_loss: 0.0086 - val_accuracy: 0.9988\n",
      "Epoch 27/100\n",
      "2282/2282 [==============================] - 23s 10ms/step - loss: 0.1701 - accuracy: 0.9764 - val_loss: 0.0841 - val_accuracy: 0.9816\n",
      "Epoch 28/100\n",
      "2282/2282 [==============================] - 23s 10ms/step - loss: 0.1336 - accuracy: 0.9869 - val_loss: 0.0120 - val_accuracy: 0.9975\n",
      "Epoch 29/100\n",
      "2282/2282 [==============================] - 24s 10ms/step - loss: 0.0689 - accuracy: 0.9921 - val_loss: 0.0155 - val_accuracy: 0.9986\n",
      "Epoch 30/100\n",
      "2282/2282 [==============================] - 24s 11ms/step - loss: 0.1414 - accuracy: 0.9865 - val_loss: 0.0782 - val_accuracy: 0.9968\n",
      "Epoch 31/100\n",
      "2282/2282 [==============================] - 22s 10ms/step - loss: 0.2971 - accuracy: 0.9840 - val_loss: 0.0156 - val_accuracy: 0.9967\n",
      "Epoch 32/100\n",
      "2282/2282 [==============================] - 23s 10ms/step - loss: 0.0555 - accuracy: 0.9943 - val_loss: 0.0286 - val_accuracy: 0.9975\n",
      "Epoch 33/100\n",
      "2282/2282 [==============================] - 23s 10ms/step - loss: 0.1433 - accuracy: 0.9869 - val_loss: 0.0229 - val_accuracy: 0.9949\n",
      "Epoch 34/100\n",
      "2282/2282 [==============================] - 23s 10ms/step - loss: 0.0928 - accuracy: 0.9888 - val_loss: 0.0255 - val_accuracy: 0.9958\n",
      "Epoch 35/100\n",
      "2282/2282 [==============================] - 25s 11ms/step - loss: 0.0895 - accuracy: 0.9867 - val_loss: 0.0072 - val_accuracy: 0.9986\n",
      "Epoch 36/100\n",
      "2282/2282 [==============================] - 23s 10ms/step - loss: 0.0974 - accuracy: 0.9908 - val_loss: 0.0130 - val_accuracy: 0.9982\n",
      "Epoch 37/100\n",
      "2282/2282 [==============================] - 24s 10ms/step - loss: 0.0651 - accuracy: 0.9924 - val_loss: 0.0539 - val_accuracy: 0.9879\n",
      "Epoch 38/100\n",
      "2282/2282 [==============================] - 23s 10ms/step - loss: 0.1580 - accuracy: 0.9813 - val_loss: 0.1162 - val_accuracy: 0.9704\n",
      "Epoch 39/100\n",
      "2282/2282 [==============================] - 25s 11ms/step - loss: 0.1022 - accuracy: 0.9874 - val_loss: 0.0193 - val_accuracy: 0.9958\n",
      "Epoch 40/100\n",
      "2282/2282 [==============================] - 23s 10ms/step - loss: 0.0801 - accuracy: 0.9861 - val_loss: 0.0665 - val_accuracy: 0.9795\n",
      "Epoch 41/100\n",
      "2282/2282 [==============================] - 23s 10ms/step - loss: 0.0882 - accuracy: 0.9903 - val_loss: 0.0135 - val_accuracy: 0.9974\n",
      "Epoch 42/100\n",
      "2282/2282 [==============================] - 23s 10ms/step - loss: 0.0812 - accuracy: 0.9897 - val_loss: 0.0197 - val_accuracy: 0.9979\n",
      "Epoch 43/100\n",
      "2282/2282 [==============================] - 24s 10ms/step - loss: 0.0380 - accuracy: 0.9942 - val_loss: 0.0089 - val_accuracy: 0.9984\n",
      "Epoch 44/100\n",
      "2282/2282 [==============================] - 23s 10ms/step - loss: 0.0764 - accuracy: 0.9919 - val_loss: 0.0247 - val_accuracy: 0.9960\n",
      "Epoch 45/100\n",
      "2282/2282 [==============================] - 23s 10ms/step - loss: 0.1749 - accuracy: 0.9808 - val_loss: 0.0121 - val_accuracy: 0.9982\n",
      "Epoch 46/100\n",
      "2282/2282 [==============================] - 24s 10ms/step - loss: 0.1370 - accuracy: 0.9816 - val_loss: 0.0328 - val_accuracy: 0.9939\n",
      "Epoch 47/100\n",
      "2282/2282 [==============================] - 24s 10ms/step - loss: 0.0830 - accuracy: 0.9871 - val_loss: 0.0129 - val_accuracy: 0.9984\n",
      "Epoch 48/100\n",
      "2282/2282 [==============================] - 24s 10ms/step - loss: 0.0613 - accuracy: 0.9907 - val_loss: 0.0165 - val_accuracy: 0.9977\n",
      "Epoch 49/100\n",
      "2282/2282 [==============================] - 24s 10ms/step - loss: 0.0905 - accuracy: 0.9921 - val_loss: 0.0426 - val_accuracy: 0.9977\n",
      "Epoch 50/100\n",
      "2282/2282 [==============================] - 23s 10ms/step - loss: 0.0975 - accuracy: 0.9869 - val_loss: 0.1172 - val_accuracy: 0.9683\n",
      "Epoch 51/100\n",
      "2282/2282 [==============================] - 24s 11ms/step - loss: 0.1789 - accuracy: 0.9700 - val_loss: 0.0465 - val_accuracy: 0.9977\n",
      "Epoch 52/100\n",
      "2282/2282 [==============================] - 24s 11ms/step - loss: 0.2608 - accuracy: 0.9608 - val_loss: 0.0405 - val_accuracy: 0.9944\n",
      "Epoch 53/100\n",
      "2282/2282 [==============================] - 24s 10ms/step - loss: 0.1081 - accuracy: 0.9792 - val_loss: 0.0180 - val_accuracy: 0.9977\n",
      "Epoch 54/100\n",
      "2282/2282 [==============================] - 24s 10ms/step - loss: 0.0536 - accuracy: 0.9922 - val_loss: 0.0090 - val_accuracy: 0.9988\n",
      "Epoch 55/100\n",
      "2282/2282 [==============================] - 23s 10ms/step - loss: 0.1128 - accuracy: 0.9836 - val_loss: 0.0480 - val_accuracy: 0.9919\n",
      "Epoch 56/100\n",
      "2282/2282 [==============================] - 23s 10ms/step - loss: 0.0746 - accuracy: 0.9878 - val_loss: 0.0465 - val_accuracy: 0.9909\n",
      "Epoch 57/100\n",
      "2282/2282 [==============================] - 23s 10ms/step - loss: 0.1117 - accuracy: 0.9837 - val_loss: 0.0635 - val_accuracy: 0.9869\n",
      "Epoch 58/100\n",
      "2282/2282 [==============================] - 23s 10ms/step - loss: 0.0911 - accuracy: 0.9857 - val_loss: 0.0658 - val_accuracy: 0.9793\n",
      "Epoch 59/100\n",
      "2282/2282 [==============================] - 23s 10ms/step - loss: 0.0700 - accuracy: 0.9903 - val_loss: 0.0493 - val_accuracy: 0.9805\n",
      "Epoch 60/100\n",
      "2282/2282 [==============================] - 24s 10ms/step - loss: 0.0692 - accuracy: 0.9938 - val_loss: 0.0084 - val_accuracy: 0.9986\n",
      "Epoch 61/100\n",
      "2282/2282 [==============================] - 24s 11ms/step - loss: 0.0869 - accuracy: 0.9876 - val_loss: 0.0163 - val_accuracy: 0.9991\n",
      "Epoch 62/100\n",
      "2282/2282 [==============================] - 24s 10ms/step - loss: 0.1550 - accuracy: 0.9673 - val_loss: 0.0159 - val_accuracy: 0.9977\n",
      "Epoch 63/100\n",
      "2282/2282 [==============================] - 24s 11ms/step - loss: 0.1028 - accuracy: 0.9898 - val_loss: 0.0941 - val_accuracy: 0.9749\n",
      "Epoch 64/100\n",
      "2282/2282 [==============================] - 24s 10ms/step - loss: 0.1361 - accuracy: 0.9876 - val_loss: 0.0384 - val_accuracy: 0.9928\n",
      "Epoch 65/100\n",
      "2282/2282 [==============================] - 23s 10ms/step - loss: 0.1375 - accuracy: 0.9907 - val_loss: 0.1130 - val_accuracy: 0.9916\n",
      "Epoch 66/100\n",
      "2282/2282 [==============================] - 24s 10ms/step - loss: 0.0373 - accuracy: 0.9945 - val_loss: 0.0186 - val_accuracy: 0.9968\n",
      "Epoch 67/100\n",
      "2282/2282 [==============================] - 24s 10ms/step - loss: 0.0509 - accuracy: 0.9947 - val_loss: 0.0154 - val_accuracy: 0.9977\n",
      "Epoch 68/100\n",
      "2282/2282 [==============================] - 23s 10ms/step - loss: 0.0676 - accuracy: 0.9942 - val_loss: 0.0173 - val_accuracy: 0.9967\n",
      "Epoch 69/100\n",
      "2282/2282 [==============================] - 24s 10ms/step - loss: 0.0469 - accuracy: 0.9941 - val_loss: 0.0153 - val_accuracy: 0.9977\n",
      "Epoch 70/100\n",
      "2282/2282 [==============================] - 24s 10ms/step - loss: 0.0280 - accuracy: 0.9957 - val_loss: 0.0103 - val_accuracy: 0.9984\n",
      "Epoch 71/100\n",
      "2282/2282 [==============================] - 23s 10ms/step - loss: 0.0977 - accuracy: 0.9903 - val_loss: 0.0258 - val_accuracy: 0.9972\n",
      "Epoch 72/100\n",
      "2282/2282 [==============================] - 24s 10ms/step - loss: 0.0803 - accuracy: 0.9902 - val_loss: 0.0161 - val_accuracy: 0.9984\n",
      "Epoch 73/100\n",
      "2282/2282 [==============================] - 23s 10ms/step - loss: 0.1199 - accuracy: 0.9859 - val_loss: 0.0183 - val_accuracy: 0.9965\n",
      "Epoch 74/100\n",
      "2282/2282 [==============================] - 24s 10ms/step - loss: 0.0839 - accuracy: 0.9918 - val_loss: 0.0115 - val_accuracy: 0.9982\n",
      "Epoch 75/100\n",
      "2282/2282 [==============================] - 23s 10ms/step - loss: 0.0292 - accuracy: 0.9964 - val_loss: 0.0330 - val_accuracy: 0.9968\n",
      "Epoch 76/100\n",
      "2282/2282 [==============================] - 24s 10ms/step - loss: 0.0279 - accuracy: 0.9962 - val_loss: 0.0075 - val_accuracy: 0.9984\n",
      "Epoch 77/100\n",
      "2282/2282 [==============================] - 24s 11ms/step - loss: 0.0217 - accuracy: 0.9971 - val_loss: 0.0092 - val_accuracy: 0.9984\n",
      "Epoch 78/100\n",
      "2282/2282 [==============================] - 23s 10ms/step - loss: 0.0328 - accuracy: 0.9959 - val_loss: 0.0122 - val_accuracy: 0.9982\n",
      "Epoch 79/100\n",
      "2282/2282 [==============================] - 24s 10ms/step - loss: 0.0468 - accuracy: 0.9940 - val_loss: 0.0094 - val_accuracy: 0.9981\n",
      "Epoch 80/100\n",
      "2282/2282 [==============================] - 24s 11ms/step - loss: 0.0377 - accuracy: 0.9948 - val_loss: 0.0910 - val_accuracy: 0.9981\n",
      "Epoch 81/100\n",
      "2282/2282 [==============================] - 23s 10ms/step - loss: 0.0657 - accuracy: 0.9951 - val_loss: 0.0095 - val_accuracy: 0.9986\n",
      "Epoch 82/100\n",
      "2282/2282 [==============================] - 24s 10ms/step - loss: 0.1219 - accuracy: 0.9949 - val_loss: 0.0140 - val_accuracy: 0.9988\n",
      "Epoch 83/100\n",
      "2282/2282 [==============================] - 23s 10ms/step - loss: 0.0648 - accuracy: 0.9945 - val_loss: 0.0404 - val_accuracy: 0.9960\n",
      "Epoch 84/100\n",
      "2282/2282 [==============================] - 23s 10ms/step - loss: 0.0847 - accuracy: 0.9962 - val_loss: 0.0755 - val_accuracy: 0.9989\n",
      "Epoch 85/100\n",
      "2282/2282 [==============================] - 24s 11ms/step - loss: 0.2143 - accuracy: 0.9917 - val_loss: 0.0353 - val_accuracy: 0.9986\n",
      "Epoch 86/100\n",
      "2282/2282 [==============================] - 23s 10ms/step - loss: 0.0990 - accuracy: 0.9922 - val_loss: 0.0145 - val_accuracy: 0.9979\n",
      "Epoch 87/100\n",
      "2282/2282 [==============================] - 24s 10ms/step - loss: 0.0273 - accuracy: 0.9967 - val_loss: 0.0458 - val_accuracy: 0.9984\n",
      "Epoch 88/100\n",
      "2282/2282 [==============================] - 24s 10ms/step - loss: 0.1411 - accuracy: 0.9945 - val_loss: 0.0352 - val_accuracy: 0.9982\n",
      "Epoch 89/100\n",
      "2282/2282 [==============================] - 25s 11ms/step - loss: 0.0959 - accuracy: 0.9953 - val_loss: 0.0263 - val_accuracy: 0.9981\n",
      "Epoch 90/100\n",
      "2282/2282 [==============================] - 23s 10ms/step - loss: 0.0602 - accuracy: 0.9946 - val_loss: 0.0097 - val_accuracy: 0.9986\n",
      "Epoch 91/100\n",
      "2282/2282 [==============================] - 25s 11ms/step - loss: 0.0838 - accuracy: 0.9948 - val_loss: 0.1017 - val_accuracy: 0.9758\n",
      "Epoch 92/100\n",
      "2282/2282 [==============================] - 23s 10ms/step - loss: 0.1767 - accuracy: 0.9833 - val_loss: 0.0283 - val_accuracy: 0.9940\n",
      "Epoch 93/100\n",
      "2282/2282 [==============================] - 23s 10ms/step - loss: 0.1086 - accuracy: 0.9866 - val_loss: 0.0467 - val_accuracy: 0.9879\n",
      "Epoch 94/100\n",
      "2282/2282 [==============================] - 23s 10ms/step - loss: 0.0976 - accuracy: 0.9874 - val_loss: 0.0203 - val_accuracy: 0.9947\n",
      "Epoch 95/100\n",
      "2282/2282 [==============================] - 23s 10ms/step - loss: 0.1088 - accuracy: 0.9908 - val_loss: 0.1189 - val_accuracy: 0.9663\n",
      "Epoch 96/100\n",
      "2282/2282 [==============================] - 23s 10ms/step - loss: 0.0696 - accuracy: 0.9878 - val_loss: 0.0214 - val_accuracy: 0.9961\n",
      "Epoch 97/100\n",
      "2282/2282 [==============================] - 23s 10ms/step - loss: 0.0894 - accuracy: 0.9882 - val_loss: 0.0132 - val_accuracy: 0.9974\n",
      "Epoch 98/100\n",
      "2282/2282 [==============================] - 23s 10ms/step - loss: 0.0666 - accuracy: 0.9925 - val_loss: 0.0149 - val_accuracy: 0.9972\n",
      "Epoch 99/100\n",
      "2282/2282 [==============================] - 23s 10ms/step - loss: 0.0374 - accuracy: 0.9960 - val_loss: 0.0107 - val_accuracy: 0.9975\n",
      "Epoch 100/100\n",
      "2282/2282 [==============================] - 22s 10ms/step - loss: 0.0474 - accuracy: 0.9948 - val_loss: 0.0103 - val_accuracy: 0.9984\n"
     ]
    },
    {
     "data": {
      "text/plain": [
       "<keras.callbacks.History at 0x289373f40>"
      ]
     },
     "execution_count": 8,
     "metadata": {},
     "output_type": "execute_result"
    }
   ],
   "source": [
    "model.fit(x_train, y_train, epochs=100, batch_size=10, validation_data=(x_test, y_test))"
   ]
  },
  {
   "cell_type": "markdown",
   "metadata": {},
   "source": [
    "### 4. Evaluate model with Train set"
   ]
  },
  {
   "cell_type": "markdown",
   "metadata": {},
   "source": [
    "#### 4.1. Confusion matrix"
   ]
  },
  {
   "cell_type": "code",
   "execution_count": 6,
   "metadata": {},
   "outputs": [
    {
     "ename": "NameError",
     "evalue": "name 'model' is not defined",
     "output_type": "error",
     "traceback": [
      "\u001b[0;31m---------------------------------------------------------------------------\u001b[0m",
      "\u001b[0;31mNameError\u001b[0m                                 Traceback (most recent call last)",
      "\u001b[1;32m/Users/fuixlabsdev1/Programming/PP/graduation-thesis/core/plank_model/3.deep_learning_model.ipynb Cell 14\u001b[0m in \u001b[0;36m<cell line: 1>\u001b[0;34m()\u001b[0m\n\u001b[0;32m----> <a href='vscode-notebook-cell:/Users/fuixlabsdev1/Programming/PP/graduation-thesis/core/plank_model/3.deep_learning_model.ipynb#X16sZmlsZQ%3D%3D?line=0'>1</a>\u001b[0m predict_x \u001b[39m=\u001b[39m model\u001b[39m.\u001b[39mpredict(x_test) \n\u001b[1;32m      <a href='vscode-notebook-cell:/Users/fuixlabsdev1/Programming/PP/graduation-thesis/core/plank_model/3.deep_learning_model.ipynb#X16sZmlsZQ%3D%3D?line=1'>2</a>\u001b[0m y_pred_class \u001b[39m=\u001b[39m np\u001b[39m.\u001b[39margmax(predict_x, axis\u001b[39m=\u001b[39m\u001b[39m1\u001b[39m)\n\u001b[1;32m      <a href='vscode-notebook-cell:/Users/fuixlabsdev1/Programming/PP/graduation-thesis/core/plank_model/3.deep_learning_model.ipynb#X16sZmlsZQ%3D%3D?line=2'>3</a>\u001b[0m y_test_class \u001b[39m=\u001b[39m np\u001b[39m.\u001b[39margmax(y_test, axis\u001b[39m=\u001b[39m\u001b[39m1\u001b[39m)\n",
      "\u001b[0;31mNameError\u001b[0m: name 'model' is not defined"
     ]
    }
   ],
   "source": [
    "predict_x = model.predict(x_test) \n",
    "y_pred_class = np.argmax(predict_x, axis=1)\n",
    "y_test_class = np.argmax(y_test, axis=1)\n",
    "\n",
    "confusion_matrix(y_test_class, y_pred_class)"
   ]
  },
  {
   "cell_type": "markdown",
   "metadata": {},
   "source": [
    "#### 4.2. Classification Report"
   ]
  },
  {
   "cell_type": "code",
   "execution_count": 10,
   "metadata": {},
   "outputs": [
    {
     "name": "stdout",
     "output_type": "stream",
     "text": [
      "              precision    recall  f1-score   support\n",
      "\n",
      "           0       1.00      1.00      1.00      1915\n",
      "           1       1.00      1.00      1.00      1844\n",
      "           2       1.00      1.00      1.00      1945\n",
      "\n",
      "    accuracy                           1.00      5704\n",
      "   macro avg       1.00      1.00      1.00      5704\n",
      "weighted avg       1.00      1.00      1.00      5704\n",
      "\n"
     ]
    }
   ],
   "source": [
    "print(classification_report(y_test_class, y_pred_class))"
   ]
  },
  {
   "cell_type": "markdown",
   "metadata": {},
   "source": [
    "### 5. Test set evaluation"
   ]
  },
  {
   "cell_type": "code",
   "execution_count": 7,
   "metadata": {},
   "outputs": [
    {
     "name": "stdout",
     "output_type": "stream",
     "text": [
      "Number of rows: 710 \n",
      "Number of columns: 69\n",
      "\n",
      "Labels: \n",
      "1    241\n",
      "2    235\n",
      "0    234\n",
      "Name: label, dtype: int64\n",
      "\n"
     ]
    }
   ],
   "source": [
    "# load dataset\n",
    "test_df = pd.read_csv(\"./test.csv\")\n",
    "\n",
    "# Categorizing label\n",
    "test_df.loc[test_df[\"label\"] == \"C\", \"label\"] = 0\n",
    "test_df.loc[test_df[\"label\"] == \"H\", \"label\"] = 1\n",
    "test_df.loc[test_df[\"label\"] == \"L\", \"label\"] = 2\n",
    "\n",
    "print(f'Number of rows: {test_df.shape[0]} \\nNumber of columns: {test_df.shape[1]}\\n')\n",
    "print(f\"Labels: \\n{test_df['label'].value_counts()}\\n\")"
   ]
  },
  {
   "cell_type": "code",
   "execution_count": 8,
   "metadata": {},
   "outputs": [],
   "source": [
    "# Standard Scaling of features\n",
    "test_x = test_df.drop(\"label\", axis = 1)\n",
    "test_x = pd.DataFrame(sc.transform(test_x))\n",
    "\n",
    "test_y = test_df[\"label\"]\n",
    "\n",
    "# # Converting prediction to categorical\n",
    "test_y_cat = to_categorical(test_y)"
   ]
  },
  {
   "cell_type": "code",
   "execution_count": 15,
   "metadata": {},
   "outputs": [
    {
     "name": "stdout",
     "output_type": "stream",
     "text": [
      "23/23 [==============================] - 0s 2ms/step\n"
     ]
    },
    {
     "name": "stderr",
     "output_type": "stream",
     "text": [
      "2022-11-17 13:51:30.434372: W tensorflow/core/platform/profile_utils/cpu_utils.cc:128] Failed to get CPU frequency: 0 Hz\n",
      "2022-11-17 13:51:30.468812: I tensorflow/core/grappler/optimizers/custom_graph_optimizer_registry.cc:113] Plugin optimizer for device_type GPU is enabled.\n"
     ]
    },
    {
     "data": {
      "text/plain": [
       "array([[234,   0,   0],\n",
       "       [  2, 239,   0],\n",
       "       [  2,   0, 233]])"
      ]
     },
     "execution_count": 15,
     "metadata": {},
     "output_type": "execute_result"
    }
   ],
   "source": [
    "predict_x = model.predict(test_x) \n",
    "y_pred_class = np.argmax(predict_x, axis=1)\n",
    "y_test_class = np.argmax(test_y_cat, axis=1)\n",
    "\n",
    "confusion_matrix(y_test_class, y_pred_class)"
   ]
  },
  {
   "cell_type": "code",
   "execution_count": 16,
   "metadata": {},
   "outputs": [
    {
     "name": "stdout",
     "output_type": "stream",
     "text": [
      "              precision    recall  f1-score   support\n",
      "\n",
      "           0       0.98      1.00      0.99       234\n",
      "           1       1.00      0.99      1.00       241\n",
      "           2       1.00      0.99      1.00       235\n",
      "\n",
      "    accuracy                           0.99       710\n",
      "   macro avg       0.99      0.99      0.99       710\n",
      "weighted avg       0.99      0.99      0.99       710\n",
      "\n"
     ]
    }
   ],
   "source": [
    "print(classification_report(y_test_class, y_pred_class))"
   ]
  },
  {
   "cell_type": "markdown",
   "metadata": {},
   "source": [
    "### 6. Dumped model"
   ]
  },
  {
   "cell_type": "code",
   "execution_count": 11,
   "metadata": {},
   "outputs": [
    {
     "name": "stdout",
     "output_type": "stream",
     "text": [
      "INFO:tensorflow:Assets written to: ram://6f04b047-f7ab-4415-9e36-cba3120d6d14/assets\n"
     ]
    }
   ],
   "source": [
    "# Dump the best model to a pickle file\n",
    "with open(\"./model/plank_model_deep_learning.pkl\", \"wb\") as f:\n",
    "    pickle.dump(model, f)"
   ]
  },
  {
   "cell_type": "code",
   "execution_count": 23,
   "metadata": {},
   "outputs": [],
   "source": [
    "# Dump input scaler\n",
    "with open(\"./model/input_scaler.pkl\", \"wb\") as f:\n",
    "    pickle.dump(sc, f)"
   ]
  }
 ],
 "metadata": {
  "kernelspec": {
   "display_name": "Python 3.8.13",
   "language": "python",
   "name": "python3"
  },
  "language_info": {
   "codemirror_mode": {
    "name": "ipython",
    "version": 3
   },
   "file_extension": ".py",
   "mimetype": "text/x-python",
   "name": "python",
   "nbconvert_exporter": "python",
   "pygments_lexer": "ipython3",
   "version": "3.8.13"
  },
  "orig_nbformat": 4,
  "vscode": {
   "interpreter": {
    "hash": "9260f401923fb5c4108c543a7d176de9733d378b3752e49535ad7c43c2271b65"
   }
  }
 },
 "nbformat": 4,
 "nbformat_minor": 2
}
