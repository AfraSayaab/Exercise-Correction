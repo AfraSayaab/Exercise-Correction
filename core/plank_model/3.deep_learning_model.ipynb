{
 "cells": [
  {
   "cell_type": "code",
   "execution_count": 1,
   "metadata": {},
   "outputs": [],
   "source": [
    "# Data visualization\n",
    "import matplotlib.pyplot as plt\n",
    "import seaborn as sns\n",
    "import numpy as np\n",
    "import pandas as pd \n",
    "import seaborn as sns\n",
    "# Keras\n",
    "from keras.models import Sequential\n",
    "from keras.layers import Dense\n",
    "from keras.layers import Dropout\n",
    "from keras.optimizers import SGD, Adam, Adadelta, RMSprop\n",
    "import keras.backend as K\n",
    "from keras.utils.np_utils import to_categorical\n",
    "\n",
    "# Train-Test\n",
    "from sklearn.model_selection import train_test_split\n",
    "# Scaling data\n",
    "from sklearn.preprocessing import StandardScaler\n",
    "# Classification Report\n",
    "from sklearn.metrics import classification_report\n",
    "\n",
    "import pickle\n",
    "\n",
    "import warnings\n",
    "warnings.filterwarnings('ignore')"
   ]
  },
  {
   "cell_type": "markdown",
   "metadata": {},
   "source": [
    "#### 1. Describe Dataset"
   ]
  },
  {
   "cell_type": "code",
   "execution_count": 2,
   "metadata": {},
   "outputs": [],
   "source": [
    "# Determine important landmarks for plank\n",
    "IMPORTANT_LMS = [\n",
    "    \"NOSE\",\n",
    "    \"LEFT_SHOULDER\",\n",
    "    \"RIGHT_SHOULDER\",\n",
    "    \"LEFT_ELBOW\",\n",
    "    \"RIGHT_ELBOW\",\n",
    "    \"LEFT_WRIST\",\n",
    "    \"RIGHT_WRIST\",\n",
    "    \"LEFT_HIP\",\n",
    "    \"RIGHT_HIP\",\n",
    "    \"LEFT_KNEE\",\n",
    "    \"RIGHT_KNEE\",\n",
    "    \"LEFT_ANKLE\",\n",
    "    \"RIGHT_ANKLE\",\n",
    "    \"LEFT_HEEL\",\n",
    "    \"RIGHT_HEEL\",\n",
    "    \"LEFT_FOOT_INDEX\",\n",
    "    \"RIGHT_FOOT_INDEX\",\n",
    "]\n",
    "\n",
    "# Generate all columns of the data frame\n",
    "\n",
    "HEADERS = [\"label\"] # Label column\n",
    "\n",
    "for lm in IMPORTANT_LMS:\n",
    "    HEADERS += [f\"{lm.lower()}_x\", f\"{lm.lower()}_y\", f\"{lm.lower()}_z\", f\"{lm.lower()}_v\"]"
   ]
  },
  {
   "cell_type": "code",
   "execution_count": 3,
   "metadata": {},
   "outputs": [
    {
     "name": "stdout",
     "output_type": "stream",
     "text": [
      "Headers: ['label', 'nose_x', 'nose_y', 'nose_z', 'nose_v', 'left_shoulder_x', 'left_shoulder_y', 'left_shoulder_z', 'left_shoulder_v', 'right_shoulder_x', 'right_shoulder_y', 'right_shoulder_z', 'right_shoulder_v', 'left_elbow_x', 'left_elbow_y', 'left_elbow_z', 'left_elbow_v', 'right_elbow_x', 'right_elbow_y', 'right_elbow_z', 'right_elbow_v', 'left_wrist_x', 'left_wrist_y', 'left_wrist_z', 'left_wrist_v', 'right_wrist_x', 'right_wrist_y', 'right_wrist_z', 'right_wrist_v', 'left_hip_x', 'left_hip_y', 'left_hip_z', 'left_hip_v', 'right_hip_x', 'right_hip_y', 'right_hip_z', 'right_hip_v', 'left_knee_x', 'left_knee_y', 'left_knee_z', 'left_knee_v', 'right_knee_x', 'right_knee_y', 'right_knee_z', 'right_knee_v', 'left_ankle_x', 'left_ankle_y', 'left_ankle_z', 'left_ankle_v', 'right_ankle_x', 'right_ankle_y', 'right_ankle_z', 'right_ankle_v', 'left_heel_x', 'left_heel_y', 'left_heel_z', 'left_heel_v', 'right_heel_x', 'right_heel_y', 'right_heel_z', 'right_heel_v', 'left_foot_index_x', 'left_foot_index_y', 'left_foot_index_z', 'left_foot_index_v', 'right_foot_index_x', 'right_foot_index_y', 'right_foot_index_z', 'right_foot_index_v']\n",
      "Number of rows: 10881 \n",
      "Number of columns: 69\n",
      "\n",
      "Labels: \n",
      "H    3761\n",
      "L    3574\n",
      "C    3546\n",
      "Name: label, dtype: int64\n",
      "\n",
      "Missing values: False\n",
      "\n",
      "Duplicate Rows : 0\n"
     ]
    }
   ],
   "source": [
    "def describe_dataset(dataset_path: str):\n",
    "    '''\n",
    "    Describe dataset\n",
    "    '''\n",
    "\n",
    "    data = pd.read_csv(dataset_path)\n",
    "    print(f\"Headers: {list(data.columns.values)}\")\n",
    "    print(f'Number of rows: {data.shape[0]} \\nNumber of columns: {data.shape[1]}\\n')\n",
    "    print(f\"Labels: \\n{data['label'].value_counts()}\\n\")\n",
    "    print(f\"Missing values: {data.isnull().values.any()}\\n\")\n",
    "    \n",
    "    duplicate = data[data.duplicated()]\n",
    "    print(f\"Duplicate Rows : {len(duplicate.sum(axis=1))}\")\n",
    "\n",
    "    return data\n",
    "\n",
    "\n",
    "# Remove duplicate rows (optional)\n",
    "def remove_duplicate_rows(dataset_path: str):\n",
    "    '''\n",
    "    Remove duplicated data from the dataset then save it to another files\n",
    "    '''\n",
    "    \n",
    "    df = pd.read_csv(dataset_path)\n",
    "    df.drop_duplicates(keep=\"first\", inplace=True)\n",
    "    df.to_csv(f\"cleaned_dataset.csv\", sep=',', encoding='utf-8', index=False)\n",
    "\n",
    "\n",
    "df = describe_dataset(\"./dataset.csv\")"
   ]
  },
  {
   "cell_type": "markdown",
   "metadata": {},
   "source": [
    "#### 2. Preprocess Dataset"
   ]
  },
  {
   "cell_type": "code",
   "execution_count": 4,
   "metadata": {},
   "outputs": [
    {
     "name": "stdout",
     "output_type": "stream",
     "text": [
      "Number of rows: 10881 \n",
      "Number of columns: 69\n",
      "\n",
      "Labels: \n",
      "1    3761\n",
      "2    3574\n",
      "0    3546\n",
      "Name: label, dtype: int64\n",
      "\n"
     ]
    }
   ],
   "source": [
    "# load dataset\n",
    "df = pd.read_csv(\"./dataset.csv\")\n",
    "\n",
    "# Categorizing label\n",
    "df.loc[df[\"label\"] == \"C\", \"label\"] = 0\n",
    "df.loc[df[\"label\"] == \"H\", \"label\"] = 1\n",
    "df.loc[df[\"label\"] == \"L\", \"label\"] = 2\n",
    "\n",
    "print(f'Number of rows: {df.shape[0]} \\nNumber of columns: {df.shape[1]}\\n')\n",
    "print(f\"Labels: \\n{df['label'].value_counts()}\\n\")"
   ]
  },
  {
   "cell_type": "code",
   "execution_count": 5,
   "metadata": {},
   "outputs": [],
   "source": [
    "# Standard Scaling of features\n",
    "sc = StandardScaler()\n",
    "\n",
    "x = df.drop(\"label\", axis = 1)\n",
    "x = pd.DataFrame(sc.fit_transform(x))\n",
    "\n",
    "y = df[\"label\"]\n",
    "\n",
    "# Converting prediction to categorical\n",
    "y_cat = to_categorical(y)"
   ]
  },
  {
   "cell_type": "markdown",
   "metadata": {},
   "source": [
    "### 3. Split train/test set, construct model"
   ]
  },
  {
   "cell_type": "code",
   "execution_count": 6,
   "metadata": {},
   "outputs": [],
   "source": [
    "x_train, x_test, y_train, y_test = train_test_split(x.values, y_cat, test_size=0.2)"
   ]
  },
  {
   "cell_type": "code",
   "execution_count": 7,
   "metadata": {},
   "outputs": [
    {
     "name": "stdout",
     "output_type": "stream",
     "text": [
      "Metal device set to: Apple M1\n",
      "\n",
      "systemMemory: 16.00 GB\n",
      "maxCacheSize: 5.33 GB\n",
      "\n",
      "Model: \"sequential\"\n",
      "_________________________________________________________________\n",
      " Layer (type)                Output Shape              Param #   \n",
      "=================================================================\n",
      " dense (Dense)               (None, 68)                4692      \n",
      "                                                                 \n",
      " dropout (Dropout)           (None, 68)                0         \n",
      "                                                                 \n",
      " dense_1 (Dense)             (None, 68)                4692      \n",
      "                                                                 \n",
      " dropout_1 (Dropout)         (None, 68)                0         \n",
      "                                                                 \n",
      " dense_2 (Dense)             (None, 14)                966       \n",
      "                                                                 \n",
      " dense_3 (Dense)             (None, 3)                 45        \n",
      "                                                                 \n",
      "=================================================================\n",
      "Total params: 10,395\n",
      "Trainable params: 10,395\n",
      "Non-trainable params: 0\n",
      "_________________________________________________________________\n"
     ]
    },
    {
     "name": "stderr",
     "output_type": "stream",
     "text": [
      "2022-10-07 16:28:21.698330: I tensorflow/core/common_runtime/pluggable_device/pluggable_device_factory.cc:305] Could not identify NUMA node of platform GPU ID 0, defaulting to 0. Your kernel may not have been built with NUMA support.\n",
      "2022-10-07 16:28:21.698901: I tensorflow/core/common_runtime/pluggable_device/pluggable_device_factory.cc:271] Created TensorFlow device (/job:localhost/replica:0/task:0/device:GPU:0 with 0 MB memory) -> physical PluggableDevice (device: 0, name: METAL, pci bus id: <undefined>)\n"
     ]
    }
   ],
   "source": [
    "model = Sequential()\n",
    "model.add(Dense(68, input_dim = 68, activation = \"relu\"))\n",
    "model.add(Dropout(0.5))\n",
    "model.add(Dense(68, activation = \"relu\"))\n",
    "model.add(Dropout(0.5))\n",
    "model.add(Dense(14, activation = \"relu\"))\n",
    "model.add(Dense(3, activation = \"softmax\"))\n",
    "model.compile(Adam(lr = 0.01), \"categorical_crossentropy\", metrics = [\"accuracy\"])\n",
    "model.summary()"
   ]
  },
  {
   "cell_type": "code",
   "execution_count": 8,
   "metadata": {},
   "outputs": [
    {
     "name": "stdout",
     "output_type": "stream",
     "text": [
      "Epoch 1/100\n"
     ]
    },
    {
     "name": "stderr",
     "output_type": "stream",
     "text": [
      "2022-10-07 16:28:25.272292: W tensorflow/core/platform/profile_utils/cpu_utils.cc:128] Failed to get CPU frequency: 0 Hz\n"
     ]
    },
    {
     "name": "stdout",
     "output_type": "stream",
     "text": [
      "  1/871 [..............................] - ETA: 5:34 - loss: 3.4527 - accuracy: 0.1000"
     ]
    },
    {
     "name": "stderr",
     "output_type": "stream",
     "text": [
      "2022-10-07 16:28:25.525688: I tensorflow/core/grappler/optimizers/custom_graph_optimizer_registry.cc:113] Plugin optimizer for device_type GPU is enabled.\n"
     ]
    },
    {
     "name": "stdout",
     "output_type": "stream",
     "text": [
      "871/871 [==============================] - ETA: 0s - loss: 0.1280 - accuracy: 0.9600"
     ]
    },
    {
     "name": "stderr",
     "output_type": "stream",
     "text": [
      "2022-10-07 16:28:33.524507: I tensorflow/core/grappler/optimizers/custom_graph_optimizer_registry.cc:113] Plugin optimizer for device_type GPU is enabled.\n"
     ]
    },
    {
     "name": "stdout",
     "output_type": "stream",
     "text": [
      "871/871 [==============================] - 9s 10ms/step - loss: 0.1280 - accuracy: 0.9600 - val_loss: 0.0262 - val_accuracy: 0.9917\n",
      "Epoch 2/100\n",
      "871/871 [==============================] - 9s 10ms/step - loss: 0.0567 - accuracy: 0.9879 - val_loss: 0.0212 - val_accuracy: 0.9931\n",
      "Epoch 3/100\n",
      "871/871 [==============================] - 8s 10ms/step - loss: 0.0238 - accuracy: 0.9947 - val_loss: 0.0220 - val_accuracy: 0.9977\n",
      "Epoch 4/100\n",
      "871/871 [==============================] - 8s 10ms/step - loss: 0.0627 - accuracy: 0.9903 - val_loss: 0.0117 - val_accuracy: 0.9977\n",
      "Epoch 5/100\n",
      "871/871 [==============================] - 9s 10ms/step - loss: 0.0519 - accuracy: 0.9831 - val_loss: 0.0205 - val_accuracy: 0.9931\n",
      "Epoch 6/100\n",
      "871/871 [==============================] - 8s 10ms/step - loss: 0.1966 - accuracy: 0.9613 - val_loss: 0.0334 - val_accuracy: 0.9835\n",
      "Epoch 7/100\n",
      "871/871 [==============================] - 9s 10ms/step - loss: 0.0646 - accuracy: 0.9790 - val_loss: 0.0129 - val_accuracy: 0.9972\n",
      "Epoch 8/100\n",
      "871/871 [==============================] - 8s 10ms/step - loss: 0.0242 - accuracy: 0.9947 - val_loss: 0.0171 - val_accuracy: 0.9871\n",
      "Epoch 9/100\n",
      "871/871 [==============================] - 9s 10ms/step - loss: 0.0829 - accuracy: 0.9843 - val_loss: 0.0414 - val_accuracy: 0.9894\n",
      "Epoch 10/100\n",
      "871/871 [==============================] - 9s 10ms/step - loss: 0.0402 - accuracy: 0.9852 - val_loss: 0.0040 - val_accuracy: 0.9963\n",
      "Epoch 11/100\n",
      "871/871 [==============================] - 8s 10ms/step - loss: 0.0170 - accuracy: 0.9955 - val_loss: 0.0184 - val_accuracy: 0.9991\n",
      "Epoch 12/100\n",
      "871/871 [==============================] - 9s 10ms/step - loss: 0.1095 - accuracy: 0.9926 - val_loss: 0.0150 - val_accuracy: 0.9972\n",
      "Epoch 13/100\n",
      "871/871 [==============================] - 8s 10ms/step - loss: 0.0866 - accuracy: 0.9851 - val_loss: 0.0197 - val_accuracy: 0.9917\n",
      "Epoch 14/100\n",
      "871/871 [==============================] - 8s 10ms/step - loss: 0.1149 - accuracy: 0.9761 - val_loss: 0.0454 - val_accuracy: 0.9949\n",
      "Epoch 15/100\n",
      "871/871 [==============================] - 8s 10ms/step - loss: 0.0432 - accuracy: 0.9916 - val_loss: 0.0279 - val_accuracy: 0.9949\n",
      "Epoch 16/100\n",
      "871/871 [==============================] - 9s 11ms/step - loss: 0.0868 - accuracy: 0.9847 - val_loss: 0.0263 - val_accuracy: 0.9954\n",
      "Epoch 17/100\n",
      "871/871 [==============================] - 9s 11ms/step - loss: 0.0467 - accuracy: 0.9924 - val_loss: 0.0282 - val_accuracy: 0.9945\n",
      "Epoch 18/100\n",
      "871/871 [==============================] - 9s 10ms/step - loss: 0.0172 - accuracy: 0.9970 - val_loss: 0.0293 - val_accuracy: 0.9945\n",
      "Epoch 19/100\n",
      "871/871 [==============================] - 9s 11ms/step - loss: 0.0437 - accuracy: 0.9936 - val_loss: 0.0166 - val_accuracy: 0.9977\n",
      "Epoch 20/100\n",
      "871/871 [==============================] - 9s 10ms/step - loss: 0.0993 - accuracy: 0.9918 - val_loss: 0.0204 - val_accuracy: 0.9963\n",
      "Epoch 21/100\n",
      "871/871 [==============================] - 9s 10ms/step - loss: 0.1298 - accuracy: 0.9876 - val_loss: 0.0316 - val_accuracy: 0.9945\n",
      "Epoch 22/100\n",
      "871/871 [==============================] - 8s 10ms/step - loss: 0.0379 - accuracy: 0.9924 - val_loss: 0.0203 - val_accuracy: 0.9963\n",
      "Epoch 23/100\n",
      "871/871 [==============================] - 8s 10ms/step - loss: 0.0402 - accuracy: 0.9951 - val_loss: 0.0827 - val_accuracy: 0.9977\n",
      "Epoch 24/100\n",
      "871/871 [==============================] - 8s 10ms/step - loss: 0.0236 - accuracy: 0.9957 - val_loss: 0.0202 - val_accuracy: 0.9963\n",
      "Epoch 25/100\n",
      "871/871 [==============================] - 8s 10ms/step - loss: 0.0420 - accuracy: 0.9924 - val_loss: 0.0267 - val_accuracy: 0.9949\n",
      "Epoch 26/100\n",
      "871/871 [==============================] - 8s 10ms/step - loss: 0.1001 - accuracy: 0.9838 - val_loss: 0.0323 - val_accuracy: 0.9940\n",
      "Epoch 27/100\n",
      "871/871 [==============================] - 8s 10ms/step - loss: 0.1293 - accuracy: 0.9874 - val_loss: 0.0364 - val_accuracy: 0.9931\n",
      "Epoch 28/100\n",
      "871/871 [==============================] - 9s 10ms/step - loss: 0.0827 - accuracy: 0.9817 - val_loss: 0.0364 - val_accuracy: 0.9940\n",
      "Epoch 29/100\n",
      "871/871 [==============================] - 8s 10ms/step - loss: 0.1044 - accuracy: 0.9887 - val_loss: 0.0265 - val_accuracy: 0.9949\n",
      "Epoch 30/100\n",
      "871/871 [==============================] - 8s 10ms/step - loss: 0.0933 - accuracy: 0.9932 - val_loss: 0.0299 - val_accuracy: 0.9936\n",
      "Epoch 31/100\n",
      "871/871 [==============================] - 8s 10ms/step - loss: 0.0302 - accuracy: 0.9941 - val_loss: 0.0232 - val_accuracy: 0.9954\n",
      "Epoch 32/100\n",
      "871/871 [==============================] - 8s 10ms/step - loss: 0.0405 - accuracy: 0.9975 - val_loss: 0.0114 - val_accuracy: 0.9982\n",
      "Epoch 33/100\n",
      "871/871 [==============================] - 8s 10ms/step - loss: 0.0304 - accuracy: 0.9959 - val_loss: 0.0261 - val_accuracy: 0.9949\n",
      "Epoch 34/100\n",
      "871/871 [==============================] - 8s 10ms/step - loss: 0.0844 - accuracy: 0.9891 - val_loss: 0.0436 - val_accuracy: 0.9913\n",
      "Epoch 35/100\n",
      "871/871 [==============================] - 8s 10ms/step - loss: 0.0792 - accuracy: 0.9864 - val_loss: 0.0306 - val_accuracy: 0.9945\n",
      "Epoch 36/100\n",
      "871/871 [==============================] - 8s 10ms/step - loss: 0.1258 - accuracy: 0.9910 - val_loss: 0.0210 - val_accuracy: 0.9963\n",
      "Epoch 37/100\n",
      "871/871 [==============================] - 8s 10ms/step - loss: 0.0852 - accuracy: 0.9925 - val_loss: 0.0162 - val_accuracy: 0.9972\n",
      "Epoch 38/100\n",
      "871/871 [==============================] - 8s 10ms/step - loss: 0.0208 - accuracy: 0.9964 - val_loss: 0.0159 - val_accuracy: 0.9972\n",
      "Epoch 39/100\n",
      "871/871 [==============================] - 8s 10ms/step - loss: 0.0209 - accuracy: 0.9963 - val_loss: 0.0159 - val_accuracy: 0.9972\n",
      "Epoch 40/100\n",
      "871/871 [==============================] - 9s 10ms/step - loss: 0.0183 - accuracy: 0.9969 - val_loss: 0.0159 - val_accuracy: 0.9972\n",
      "Epoch 41/100\n",
      "871/871 [==============================] - 8s 10ms/step - loss: 0.1013 - accuracy: 0.9947 - val_loss: 0.0265 - val_accuracy: 0.9949\n",
      "Epoch 42/100\n",
      "871/871 [==============================] - 8s 10ms/step - loss: 0.0708 - accuracy: 0.9929 - val_loss: 0.0223 - val_accuracy: 0.9959\n",
      "Epoch 43/100\n",
      "871/871 [==============================] - 8s 10ms/step - loss: 0.0238 - accuracy: 0.9956 - val_loss: 0.0182 - val_accuracy: 0.9968\n",
      "Epoch 44/100\n",
      "871/871 [==============================] - 8s 10ms/step - loss: 0.0211 - accuracy: 0.9962 - val_loss: 0.0181 - val_accuracy: 0.9968\n",
      "Epoch 45/100\n",
      "871/871 [==============================] - 8s 10ms/step - loss: 0.0484 - accuracy: 0.9964 - val_loss: 0.0261 - val_accuracy: 0.9949\n",
      "Epoch 46/100\n",
      "871/871 [==============================] - 8s 10ms/step - loss: 0.0494 - accuracy: 0.9924 - val_loss: 0.0209 - val_accuracy: 0.9963\n",
      "Epoch 47/100\n",
      "871/871 [==============================] - 9s 11ms/step - loss: 0.0410 - accuracy: 0.9930 - val_loss: 0.0302 - val_accuracy: 0.9940\n",
      "Epoch 48/100\n",
      "871/871 [==============================] - 9s 10ms/step - loss: 0.0441 - accuracy: 0.9917 - val_loss: 0.0281 - val_accuracy: 0.9945\n",
      "Epoch 49/100\n",
      "871/871 [==============================] - 8s 10ms/step - loss: 0.1133 - accuracy: 0.9797 - val_loss: 0.0615 - val_accuracy: 0.9913\n",
      "Epoch 50/100\n",
      "871/871 [==============================] - 8s 10ms/step - loss: 0.1103 - accuracy: 0.9770 - val_loss: 0.0414 - val_accuracy: 0.9936\n",
      "Epoch 51/100\n",
      "871/871 [==============================] - 8s 10ms/step - loss: 0.0965 - accuracy: 0.9784 - val_loss: 0.0432 - val_accuracy: 0.9936\n",
      "Epoch 52/100\n",
      "871/871 [==============================] - 8s 10ms/step - loss: 0.2529 - accuracy: 0.9692 - val_loss: 0.0770 - val_accuracy: 0.9871\n",
      "Epoch 53/100\n",
      "871/871 [==============================] - 8s 10ms/step - loss: 0.1273 - accuracy: 0.9713 - val_loss: 0.0421 - val_accuracy: 0.9917\n",
      "Epoch 54/100\n",
      "871/871 [==============================] - 8s 10ms/step - loss: 0.0694 - accuracy: 0.9929 - val_loss: 0.0258 - val_accuracy: 0.9949\n",
      "Epoch 55/100\n",
      "871/871 [==============================] - 8s 10ms/step - loss: 0.0297 - accuracy: 0.9946 - val_loss: 0.0189 - val_accuracy: 0.9968\n",
      "Epoch 56/100\n",
      "871/871 [==============================] - 8s 10ms/step - loss: 0.0284 - accuracy: 0.9946 - val_loss: 0.0184 - val_accuracy: 0.9968\n",
      "Epoch 57/100\n",
      "871/871 [==============================] - 8s 10ms/step - loss: 0.0262 - accuracy: 0.9951 - val_loss: 0.0183 - val_accuracy: 0.9968\n",
      "Epoch 58/100\n",
      "871/871 [==============================] - 8s 10ms/step - loss: 0.0251 - accuracy: 0.9953 - val_loss: 0.0181 - val_accuracy: 0.9968\n",
      "Epoch 59/100\n",
      "871/871 [==============================] - 8s 9ms/step - loss: 0.1340 - accuracy: 0.9797 - val_loss: 0.0373 - val_accuracy: 0.9940\n",
      "Epoch 60/100\n",
      "871/871 [==============================] - 8s 10ms/step - loss: 0.0971 - accuracy: 0.9829 - val_loss: 0.0403 - val_accuracy: 0.9936\n",
      "Epoch 61/100\n",
      "871/871 [==============================] - 8s 10ms/step - loss: 0.1015 - accuracy: 0.9801 - val_loss: 0.0421 - val_accuracy: 0.9945\n",
      "Epoch 62/100\n",
      "871/871 [==============================] - 8s 10ms/step - loss: 0.1256 - accuracy: 0.9698 - val_loss: 0.0472 - val_accuracy: 0.9940\n",
      "Epoch 63/100\n",
      "871/871 [==============================] - 8s 10ms/step - loss: 0.1031 - accuracy: 0.9764 - val_loss: 0.0297 - val_accuracy: 0.9972\n",
      "Epoch 64/100\n",
      "871/871 [==============================] - 8s 9ms/step - loss: 0.0589 - accuracy: 0.9879 - val_loss: 0.0214 - val_accuracy: 0.9972\n",
      "Epoch 65/100\n",
      "871/871 [==============================] - 8s 9ms/step - loss: 0.0375 - accuracy: 0.9932 - val_loss: 0.0183 - val_accuracy: 0.9972\n",
      "Epoch 66/100\n",
      "871/871 [==============================] - 8s 10ms/step - loss: 0.0519 - accuracy: 0.9895 - val_loss: 0.0195 - val_accuracy: 0.9972\n",
      "Epoch 67/100\n",
      "871/871 [==============================] - 8s 9ms/step - loss: 0.0443 - accuracy: 0.9912 - val_loss: 0.0185 - val_accuracy: 0.9972\n",
      "Epoch 68/100\n",
      "871/871 [==============================] - 8s 10ms/step - loss: 0.0385 - accuracy: 0.9928 - val_loss: 0.0182 - val_accuracy: 0.9972\n",
      "Epoch 69/100\n",
      "871/871 [==============================] - 8s 10ms/step - loss: 0.1811 - accuracy: 0.9906 - val_loss: 0.0219 - val_accuracy: 0.9963\n",
      "Epoch 70/100\n",
      "871/871 [==============================] - 8s 10ms/step - loss: 0.0732 - accuracy: 0.9928 - val_loss: 0.0214 - val_accuracy: 0.9963\n",
      "Epoch 71/100\n",
      "871/871 [==============================] - 9s 10ms/step - loss: 0.0333 - accuracy: 0.9935 - val_loss: 0.0219 - val_accuracy: 0.9963\n",
      "Epoch 72/100\n",
      "871/871 [==============================] - 9s 10ms/step - loss: 0.0303 - accuracy: 0.9947 - val_loss: 0.0164 - val_accuracy: 0.9972\n",
      "Epoch 73/100\n",
      "871/871 [==============================] - 9s 10ms/step - loss: 0.0277 - accuracy: 0.9947 - val_loss: 0.0162 - val_accuracy: 0.9972\n",
      "Epoch 74/100\n",
      "871/871 [==============================] - 8s 10ms/step - loss: 0.1291 - accuracy: 0.9945 - val_loss: 0.0244 - val_accuracy: 0.9954\n",
      "Epoch 75/100\n",
      "871/871 [==============================] - 8s 10ms/step - loss: 0.0982 - accuracy: 0.9955 - val_loss: 0.0206 - val_accuracy: 0.9963\n",
      "Epoch 76/100\n",
      "871/871 [==============================] - 9s 10ms/step - loss: 0.0280 - accuracy: 0.9949 - val_loss: 0.0210 - val_accuracy: 0.9959\n",
      "Epoch 77/100\n",
      "871/871 [==============================] - 8s 10ms/step - loss: 0.0484 - accuracy: 0.9931 - val_loss: 0.0327 - val_accuracy: 0.9945\n",
      "Epoch 78/100\n",
      "871/871 [==============================] - 8s 10ms/step - loss: 0.0324 - accuracy: 0.9944 - val_loss: 0.0249 - val_accuracy: 0.9954\n",
      "Epoch 79/100\n",
      "871/871 [==============================] - 8s 10ms/step - loss: 0.0293 - accuracy: 0.9945 - val_loss: 0.0226 - val_accuracy: 0.9959\n",
      "Epoch 80/100\n",
      "871/871 [==============================] - 8s 10ms/step - loss: 0.0280 - accuracy: 0.9947 - val_loss: 0.0225 - val_accuracy: 0.9959\n",
      "Epoch 81/100\n",
      "871/871 [==============================] - 8s 10ms/step - loss: 0.0290 - accuracy: 0.9944 - val_loss: 0.0224 - val_accuracy: 0.9959\n",
      "Epoch 82/100\n",
      "871/871 [==============================] - 8s 10ms/step - loss: 0.0256 - accuracy: 0.9952 - val_loss: 0.0221 - val_accuracy: 0.9959\n",
      "Epoch 83/100\n",
      "871/871 [==============================] - 9s 10ms/step - loss: 0.0273 - accuracy: 0.9947 - val_loss: 0.0226 - val_accuracy: 0.9959\n",
      "Epoch 84/100\n",
      "871/871 [==============================] - 8s 10ms/step - loss: 0.0286 - accuracy: 0.9946 - val_loss: 0.0222 - val_accuracy: 0.9959\n",
      "Epoch 85/100\n",
      "871/871 [==============================] - 8s 10ms/step - loss: 0.1029 - accuracy: 0.9945 - val_loss: 0.0143 - val_accuracy: 0.9977\n",
      "Epoch 86/100\n",
      "871/871 [==============================] - 8s 9ms/step - loss: 0.1357 - accuracy: 0.9864 - val_loss: 0.0320 - val_accuracy: 0.9949\n",
      "Epoch 87/100\n",
      "871/871 [==============================] - 8s 10ms/step - loss: 0.1151 - accuracy: 0.9860 - val_loss: 0.0167 - val_accuracy: 0.9977\n",
      "Epoch 88/100\n",
      "871/871 [==============================] - 8s 9ms/step - loss: 0.0444 - accuracy: 0.9926 - val_loss: 0.0159 - val_accuracy: 0.9977\n",
      "Epoch 89/100\n",
      "871/871 [==============================] - 8s 10ms/step - loss: 0.0433 - accuracy: 0.9916 - val_loss: 0.0157 - val_accuracy: 0.9977\n",
      "Epoch 90/100\n",
      "871/871 [==============================] - 8s 10ms/step - loss: 0.0675 - accuracy: 0.9901 - val_loss: 0.0762 - val_accuracy: 0.9977\n",
      "Epoch 91/100\n",
      "871/871 [==============================] - 8s 10ms/step - loss: 0.0932 - accuracy: 0.9870 - val_loss: 0.0218 - val_accuracy: 0.9968\n",
      "Epoch 92/100\n",
      "871/871 [==============================] - 8s 10ms/step - loss: 0.0513 - accuracy: 0.9883 - val_loss: 0.0201 - val_accuracy: 0.9968\n",
      "Epoch 93/100\n",
      "871/871 [==============================] - 8s 10ms/step - loss: 0.0280 - accuracy: 0.9945 - val_loss: 0.0121 - val_accuracy: 0.9982\n",
      "Epoch 94/100\n",
      "871/871 [==============================] - 8s 10ms/step - loss: 0.1319 - accuracy: 0.9955 - val_loss: 0.0138 - val_accuracy: 0.9977\n",
      "Epoch 95/100\n",
      "871/871 [==============================] - 8s 9ms/step - loss: 0.0256 - accuracy: 0.9953 - val_loss: 0.0139 - val_accuracy: 0.9977\n",
      "Epoch 96/100\n",
      "871/871 [==============================] - 8s 10ms/step - loss: 0.0250 - accuracy: 0.9953 - val_loss: 0.0145 - val_accuracy: 0.9977\n",
      "Epoch 97/100\n",
      "871/871 [==============================] - 8s 10ms/step - loss: 0.0206 - accuracy: 0.9963 - val_loss: 0.0139 - val_accuracy: 0.9977\n",
      "Epoch 98/100\n",
      "871/871 [==============================] - 8s 9ms/step - loss: 0.0235 - accuracy: 0.9956 - val_loss: 0.0142 - val_accuracy: 0.9977\n",
      "Epoch 99/100\n",
      "871/871 [==============================] - 8s 10ms/step - loss: 0.0236 - accuracy: 0.9957 - val_loss: 0.0143 - val_accuracy: 0.9977\n",
      "Epoch 100/100\n",
      "871/871 [==============================] - 8s 9ms/step - loss: 0.0199 - accuracy: 0.9966 - val_loss: 0.0115 - val_accuracy: 0.9982\n"
     ]
    },
    {
     "data": {
      "text/plain": [
       "<keras.callbacks.History at 0x285f27ac0>"
      ]
     },
     "execution_count": 8,
     "metadata": {},
     "output_type": "execute_result"
    }
   ],
   "source": [
    "model.fit(x_train, y_train, epochs=100, batch_size=10, validation_data=(x_test, y_test))"
   ]
  },
  {
   "cell_type": "markdown",
   "metadata": {},
   "source": [
    "### 4. Evaluate model"
   ]
  },
  {
   "cell_type": "markdown",
   "metadata": {},
   "source": [
    "#### 4.1. Confusion matrix"
   ]
  },
  {
   "cell_type": "code",
   "execution_count": 9,
   "metadata": {},
   "outputs": [
    {
     "name": "stdout",
     "output_type": "stream",
     "text": [
      "69/69 [==============================] - 0s 2ms/step\n"
     ]
    },
    {
     "name": "stderr",
     "output_type": "stream",
     "text": [
      "2022-10-07 16:46:26.401175: I tensorflow/core/grappler/optimizers/custom_graph_optimizer_registry.cc:113] Plugin optimizer for device_type GPU is enabled.\n"
     ]
    },
    {
     "name": "stdout",
     "output_type": "stream",
     "text": [
      "69/69 [==============================] - 0s 2ms/step\n"
     ]
    },
    {
     "data": {
      "text/plain": [
       "array([[737,   0,   4],\n",
       "       [  0, 756,   0],\n",
       "       [  0,   0, 680]])"
      ]
     },
     "execution_count": 9,
     "metadata": {},
     "output_type": "execute_result"
    }
   ],
   "source": [
    "from sklearn.metrics import confusion_matrix\n",
    "\n",
    "predict_x = model.predict(x_test) \n",
    "y_pred_class = np.argmax(predict_x, axis=1)\n",
    "\n",
    "y_pred = model.predict(x_test)\n",
    "y_test_class = np.argmax(y_test, axis=1)\n",
    "\n",
    "confusion_matrix(y_test_class, y_pred_class)"
   ]
  },
  {
   "cell_type": "markdown",
   "metadata": {},
   "source": [
    "#### 4.2. Classification Report"
   ]
  },
  {
   "cell_type": "code",
   "execution_count": 10,
   "metadata": {},
   "outputs": [
    {
     "name": "stdout",
     "output_type": "stream",
     "text": [
      "              precision    recall  f1-score   support\n",
      "\n",
      "           0       1.00      0.99      1.00       741\n",
      "           1       1.00      1.00      1.00       756\n",
      "           2       0.99      1.00      1.00       680\n",
      "\n",
      "    accuracy                           1.00      2177\n",
      "   macro avg       1.00      1.00      1.00      2177\n",
      "weighted avg       1.00      1.00      1.00      2177\n",
      "\n"
     ]
    }
   ],
   "source": [
    "print(classification_report(y_test_class, y_pred_class))"
   ]
  },
  {
   "cell_type": "markdown",
   "metadata": {},
   "source": [
    "#### 4.3. Dumped model"
   ]
  },
  {
   "cell_type": "code",
   "execution_count": 11,
   "metadata": {},
   "outputs": [
    {
     "name": "stdout",
     "output_type": "stream",
     "text": [
      "INFO:tensorflow:Assets written to: ram://eabd9797-12aa-4f24-b2ca-207d2900dc9e/assets\n"
     ]
    }
   ],
   "source": [
    "# Dump the best model to a pickle file\n",
    "with open(\"./model/plank_model_deep_learning.pkl\", \"wb\") as f:\n",
    "    pickle.dump(model, f)"
   ]
  },
  {
   "cell_type": "code",
   "execution_count": 12,
   "metadata": {},
   "outputs": [
    {
     "data": {
      "text/plain": [
       "array([0., 0., 1.], dtype=float32)"
      ]
     },
     "execution_count": 12,
     "metadata": {},
     "output_type": "execute_result"
    }
   ],
   "source": [
    "y_test[22]"
   ]
  },
  {
   "cell_type": "code",
   "execution_count": 13,
   "metadata": {},
   "outputs": [
    {
     "name": "stdout",
     "output_type": "stream",
     "text": [
      "1/1 [==============================] - 0s 41ms/step\n"
     ]
    },
    {
     "name": "stderr",
     "output_type": "stream",
     "text": [
      "2022-10-07 16:46:42.420846: I tensorflow/core/grappler/optimizers/custom_graph_optimizer_registry.cc:113] Plugin optimizer for device_type GPU is enabled.\n"
     ]
    },
    {
     "data": {
      "text/plain": [
       "2"
      ]
     },
     "execution_count": 13,
     "metadata": {},
     "output_type": "execute_result"
    }
   ],
   "source": [
    "X = pd.DataFrame([x_test[22]], columns=HEADERS[1:])\n",
    "\n",
    "prediction = model.predict(X)\n",
    "predicted_class = np.argmax(prediction, axis=1)[0]\n",
    "\n",
    "predicted_class"
   ]
  },
  {
   "cell_type": "code",
   "execution_count": null,
   "metadata": {},
   "outputs": [],
   "source": [
    "x_test[22].shape"
   ]
  },
  {
   "cell_type": "code",
   "execution_count": null,
   "metadata": {},
   "outputs": [],
   "source": []
  }
 ],
 "metadata": {
  "kernelspec": {
   "display_name": "Python 3.8.13",
   "language": "python",
   "name": "python3"
  },
  "language_info": {
   "codemirror_mode": {
    "name": "ipython",
    "version": 3
   },
   "file_extension": ".py",
   "mimetype": "text/x-python",
   "name": "python",
   "nbconvert_exporter": "python",
   "pygments_lexer": "ipython3",
   "version": "3.8.13"
  },
  "orig_nbformat": 4,
  "vscode": {
   "interpreter": {
    "hash": "9260f401923fb5c4108c543a7d176de9733d378b3752e49535ad7c43c2271b65"
   }
  }
 },
 "nbformat": 4,
 "nbformat_minor": 2
}
