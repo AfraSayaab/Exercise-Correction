{
 "cells": [
  {
   "cell_type": "code",
   "execution_count": 1,
   "metadata": {},
   "outputs": [],
   "source": [
    "# Data visualization\n",
    "import matplotlib.pyplot as plt\n",
    "import seaborn as sns\n",
    "import numpy as np\n",
    "import pandas as pd \n",
    "import seaborn as sns\n",
    "# Keras\n",
    "from keras.models import Sequential\n",
    "from keras.layers import Dense\n",
    "from keras.layers import Dropout\n",
    "from keras.optimizers import SGD, Adam, Adadelta, RMSprop\n",
    "import keras.backend as K\n",
    "from keras.utils.np_utils import to_categorical\n",
    "\n",
    "# Train-Test\n",
    "from sklearn.model_selection import train_test_split\n",
    "# Scaling data\n",
    "from sklearn.preprocessing import StandardScaler\n",
    "# Classification Report\n",
    "from sklearn.metrics import classification_report\n",
    "\n",
    "import pickle\n",
    "\n",
    "import warnings\n",
    "warnings.filterwarnings('ignore')"
   ]
  },
  {
   "cell_type": "markdown",
   "metadata": {},
   "source": [
    "#### 1. Describe Dataset"
   ]
  },
  {
   "cell_type": "code",
   "execution_count": 2,
   "metadata": {},
   "outputs": [],
   "source": [
    "# Determine important landmarks for plank\n",
    "IMPORTANT_LMS = [\n",
    "    \"NOSE\",\n",
    "    \"LEFT_SHOULDER\",\n",
    "    \"RIGHT_SHOULDER\",\n",
    "    \"LEFT_ELBOW\",\n",
    "    \"RIGHT_ELBOW\",\n",
    "    \"LEFT_WRIST\",\n",
    "    \"RIGHT_WRIST\",\n",
    "    \"LEFT_HIP\",\n",
    "    \"RIGHT_HIP\",\n",
    "    \"LEFT_KNEE\",\n",
    "    \"RIGHT_KNEE\",\n",
    "    \"LEFT_ANKLE\",\n",
    "    \"RIGHT_ANKLE\",\n",
    "    \"LEFT_HEEL\",\n",
    "    \"RIGHT_HEEL\",\n",
    "    \"LEFT_FOOT_INDEX\",\n",
    "    \"RIGHT_FOOT_INDEX\",\n",
    "]\n",
    "\n",
    "# Generate all columns of the data frame\n",
    "\n",
    "HEADERS = [\"label\"] # Label column\n",
    "\n",
    "for lm in IMPORTANT_LMS:\n",
    "    HEADERS += [f\"{lm.lower()}_x\", f\"{lm.lower()}_y\", f\"{lm.lower()}_z\", f\"{lm.lower()}_v\"]"
   ]
  },
  {
   "cell_type": "code",
   "execution_count": 3,
   "metadata": {},
   "outputs": [
    {
     "name": "stdout",
     "output_type": "stream",
     "text": [
      "Headers: ['label', 'nose_x', 'nose_y', 'nose_z', 'nose_v', 'left_shoulder_x', 'left_shoulder_y', 'left_shoulder_z', 'left_shoulder_v', 'right_shoulder_x', 'right_shoulder_y', 'right_shoulder_z', 'right_shoulder_v', 'left_elbow_x', 'left_elbow_y', 'left_elbow_z', 'left_elbow_v', 'right_elbow_x', 'right_elbow_y', 'right_elbow_z', 'right_elbow_v', 'left_wrist_x', 'left_wrist_y', 'left_wrist_z', 'left_wrist_v', 'right_wrist_x', 'right_wrist_y', 'right_wrist_z', 'right_wrist_v', 'left_hip_x', 'left_hip_y', 'left_hip_z', 'left_hip_v', 'right_hip_x', 'right_hip_y', 'right_hip_z', 'right_hip_v', 'left_knee_x', 'left_knee_y', 'left_knee_z', 'left_knee_v', 'right_knee_x', 'right_knee_y', 'right_knee_z', 'right_knee_v', 'left_ankle_x', 'left_ankle_y', 'left_ankle_z', 'left_ankle_v', 'right_ankle_x', 'right_ankle_y', 'right_ankle_z', 'right_ankle_v', 'left_heel_x', 'left_heel_y', 'left_heel_z', 'left_heel_v', 'right_heel_x', 'right_heel_y', 'right_heel_z', 'right_heel_v', 'left_foot_index_x', 'left_foot_index_y', 'left_foot_index_z', 'left_foot_index_v', 'right_foot_index_x', 'right_foot_index_y', 'right_foot_index_z', 'right_foot_index_v']\n",
      "Number of rows: 10961 \n",
      "Number of columns: 69\n",
      "\n",
      "Labels: \n",
      "C    3797\n",
      "H    3761\n",
      "L    3403\n",
      "Name: label, dtype: int64\n",
      "\n",
      "Missing values: False\n",
      "\n",
      "Duplicate Rows : 0\n"
     ]
    }
   ],
   "source": [
    "def describe_dataset(dataset_path: str):\n",
    "    '''\n",
    "    Describe dataset\n",
    "    '''\n",
    "\n",
    "    data = pd.read_csv(dataset_path)\n",
    "    print(f\"Headers: {list(data.columns.values)}\")\n",
    "    print(f'Number of rows: {data.shape[0]} \\nNumber of columns: {data.shape[1]}\\n')\n",
    "    print(f\"Labels: \\n{data['label'].value_counts()}\\n\")\n",
    "    print(f\"Missing values: {data.isnull().values.any()}\\n\")\n",
    "    \n",
    "    duplicate = data[data.duplicated()]\n",
    "    print(f\"Duplicate Rows : {len(duplicate.sum(axis=1))}\")\n",
    "\n",
    "    return data\n",
    "\n",
    "\n",
    "# Remove duplicate rows (optional)\n",
    "def remove_duplicate_rows(dataset_path: str):\n",
    "    '''\n",
    "    Remove duplicated data from the dataset then save it to another files\n",
    "    '''\n",
    "    \n",
    "    df = pd.read_csv(dataset_path)\n",
    "    df.drop_duplicates(keep=\"first\", inplace=True)\n",
    "    df.to_csv(f\"cleaned_dataset.csv\", sep=',', encoding='utf-8', index=False)\n",
    "\n",
    "\n",
    "df = describe_dataset(\"./dataset.csv\")"
   ]
  },
  {
   "cell_type": "markdown",
   "metadata": {},
   "source": [
    "#### 2. Preprocess Dataset"
   ]
  },
  {
   "cell_type": "code",
   "execution_count": 4,
   "metadata": {},
   "outputs": [
    {
     "name": "stdout",
     "output_type": "stream",
     "text": [
      "Number of rows: 10961 \n",
      "Number of columns: 69\n",
      "\n",
      "Labels: \n",
      "0    3797\n",
      "2    3761\n",
      "1    3403\n",
      "Name: label, dtype: int64\n",
      "\n"
     ]
    }
   ],
   "source": [
    "# load dataset\n",
    "df = pd.read_csv(\"./dataset.csv\")\n",
    "\n",
    "# Categorizing label\n",
    "df.loc[df[\"label\"] == \"C\", \"label\"] = 0\n",
    "df.loc[df[\"label\"] == \"L\", \"label\"] = 1\n",
    "df.loc[df[\"label\"] == \"H\", \"label\"] = 2\n",
    "\n",
    "print(f'Number of rows: {df.shape[0]} \\nNumber of columns: {df.shape[1]}\\n')\n",
    "print(f\"Labels: \\n{df['label'].value_counts()}\\n\")"
   ]
  },
  {
   "cell_type": "code",
   "execution_count": 5,
   "metadata": {},
   "outputs": [],
   "source": [
    "# Standard Scaling of features\n",
    "sc = StandardScaler()\n",
    "\n",
    "x = df.drop(\"label\", axis = 1)\n",
    "x = pd.DataFrame(sc.fit_transform(x))\n",
    "\n",
    "y = df[\"label\"]\n",
    "\n",
    "# Converting prediction to categorical\n",
    "y_cat = to_categorical(y)"
   ]
  },
  {
   "cell_type": "markdown",
   "metadata": {},
   "source": [
    "### 3. Split train/test set, construct model"
   ]
  },
  {
   "cell_type": "code",
   "execution_count": 6,
   "metadata": {},
   "outputs": [],
   "source": [
    "x_train, x_test, y_train, y_test = train_test_split(x.values, y_cat, test_size=0.2)"
   ]
  },
  {
   "cell_type": "code",
   "execution_count": 7,
   "metadata": {},
   "outputs": [
    {
     "name": "stdout",
     "output_type": "stream",
     "text": [
      "Metal device set to: Apple M1\n",
      "\n",
      "systemMemory: 16.00 GB\n",
      "maxCacheSize: 5.33 GB\n",
      "\n",
      "Model: \"sequential\"\n",
      "_________________________________________________________________\n",
      " Layer (type)                Output Shape              Param #   \n",
      "=================================================================\n",
      " dense (Dense)               (None, 68)                4692      \n",
      "                                                                 \n",
      " dropout (Dropout)           (None, 68)                0         \n",
      "                                                                 \n",
      " dense_1 (Dense)             (None, 68)                4692      \n",
      "                                                                 \n",
      " dropout_1 (Dropout)         (None, 68)                0         \n",
      "                                                                 \n",
      " dense_2 (Dense)             (None, 14)                966       \n",
      "                                                                 \n",
      " dense_3 (Dense)             (None, 3)                 45        \n",
      "                                                                 \n",
      "=================================================================\n",
      "Total params: 10,395\n",
      "Trainable params: 10,395\n",
      "Non-trainable params: 0\n",
      "_________________________________________________________________\n"
     ]
    },
    {
     "name": "stderr",
     "output_type": "stream",
     "text": [
      "2022-10-06 19:22:31.995210: I tensorflow/core/common_runtime/pluggable_device/pluggable_device_factory.cc:305] Could not identify NUMA node of platform GPU ID 0, defaulting to 0. Your kernel may not have been built with NUMA support.\n",
      "2022-10-06 19:22:31.996021: I tensorflow/core/common_runtime/pluggable_device/pluggable_device_factory.cc:271] Created TensorFlow device (/job:localhost/replica:0/task:0/device:GPU:0 with 0 MB memory) -> physical PluggableDevice (device: 0, name: METAL, pci bus id: <undefined>)\n"
     ]
    }
   ],
   "source": [
    "model = Sequential()\n",
    "model.add(Dense(68, input_dim = 68, activation = \"relu\"))\n",
    "model.add(Dropout(0.5))\n",
    "model.add(Dense(68, activation = \"relu\"))\n",
    "model.add(Dropout(0.5))\n",
    "model.add(Dense(14, activation = \"relu\"))\n",
    "model.add(Dense(3, activation = \"softmax\"))\n",
    "model.compile(Adam(lr = 0.01), \"categorical_crossentropy\", metrics = [\"accuracy\"])\n",
    "model.summary()"
   ]
  },
  {
   "cell_type": "code",
   "execution_count": 8,
   "metadata": {},
   "outputs": [
    {
     "name": "stdout",
     "output_type": "stream",
     "text": [
      "Epoch 1/100\n"
     ]
    },
    {
     "name": "stderr",
     "output_type": "stream",
     "text": [
      "2022-10-06 19:22:38.401769: W tensorflow/core/platform/profile_utils/cpu_utils.cc:128] Failed to get CPU frequency: 0 Hz\n",
      "2022-10-06 19:22:38.683960: I tensorflow/core/grappler/optimizers/custom_graph_optimizer_registry.cc:113] Plugin optimizer for device_type GPU is enabled.\n"
     ]
    },
    {
     "name": "stdout",
     "output_type": "stream",
     "text": [
      "877/877 [==============================] - ETA: 0s - loss: 0.1365 - accuracy: 0.9498"
     ]
    },
    {
     "name": "stderr",
     "output_type": "stream",
     "text": [
      "2022-10-06 19:22:50.467774: I tensorflow/core/grappler/optimizers/custom_graph_optimizer_registry.cc:113] Plugin optimizer for device_type GPU is enabled.\n"
     ]
    },
    {
     "name": "stdout",
     "output_type": "stream",
     "text": [
      "877/877 [==============================] - 14s 15ms/step - loss: 0.1365 - accuracy: 0.9498 - val_loss: 0.0295 - val_accuracy: 0.9950\n",
      "Epoch 2/100\n",
      "877/877 [==============================] - 12s 14ms/step - loss: 0.0414 - accuracy: 0.9895 - val_loss: 0.0066 - val_accuracy: 0.9991\n",
      "Epoch 3/100\n",
      "877/877 [==============================] - 12s 14ms/step - loss: 0.0240 - accuracy: 0.9944 - val_loss: 0.0018 - val_accuracy: 0.9995\n",
      "Epoch 4/100\n",
      "877/877 [==============================] - 12s 14ms/step - loss: 0.0489 - accuracy: 0.9913 - val_loss: 0.2485 - val_accuracy: 0.8176\n",
      "Epoch 5/100\n",
      "877/877 [==============================] - 12s 14ms/step - loss: 0.0244 - accuracy: 0.9937 - val_loss: 0.0098 - val_accuracy: 0.9995\n",
      "Epoch 6/100\n",
      "877/877 [==============================] - 12s 14ms/step - loss: 0.0952 - accuracy: 0.9839 - val_loss: 0.1044 - val_accuracy: 0.9913\n",
      "Epoch 7/100\n",
      "877/877 [==============================] - 12s 14ms/step - loss: 0.0771 - accuracy: 0.9893 - val_loss: 0.0106 - val_accuracy: 0.9995\n",
      "Epoch 8/100\n",
      "877/877 [==============================] - 13s 15ms/step - loss: 0.0906 - accuracy: 0.9936 - val_loss: 0.0467 - val_accuracy: 0.9945\n",
      "Epoch 9/100\n",
      "877/877 [==============================] - 12s 14ms/step - loss: 0.0420 - accuracy: 0.9938 - val_loss: 0.0064 - val_accuracy: 0.9986\n",
      "Epoch 10/100\n",
      "877/877 [==============================] - 12s 14ms/step - loss: 0.0098 - accuracy: 0.9976 - val_loss: 0.0083 - val_accuracy: 0.9986\n",
      "Epoch 11/100\n",
      "877/877 [==============================] - 12s 14ms/step - loss: 0.0570 - accuracy: 0.9922 - val_loss: 0.0090 - val_accuracy: 0.9982\n",
      "Epoch 12/100\n",
      "877/877 [==============================] - 13s 15ms/step - loss: 0.0590 - accuracy: 0.9936 - val_loss: 0.0040 - val_accuracy: 0.9982\n",
      "Epoch 13/100\n",
      "877/877 [==============================] - 13s 14ms/step - loss: 0.0883 - accuracy: 0.9881 - val_loss: 0.0030 - val_accuracy: 0.9995\n",
      "Epoch 14/100\n",
      "877/877 [==============================] - 13s 14ms/step - loss: 0.0640 - accuracy: 0.9945 - val_loss: 0.0235 - val_accuracy: 0.9982\n",
      "Epoch 15/100\n",
      "877/877 [==============================] - 12s 14ms/step - loss: 0.0730 - accuracy: 0.9921 - val_loss: 0.0119 - val_accuracy: 0.9977\n",
      "Epoch 16/100\n",
      "877/877 [==============================] - 12s 14ms/step - loss: 0.1236 - accuracy: 0.9855 - val_loss: 0.0110 - val_accuracy: 0.9959\n",
      "Epoch 17/100\n",
      "877/877 [==============================] - 13s 14ms/step - loss: 0.0860 - accuracy: 0.9837 - val_loss: 0.0091 - val_accuracy: 0.9986\n",
      "Epoch 18/100\n",
      "877/877 [==============================] - 13s 14ms/step - loss: 0.0443 - accuracy: 0.9941 - val_loss: 0.0023 - val_accuracy: 0.9991\n",
      "Epoch 19/100\n",
      "877/877 [==============================] - 13s 14ms/step - loss: 0.0645 - accuracy: 0.9929 - val_loss: 0.0369 - val_accuracy: 0.9986\n",
      "Epoch 20/100\n",
      "877/877 [==============================] - 12s 14ms/step - loss: 0.0538 - accuracy: 0.9957 - val_loss: 0.0309 - val_accuracy: 0.9964\n",
      "Epoch 21/100\n",
      "877/877 [==============================] - 12s 14ms/step - loss: 0.1503 - accuracy: 0.9870 - val_loss: 0.0173 - val_accuracy: 0.9986\n",
      "Epoch 22/100\n",
      "877/877 [==============================] - 12s 14ms/step - loss: 0.0369 - accuracy: 0.9965 - val_loss: 0.1382 - val_accuracy: 0.9909\n",
      "Epoch 23/100\n",
      "877/877 [==============================] - 13s 14ms/step - loss: 0.1774 - accuracy: 0.9856 - val_loss: 0.0176 - val_accuracy: 0.9977\n",
      "Epoch 24/100\n",
      "877/877 [==============================] - 12s 14ms/step - loss: 0.0592 - accuracy: 0.9863 - val_loss: 0.0369 - val_accuracy: 0.9991\n",
      "Epoch 25/100\n",
      "877/877 [==============================] - 12s 14ms/step - loss: 0.1985 - accuracy: 0.9748 - val_loss: 0.0783 - val_accuracy: 0.9986\n",
      "Epoch 26/100\n",
      "877/877 [==============================] - 13s 14ms/step - loss: 0.0537 - accuracy: 0.9895 - val_loss: 0.1026 - val_accuracy: 0.9982\n",
      "Epoch 27/100\n",
      "877/877 [==============================] - 12s 14ms/step - loss: 0.2070 - accuracy: 0.9918 - val_loss: 0.0199 - val_accuracy: 0.9991\n",
      "Epoch 28/100\n",
      "877/877 [==============================] - 13s 14ms/step - loss: 0.0922 - accuracy: 0.9876 - val_loss: 0.1199 - val_accuracy: 0.9658\n",
      "Epoch 29/100\n",
      "877/877 [==============================] - 12s 14ms/step - loss: 0.0923 - accuracy: 0.9888 - val_loss: 0.0344 - val_accuracy: 0.9991\n",
      "Epoch 30/100\n",
      "877/877 [==============================] - 12s 14ms/step - loss: 0.0649 - accuracy: 0.9949 - val_loss: 0.0096 - val_accuracy: 0.9995\n",
      "Epoch 31/100\n",
      "877/877 [==============================] - 13s 14ms/step - loss: 0.2119 - accuracy: 0.9831 - val_loss: 0.0580 - val_accuracy: 0.9932\n",
      "Epoch 32/100\n",
      "877/877 [==============================] - 12s 14ms/step - loss: 0.1954 - accuracy: 0.9626 - val_loss: 0.0483 - val_accuracy: 0.9959\n",
      "Epoch 33/100\n",
      "877/877 [==============================] - 13s 15ms/step - loss: 0.1205 - accuracy: 0.9778 - val_loss: 0.0116 - val_accuracy: 1.0000\n",
      "Epoch 34/100\n",
      "877/877 [==============================] - 13s 14ms/step - loss: 0.0891 - accuracy: 0.9932 - val_loss: 0.0143 - val_accuracy: 0.9986\n",
      "Epoch 35/100\n",
      "877/877 [==============================] - 12s 14ms/step - loss: 0.0757 - accuracy: 0.9871 - val_loss: 0.0101 - val_accuracy: 0.9995\n",
      "Epoch 36/100\n",
      "877/877 [==============================] - 12s 14ms/step - loss: 0.0642 - accuracy: 0.9929 - val_loss: 0.0145 - val_accuracy: 0.9982\n",
      "Epoch 37/100\n",
      "877/877 [==============================] - 12s 14ms/step - loss: 0.0266 - accuracy: 0.9952 - val_loss: 0.0086 - val_accuracy: 0.9991\n",
      "Epoch 38/100\n",
      "877/877 [==============================] - 13s 14ms/step - loss: 0.0468 - accuracy: 0.9933 - val_loss: 0.0229 - val_accuracy: 0.9959\n",
      "Epoch 39/100\n",
      "877/877 [==============================] - 12s 14ms/step - loss: 0.3332 - accuracy: 0.9894 - val_loss: 0.0149 - val_accuracy: 0.9982\n",
      "Epoch 40/100\n",
      "877/877 [==============================] - 12s 14ms/step - loss: 0.0877 - accuracy: 0.9849 - val_loss: 0.0440 - val_accuracy: 0.9904\n",
      "Epoch 41/100\n",
      "877/877 [==============================] - 12s 14ms/step - loss: 0.0716 - accuracy: 0.9852 - val_loss: 0.0395 - val_accuracy: 0.9918\n",
      "Epoch 42/100\n",
      "877/877 [==============================] - 13s 14ms/step - loss: 0.1493 - accuracy: 0.9909 - val_loss: 0.0212 - val_accuracy: 0.9964\n",
      "Epoch 43/100\n",
      "877/877 [==============================] - 13s 14ms/step - loss: 0.0514 - accuracy: 0.9897 - val_loss: 0.0997 - val_accuracy: 0.9954\n",
      "Epoch 44/100\n",
      "877/877 [==============================] - 12s 14ms/step - loss: 0.0423 - accuracy: 0.9930 - val_loss: 0.0098 - val_accuracy: 0.9991\n",
      "Epoch 45/100\n",
      "877/877 [==============================] - 12s 14ms/step - loss: 0.0279 - accuracy: 0.9953 - val_loss: 0.0091 - val_accuracy: 0.9991\n",
      "Epoch 46/100\n",
      "877/877 [==============================] - 12s 14ms/step - loss: 0.0518 - accuracy: 0.9919 - val_loss: 0.0377 - val_accuracy: 0.9991\n",
      "Epoch 47/100\n",
      "877/877 [==============================] - 13s 14ms/step - loss: 0.2074 - accuracy: 0.9759 - val_loss: 0.2581 - val_accuracy: 0.9950\n",
      "Epoch 48/100\n",
      "877/877 [==============================] - 12s 14ms/step - loss: 0.3318 - accuracy: 0.9865 - val_loss: 0.1146 - val_accuracy: 0.9913\n",
      "Epoch 49/100\n",
      "877/877 [==============================] - 12s 14ms/step - loss: 0.1567 - accuracy: 0.9902 - val_loss: 0.0625 - val_accuracy: 0.9991\n",
      "Epoch 50/100\n",
      "877/877 [==============================] - 12s 14ms/step - loss: 0.1356 - accuracy: 0.9924 - val_loss: 0.1254 - val_accuracy: 0.9995\n",
      "Epoch 51/100\n",
      "877/877 [==============================] - 13s 14ms/step - loss: 0.1246 - accuracy: 0.9837 - val_loss: 0.0711 - val_accuracy: 0.9982\n",
      "Epoch 52/100\n",
      "877/877 [==============================] - 13s 15ms/step - loss: 0.0879 - accuracy: 0.9928 - val_loss: 0.1376 - val_accuracy: 0.9982\n",
      "Epoch 53/100\n",
      "877/877 [==============================] - 13s 15ms/step - loss: 0.3403 - accuracy: 0.9683 - val_loss: 0.1780 - val_accuracy: 0.9763\n",
      "Epoch 54/100\n",
      "877/877 [==============================] - 12s 14ms/step - loss: 0.1953 - accuracy: 0.9615 - val_loss: 0.0465 - val_accuracy: 0.9986\n",
      "Epoch 55/100\n",
      "877/877 [==============================] - 13s 14ms/step - loss: 0.0795 - accuracy: 0.9904 - val_loss: 0.2836 - val_accuracy: 0.9982\n",
      "Epoch 56/100\n",
      "877/877 [==============================] - 13s 14ms/step - loss: 0.1561 - accuracy: 0.9815 - val_loss: 0.0181 - val_accuracy: 0.9995\n",
      "Epoch 57/100\n",
      "877/877 [==============================] - 13s 14ms/step - loss: 0.1004 - accuracy: 0.9908 - val_loss: 0.0608 - val_accuracy: 0.9986\n",
      "Epoch 58/100\n",
      "877/877 [==============================] - 12s 14ms/step - loss: 0.0992 - accuracy: 0.9927 - val_loss: 0.0538 - val_accuracy: 0.9973\n",
      "Epoch 59/100\n",
      "877/877 [==============================] - 13s 14ms/step - loss: 0.1124 - accuracy: 0.9889 - val_loss: 0.1265 - val_accuracy: 0.9922\n",
      "Epoch 60/100\n",
      "877/877 [==============================] - 12s 14ms/step - loss: 0.0572 - accuracy: 0.9894 - val_loss: 0.1175 - val_accuracy: 0.9950\n",
      "Epoch 61/100\n",
      "877/877 [==============================] - 12s 14ms/step - loss: 0.0593 - accuracy: 0.9895 - val_loss: 0.4170 - val_accuracy: 0.9457\n",
      "Epoch 62/100\n",
      "877/877 [==============================] - 13s 15ms/step - loss: 0.2286 - accuracy: 0.9839 - val_loss: 0.1851 - val_accuracy: 0.9950\n",
      "Epoch 63/100\n",
      "877/877 [==============================] - 12s 14ms/step - loss: 0.1295 - accuracy: 0.9903 - val_loss: 0.0454 - val_accuracy: 0.9959\n",
      "Epoch 64/100\n",
      "877/877 [==============================] - 12s 14ms/step - loss: 0.0349 - accuracy: 0.9944 - val_loss: 0.0623 - val_accuracy: 0.9977\n",
      "Epoch 65/100\n",
      "877/877 [==============================] - 13s 14ms/step - loss: 0.0674 - accuracy: 0.9948 - val_loss: 0.1514 - val_accuracy: 0.9977\n",
      "Epoch 66/100\n",
      "877/877 [==============================] - 12s 14ms/step - loss: 0.2429 - accuracy: 0.9808 - val_loss: 0.2269 - val_accuracy: 0.9895\n",
      "Epoch 67/100\n",
      "877/877 [==============================] - 13s 14ms/step - loss: 0.1786 - accuracy: 0.9552 - val_loss: 0.0739 - val_accuracy: 0.9881\n",
      "Epoch 68/100\n",
      "877/877 [==============================] - 12s 14ms/step - loss: 0.1621 - accuracy: 0.9542 - val_loss: 0.0550 - val_accuracy: 0.9959\n",
      "Epoch 69/100\n",
      "877/877 [==============================] - 13s 14ms/step - loss: 0.0784 - accuracy: 0.9872 - val_loss: 0.1263 - val_accuracy: 0.9932\n",
      "Epoch 70/100\n",
      "877/877 [==============================] - 12s 14ms/step - loss: 0.1105 - accuracy: 0.9893 - val_loss: 0.0349 - val_accuracy: 0.9932\n",
      "Epoch 71/100\n",
      "877/877 [==============================] - 13s 14ms/step - loss: 0.2457 - accuracy: 0.9813 - val_loss: 0.1810 - val_accuracy: 0.9909\n",
      "Epoch 72/100\n",
      "877/877 [==============================] - 13s 14ms/step - loss: 0.1455 - accuracy: 0.9826 - val_loss: 0.1573 - val_accuracy: 0.9904\n",
      "Epoch 73/100\n",
      "877/877 [==============================] - 12s 14ms/step - loss: 0.0755 - accuracy: 0.9829 - val_loss: 0.1271 - val_accuracy: 0.9909\n",
      "Epoch 74/100\n",
      "877/877 [==============================] - 13s 14ms/step - loss: 0.0786 - accuracy: 0.9849 - val_loss: 0.1311 - val_accuracy: 0.9904\n",
      "Epoch 75/100\n",
      "877/877 [==============================] - 13s 14ms/step - loss: 0.0796 - accuracy: 0.9848 - val_loss: 0.1143 - val_accuracy: 0.9918\n",
      "Epoch 76/100\n",
      "877/877 [==============================] - 13s 14ms/step - loss: 0.0758 - accuracy: 0.9813 - val_loss: 0.0789 - val_accuracy: 0.9922\n",
      "Epoch 77/100\n",
      "877/877 [==============================] - 922s 1s/step - loss: 0.0766 - accuracy: 0.9843 - val_loss: 0.0230 - val_accuracy: 0.9968\n",
      "Epoch 78/100\n",
      "877/877 [==============================] - 12s 14ms/step - loss: 0.0671 - accuracy: 0.9913 - val_loss: 0.0080 - val_accuracy: 0.9995\n",
      "Epoch 79/100\n",
      "877/877 [==============================] - 12s 14ms/step - loss: 0.0825 - accuracy: 0.9862 - val_loss: 0.1339 - val_accuracy: 0.9936\n",
      "Epoch 80/100\n",
      "877/877 [==============================] - 13s 14ms/step - loss: 0.0597 - accuracy: 0.9855 - val_loss: 0.2317 - val_accuracy: 0.9927\n",
      "Epoch 81/100\n",
      "877/877 [==============================] - 983s 1s/step - loss: 0.1812 - accuracy: 0.9737 - val_loss: 0.2412 - val_accuracy: 0.9863\n",
      "Epoch 82/100\n",
      "877/877 [==============================] - 12s 14ms/step - loss: 0.1842 - accuracy: 0.9682 - val_loss: 0.3242 - val_accuracy: 0.9667\n",
      "Epoch 83/100\n",
      "877/877 [==============================] - 13s 15ms/step - loss: 0.1569 - accuracy: 0.9617 - val_loss: 0.1081 - val_accuracy: 0.9959\n",
      "Epoch 84/100\n",
      "877/877 [==============================] - 12s 14ms/step - loss: 0.0857 - accuracy: 0.9844 - val_loss: 0.2187 - val_accuracy: 0.9945\n",
      "Epoch 85/100\n",
      "877/877 [==============================] - 12s 14ms/step - loss: 0.1228 - accuracy: 0.9789 - val_loss: 0.0292 - val_accuracy: 0.9959\n",
      "Epoch 86/100\n",
      "877/877 [==============================] - 923s 1s/step - loss: 0.0622 - accuracy: 0.9863 - val_loss: 0.0513 - val_accuracy: 0.9959\n",
      "Epoch 87/100\n",
      "877/877 [==============================] - 12s 14ms/step - loss: 0.1181 - accuracy: 0.9876 - val_loss: 0.0276 - val_accuracy: 0.9954\n",
      "Epoch 88/100\n",
      "877/877 [==============================] - 12s 14ms/step - loss: 0.0823 - accuracy: 0.9849 - val_loss: 0.2675 - val_accuracy: 0.9635\n",
      "Epoch 89/100\n",
      "877/877 [==============================] - 12s 14ms/step - loss: 0.3227 - accuracy: 0.9733 - val_loss: 0.0484 - val_accuracy: 0.9936\n",
      "Epoch 90/100\n",
      "877/877 [==============================] - 941s 1s/step - loss: 0.0724 - accuracy: 0.9845 - val_loss: 0.0256 - val_accuracy: 0.9959\n",
      "Epoch 91/100\n",
      "877/877 [==============================] - 13s 14ms/step - loss: 0.0751 - accuracy: 0.9861 - val_loss: 0.0282 - val_accuracy: 0.9964\n",
      "Epoch 92/100\n",
      "877/877 [==============================] - 12s 14ms/step - loss: 0.0684 - accuracy: 0.9856 - val_loss: 0.1349 - val_accuracy: 0.9945\n",
      "Epoch 93/100\n",
      "877/877 [==============================] - 12s 14ms/step - loss: 0.2973 - accuracy: 0.9813 - val_loss: 0.0352 - val_accuracy: 0.9950\n",
      "Epoch 94/100\n",
      "877/877 [==============================] - 986s 1s/step - loss: 0.2932 - accuracy: 0.9703 - val_loss: 0.1104 - val_accuracy: 0.9726\n",
      "Epoch 95/100\n",
      "877/877 [==============================] - 13s 14ms/step - loss: 0.2572 - accuracy: 0.9577 - val_loss: 0.2700 - val_accuracy: 0.9644\n",
      "Epoch 96/100\n",
      "877/877 [==============================] - 13s 14ms/step - loss: 0.1590 - accuracy: 0.9745 - val_loss: 0.1258 - val_accuracy: 0.9945\n",
      "Epoch 97/100\n",
      "877/877 [==============================] - 1010s 1s/step - loss: 0.0994 - accuracy: 0.9773 - val_loss: 0.7952 - val_accuracy: 0.9799\n",
      "Epoch 98/100\n",
      "877/877 [==============================] - 12s 14ms/step - loss: 0.3317 - accuracy: 0.9676 - val_loss: 0.0416 - val_accuracy: 0.9982\n",
      "Epoch 99/100\n",
      "877/877 [==============================] - 12s 14ms/step - loss: 0.1003 - accuracy: 0.9774 - val_loss: 0.0214 - val_accuracy: 0.9982\n",
      "Epoch 100/100\n",
      "877/877 [==============================] - 12s 14ms/step - loss: 0.1239 - accuracy: 0.9877 - val_loss: 0.0509 - val_accuracy: 0.9982\n"
     ]
    },
    {
     "data": {
      "text/plain": [
       "<keras.callbacks.History at 0x2852e7af0>"
      ]
     },
     "execution_count": 8,
     "metadata": {},
     "output_type": "execute_result"
    }
   ],
   "source": [
    "model.fit(x_train, y_train, epochs=100, batch_size=10, validation_data=(x_test, y_test))"
   ]
  },
  {
   "cell_type": "markdown",
   "metadata": {},
   "source": [
    "### 4. Evaluate model"
   ]
  },
  {
   "cell_type": "markdown",
   "metadata": {},
   "source": [
    "#### 4.1. Confusion matrix"
   ]
  },
  {
   "cell_type": "code",
   "execution_count": 9,
   "metadata": {},
   "outputs": [
    {
     "name": "stderr",
     "output_type": "stream",
     "text": [
      "2022-10-06 21:27:28.680675: I tensorflow/core/grappler/optimizers/custom_graph_optimizer_registry.cc:113] Plugin optimizer for device_type GPU is enabled.\n"
     ]
    },
    {
     "name": "stdout",
     "output_type": "stream",
     "text": [
      "69/69 [==============================] - 1s 4ms/step\n",
      "69/69 [==============================] - 0s 3ms/step\n"
     ]
    },
    {
     "data": {
      "text/plain": [
       "array([[750,   3,   0],\n",
       "       [  1, 697,   0],\n",
       "       [  0,   0, 742]])"
      ]
     },
     "execution_count": 9,
     "metadata": {},
     "output_type": "execute_result"
    }
   ],
   "source": [
    "from sklearn.metrics import confusion_matrix\n",
    "\n",
    "predict_x = model.predict(x_test) \n",
    "y_pred_class = np.argmax(predict_x, axis=1)\n",
    "\n",
    "y_pred = model.predict(x_test)\n",
    "y_test_class = np.argmax(y_test, axis=1)\n",
    "\n",
    "confusion_matrix(y_test_class, y_pred_class)"
   ]
  },
  {
   "cell_type": "markdown",
   "metadata": {},
   "source": [
    "#### 4.2. Classification Report"
   ]
  },
  {
   "cell_type": "code",
   "execution_count": 10,
   "metadata": {},
   "outputs": [
    {
     "name": "stdout",
     "output_type": "stream",
     "text": [
      "              precision    recall  f1-score   support\n",
      "\n",
      "           0       1.00      1.00      1.00       753\n",
      "           1       1.00      1.00      1.00       698\n",
      "           2       1.00      1.00      1.00       742\n",
      "\n",
      "    accuracy                           1.00      2193\n",
      "   macro avg       1.00      1.00      1.00      2193\n",
      "weighted avg       1.00      1.00      1.00      2193\n",
      "\n"
     ]
    }
   ],
   "source": [
    "print(classification_report(y_test_class, y_pred_class))"
   ]
  },
  {
   "cell_type": "markdown",
   "metadata": {},
   "source": [
    "#### 4.3. Dumped model"
   ]
  },
  {
   "cell_type": "code",
   "execution_count": 11,
   "metadata": {},
   "outputs": [
    {
     "name": "stdout",
     "output_type": "stream",
     "text": [
      "INFO:tensorflow:Assets written to: ram://ff1551f5-d889-42b1-adb8-66d4ebb4899b/assets\n"
     ]
    }
   ],
   "source": [
    "# Dump the best model to a pickle file\n",
    "with open(\"./plank_model_deep_learning.pkl\", \"wb\") as f:\n",
    "    pickle.dump(model, f)"
   ]
  },
  {
   "cell_type": "code",
   "execution_count": 16,
   "metadata": {},
   "outputs": [
    {
     "data": {
      "text/plain": [
       "array([0., 0., 1.], dtype=float32)"
      ]
     },
     "execution_count": 16,
     "metadata": {},
     "output_type": "execute_result"
    }
   ],
   "source": [
    "y_test[22]"
   ]
  },
  {
   "cell_type": "code",
   "execution_count": 26,
   "metadata": {},
   "outputs": [
    {
     "data": {
      "text/plain": [
       "(68,)"
      ]
     },
     "execution_count": 26,
     "metadata": {},
     "output_type": "execute_result"
    }
   ],
   "source": [
    "k = x_test[22].flatten()"
   ]
  },
  {
   "cell_type": "code",
   "execution_count": 32,
   "metadata": {},
   "outputs": [
    {
     "name": "stdout",
     "output_type": "stream",
     "text": [
      "1/1 [==============================] - 0s 18ms/step\n"
     ]
    },
    {
     "data": {
      "text/plain": [
       "2"
      ]
     },
     "execution_count": 32,
     "metadata": {},
     "output_type": "execute_result"
    }
   ],
   "source": [
    "X = pd.DataFrame([x_test[22]], columns=HEADERS[1:])\n",
    "\n",
    "prediction = model.predict(X)\n",
    "predicted_class = np.argmax(prediction, axis=1)[0]\n",
    "\n",
    "predicted_class"
   ]
  },
  {
   "cell_type": "code",
   "execution_count": 19,
   "metadata": {},
   "outputs": [
    {
     "data": {
      "text/plain": [
       "(68,)"
      ]
     },
     "execution_count": 19,
     "metadata": {},
     "output_type": "execute_result"
    }
   ],
   "source": [
    "x_test[22].shape"
   ]
  },
  {
   "cell_type": "code",
   "execution_count": null,
   "metadata": {},
   "outputs": [],
   "source": []
  }
 ],
 "metadata": {
  "kernelspec": {
   "display_name": "Python 3.8.13",
   "language": "python",
   "name": "python3"
  },
  "language_info": {
   "codemirror_mode": {
    "name": "ipython",
    "version": 3
   },
   "file_extension": ".py",
   "mimetype": "text/x-python",
   "name": "python",
   "nbconvert_exporter": "python",
   "pygments_lexer": "ipython3",
   "version": "3.8.13"
  },
  "orig_nbformat": 4,
  "vscode": {
   "interpreter": {
    "hash": "9260f401923fb5c4108c543a7d176de9733d378b3752e49535ad7c43c2271b65"
   }
  }
 },
 "nbformat": 4,
 "nbformat_minor": 2
}
