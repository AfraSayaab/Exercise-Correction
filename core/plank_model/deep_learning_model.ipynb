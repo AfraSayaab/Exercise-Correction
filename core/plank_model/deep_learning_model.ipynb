{
 "cells": [
  {
   "cell_type": "code",
   "execution_count": 25,
   "metadata": {},
   "outputs": [],
   "source": [
    "# Data visualization\n",
    "import matplotlib.pyplot as plt\n",
    "import seaborn as sns\n",
    "import numpy as np\n",
    "import pandas as pd \n",
    "import seaborn as sns\n",
    "# Keras\n",
    "from keras.models import Sequential\n",
    "from keras.layers import Dense\n",
    "from keras.layers import Dropout\n",
    "from keras.optimizers import SGD, Adam, Adadelta, RMSprop\n",
    "import keras.backend as K\n",
    "from keras.utils.np_utils import to_categorical\n",
    "\n",
    "# Train-Test\n",
    "from sklearn.model_selection import train_test_split\n",
    "# Scaling data\n",
    "from sklearn.preprocessing import StandardScaler\n",
    "# Classification Report\n",
    "from sklearn.metrics import classification_report\n",
    "\n",
    "import pickle\n",
    "\n",
    "import warnings\n",
    "warnings.filterwarnings('ignore')"
   ]
  },
  {
   "cell_type": "markdown",
   "metadata": {},
   "source": [
    "#### 1. Describe Dataset"
   ]
  },
  {
   "cell_type": "code",
   "execution_count": 26,
   "metadata": {},
   "outputs": [],
   "source": [
    "# Determine important landmarks for plank\n",
    "IMPORTANT_LMS = [\n",
    "    \"NOSE\",\n",
    "    \"LEFT_SHOULDER\",\n",
    "    \"RIGHT_SHOULDER\",\n",
    "    \"LEFT_ELBOW\",\n",
    "    \"RIGHT_ELBOW\",\n",
    "    \"LEFT_WRIST\",\n",
    "    \"RIGHT_WRIST\",\n",
    "    \"LEFT_HIP\",\n",
    "    \"RIGHT_HIP\",\n",
    "    \"LEFT_KNEE\",\n",
    "    \"RIGHT_KNEE\",\n",
    "    \"LEFT_ANKLE\",\n",
    "    \"RIGHT_ANKLE\",\n",
    "    \"LEFT_HEEL\",\n",
    "    \"RIGHT_HEEL\",\n",
    "    \"LEFT_FOOT_INDEX\",\n",
    "    \"RIGHT_FOOT_INDEX\",\n",
    "]\n",
    "\n",
    "# Generate all columns of the data frame\n",
    "\n",
    "HEADERS = [\"label\"] # Label column\n",
    "\n",
    "for lm in IMPORTANT_LMS:\n",
    "    HEADERS += [f\"{lm.lower()}_x\", f\"{lm.lower()}_y\", f\"{lm.lower()}_z\", f\"{lm.lower()}_v\"]"
   ]
  },
  {
   "cell_type": "code",
   "execution_count": 27,
   "metadata": {},
   "outputs": [
    {
     "name": "stdout",
     "output_type": "stream",
     "text": [
      "Headers: ['label', 'nose_x', 'nose_y', 'nose_z', 'nose_v', 'left_shoulder_x', 'left_shoulder_y', 'left_shoulder_z', 'left_shoulder_v', 'right_shoulder_x', 'right_shoulder_y', 'right_shoulder_z', 'right_shoulder_v', 'left_elbow_x', 'left_elbow_y', 'left_elbow_z', 'left_elbow_v', 'right_elbow_x', 'right_elbow_y', 'right_elbow_z', 'right_elbow_v', 'left_wrist_x', 'left_wrist_y', 'left_wrist_z', 'left_wrist_v', 'right_wrist_x', 'right_wrist_y', 'right_wrist_z', 'right_wrist_v', 'left_hip_x', 'left_hip_y', 'left_hip_z', 'left_hip_v', 'right_hip_x', 'right_hip_y', 'right_hip_z', 'right_hip_v', 'left_knee_x', 'left_knee_y', 'left_knee_z', 'left_knee_v', 'right_knee_x', 'right_knee_y', 'right_knee_z', 'right_knee_v', 'left_ankle_x', 'left_ankle_y', 'left_ankle_z', 'left_ankle_v', 'right_ankle_x', 'right_ankle_y', 'right_ankle_z', 'right_ankle_v', 'left_heel_x', 'left_heel_y', 'left_heel_z', 'left_heel_v', 'right_heel_x', 'right_heel_y', 'right_heel_z', 'right_heel_v', 'left_foot_index_x', 'left_foot_index_y', 'left_foot_index_z', 'left_foot_index_v', 'right_foot_index_x', 'right_foot_index_y', 'right_foot_index_z', 'right_foot_index_v']\n",
      "Number of rows: 9751 \n",
      "Number of columns: 69\n",
      "\n",
      "Labels: \n",
      "C    3792\n",
      "L    3403\n",
      "H    2556\n",
      "Name: label, dtype: int64\n",
      "\n",
      "Missing values: False\n",
      "\n",
      "Duplicate Rows : 0\n"
     ]
    }
   ],
   "source": [
    "def describe_dataset(dataset_path: str):\n",
    "    '''\n",
    "    Describe dataset\n",
    "    '''\n",
    "\n",
    "    data = pd.read_csv(dataset_path)\n",
    "    print(f\"Headers: {list(data.columns.values)}\")\n",
    "    print(f'Number of rows: {data.shape[0]} \\nNumber of columns: {data.shape[1]}\\n')\n",
    "    print(f\"Labels: \\n{data['label'].value_counts()}\\n\")\n",
    "    print(f\"Missing values: {data.isnull().values.any()}\\n\")\n",
    "    \n",
    "    duplicate = data[data.duplicated()]\n",
    "    print(f\"Duplicate Rows : {len(duplicate.sum(axis=1))}\")\n",
    "\n",
    "    return data\n",
    "\n",
    "\n",
    "# Remove duplicate rows (optional)\n",
    "def remove_duplicate_rows(dataset_path: str):\n",
    "    '''\n",
    "    Remove duplicated data from the dataset then save it to another files\n",
    "    '''\n",
    "    \n",
    "    df = pd.read_csv(dataset_path)\n",
    "    df.drop_duplicates(keep=\"first\", inplace=True)\n",
    "    df.to_csv(f\"cleaned_dataset.csv\", sep=',', encoding='utf-8', index=False)\n",
    "\n",
    "\n",
    "df = describe_dataset(\"./dataset.csv\")"
   ]
  },
  {
   "cell_type": "markdown",
   "metadata": {},
   "source": [
    "#### 2. Preprocess Dataset"
   ]
  },
  {
   "cell_type": "code",
   "execution_count": 28,
   "metadata": {},
   "outputs": [
    {
     "name": "stdout",
     "output_type": "stream",
     "text": [
      "Number of rows: 9751 \n",
      "Number of columns: 69\n",
      "\n",
      "Labels: \n",
      "0    3792\n",
      "1    3403\n",
      "2    2556\n",
      "Name: label, dtype: int64\n",
      "\n"
     ]
    }
   ],
   "source": [
    "# load dataset\n",
    "df = pd.read_csv(\"./dataset.csv\")\n",
    "\n",
    "# Categorizing label\n",
    "df.loc[df[\"label\"] == \"C\", \"label\"] = 0\n",
    "df.loc[df[\"label\"] == \"L\", \"label\"] = 1\n",
    "df.loc[df[\"label\"] == \"H\", \"label\"] = 2\n",
    "\n",
    "print(f'Number of rows: {df.shape[0]} \\nNumber of columns: {df.shape[1]}\\n')\n",
    "print(f\"Labels: \\n{df['label'].value_counts()}\\n\")"
   ]
  },
  {
   "cell_type": "code",
   "execution_count": 29,
   "metadata": {},
   "outputs": [],
   "source": [
    "# Standard Scaling of features\n",
    "sc = StandardScaler()\n",
    "\n",
    "x = df.drop(\"label\", axis = 1)\n",
    "x = pd.DataFrame(sc.fit_transform(x))\n",
    "\n",
    "y = df[\"label\"]\n",
    "\n",
    "# Converting prediction to categorical\n",
    "y_cat = to_categorical(y)"
   ]
  },
  {
   "cell_type": "markdown",
   "metadata": {},
   "source": [
    "### 3. Split train/test set, construct model"
   ]
  },
  {
   "cell_type": "code",
   "execution_count": 36,
   "metadata": {},
   "outputs": [],
   "source": [
    "x_train, x_test, y_train, y_test = train_test_split(x.values, y_cat, test_size=0.2)"
   ]
  },
  {
   "cell_type": "code",
   "execution_count": 37,
   "metadata": {},
   "outputs": [
    {
     "name": "stdout",
     "output_type": "stream",
     "text": [
      "Model: \"sequential_5\"\n",
      "_________________________________________________________________\n",
      " Layer (type)                Output Shape              Param #   \n",
      "=================================================================\n",
      " dense_16 (Dense)            (None, 68)                4692      \n",
      "                                                                 \n",
      " dropout_8 (Dropout)         (None, 68)                0         \n",
      "                                                                 \n",
      " dense_17 (Dense)            (None, 68)                4692      \n",
      "                                                                 \n",
      " dropout_9 (Dropout)         (None, 68)                0         \n",
      "                                                                 \n",
      " dense_18 (Dense)            (None, 14)                966       \n",
      "                                                                 \n",
      " dense_19 (Dense)            (None, 3)                 45        \n",
      "                                                                 \n",
      "=================================================================\n",
      "Total params: 10,395\n",
      "Trainable params: 10,395\n",
      "Non-trainable params: 0\n",
      "_________________________________________________________________\n"
     ]
    }
   ],
   "source": [
    "model = Sequential()\n",
    "model.add(Dense(68, input_dim = 68, activation = \"relu\"))\n",
    "model.add(Dropout(0.5))\n",
    "model.add(Dense(68, activation = \"relu\"))\n",
    "model.add(Dropout(0.5))\n",
    "model.add(Dense(14, activation = \"relu\"))\n",
    "model.add(Dense(3, activation = \"softmax\"))\n",
    "model.compile(Adam(lr = 0.01), \"categorical_crossentropy\", metrics = [\"accuracy\"])\n",
    "model.summary()"
   ]
  },
  {
   "cell_type": "code",
   "execution_count": 39,
   "metadata": {},
   "outputs": [
    {
     "name": "stdout",
     "output_type": "stream",
     "text": [
      "Epoch 1/100\n"
     ]
    },
    {
     "name": "stderr",
     "output_type": "stream",
     "text": [
      "2022-10-06 14:36:17.322118: I tensorflow/core/grappler/optimizers/custom_graph_optimizer_registry.cc:113] Plugin optimizer for device_type GPU is enabled.\n"
     ]
    },
    {
     "name": "stdout",
     "output_type": "stream",
     "text": [
      "778/780 [============================>.] - ETA: 0s - loss: 0.1319 - accuracy: 0.9506"
     ]
    },
    {
     "name": "stderr",
     "output_type": "stream",
     "text": [
      "2022-10-06 14:36:23.867094: I tensorflow/core/grappler/optimizers/custom_graph_optimizer_registry.cc:113] Plugin optimizer for device_type GPU is enabled.\n"
     ]
    },
    {
     "name": "stdout",
     "output_type": "stream",
     "text": [
      "780/780 [==============================] - 8s 9ms/step - loss: 0.1315 - accuracy: 0.9508 - val_loss: 0.0154 - val_accuracy: 0.9949\n",
      "Epoch 2/100\n",
      "780/780 [==============================] - 7s 9ms/step - loss: 0.0731 - accuracy: 0.9855 - val_loss: 0.0144 - val_accuracy: 0.9974\n",
      "Epoch 3/100\n",
      "780/780 [==============================] - 7s 9ms/step - loss: 0.0475 - accuracy: 0.9903 - val_loss: 0.0123 - val_accuracy: 0.9969\n",
      "Epoch 4/100\n",
      "780/780 [==============================] - 7s 9ms/step - loss: 0.0494 - accuracy: 0.9909 - val_loss: 0.0342 - val_accuracy: 0.9918\n",
      "Epoch 5/100\n",
      "780/780 [==============================] - 7s 9ms/step - loss: 0.0405 - accuracy: 0.9929 - val_loss: 0.0070 - val_accuracy: 0.9995\n",
      "Epoch 6/100\n",
      "780/780 [==============================] - 7s 9ms/step - loss: 0.0149 - accuracy: 0.9968 - val_loss: 0.0055 - val_accuracy: 0.9995\n",
      "Epoch 7/100\n",
      "780/780 [==============================] - 7s 9ms/step - loss: 0.0990 - accuracy: 0.9849 - val_loss: 0.0084 - val_accuracy: 0.9979\n",
      "Epoch 8/100\n",
      "780/780 [==============================] - 7s 9ms/step - loss: 0.0128 - accuracy: 0.9955 - val_loss: 0.0047 - val_accuracy: 0.9990\n",
      "Epoch 9/100\n",
      "780/780 [==============================] - 7s 9ms/step - loss: 0.0192 - accuracy: 0.9945 - val_loss: 0.0108 - val_accuracy: 0.9979\n",
      "Epoch 10/100\n",
      "780/780 [==============================] - 7s 9ms/step - loss: 0.0212 - accuracy: 0.9955 - val_loss: 0.0106 - val_accuracy: 0.9990\n",
      "Epoch 11/100\n",
      "780/780 [==============================] - 7s 9ms/step - loss: 0.0262 - accuracy: 0.9906 - val_loss: 0.0071 - val_accuracy: 0.9990\n",
      "Epoch 12/100\n",
      "780/780 [==============================] - 7s 9ms/step - loss: 0.1231 - accuracy: 0.9872 - val_loss: 0.0407 - val_accuracy: 0.9928\n",
      "Epoch 13/100\n",
      "780/780 [==============================] - 7s 9ms/step - loss: 0.1528 - accuracy: 0.9781 - val_loss: 0.0387 - val_accuracy: 0.9923\n",
      "Epoch 14/100\n",
      "780/780 [==============================] - 7s 9ms/step - loss: 0.0889 - accuracy: 0.9768 - val_loss: 0.0135 - val_accuracy: 0.9990\n",
      "Epoch 15/100\n",
      "780/780 [==============================] - 7s 9ms/step - loss: 0.0503 - accuracy: 0.9945 - val_loss: 0.0047 - val_accuracy: 0.9979\n",
      "Epoch 16/100\n",
      "780/780 [==============================] - 7s 9ms/step - loss: 0.0409 - accuracy: 0.9946 - val_loss: 0.0151 - val_accuracy: 0.9959\n",
      "Epoch 17/100\n",
      "780/780 [==============================] - 7s 9ms/step - loss: 0.1743 - accuracy: 0.9640 - val_loss: 0.0122 - val_accuracy: 0.9979\n",
      "Epoch 18/100\n",
      "780/780 [==============================] - 7s 9ms/step - loss: 0.1340 - accuracy: 0.9750 - val_loss: 0.0133 - val_accuracy: 0.9872\n",
      "Epoch 19/100\n",
      "780/780 [==============================] - 7s 9ms/step - loss: 0.0867 - accuracy: 0.9732 - val_loss: 0.0024 - val_accuracy: 0.9985\n",
      "Epoch 20/100\n",
      "780/780 [==============================] - 7s 9ms/step - loss: 0.0180 - accuracy: 0.9918 - val_loss: 0.0016 - val_accuracy: 0.9990\n",
      "Epoch 21/100\n",
      "780/780 [==============================] - 7s 9ms/step - loss: 0.0126 - accuracy: 0.9971 - val_loss: 0.0044 - val_accuracy: 0.9995\n",
      "Epoch 22/100\n",
      "780/780 [==============================] - 7s 9ms/step - loss: 0.0329 - accuracy: 0.9954 - val_loss: 0.0050 - val_accuracy: 0.9995\n",
      "Epoch 23/100\n",
      "780/780 [==============================] - 7s 9ms/step - loss: 0.0717 - accuracy: 0.9963 - val_loss: 0.0054 - val_accuracy: 0.9985\n",
      "Epoch 24/100\n",
      "780/780 [==============================] - 7s 9ms/step - loss: 0.0440 - accuracy: 0.9942 - val_loss: 0.0030 - val_accuracy: 0.9990\n",
      "Epoch 25/100\n",
      "780/780 [==============================] - 7s 9ms/step - loss: 0.0487 - accuracy: 0.9908 - val_loss: 0.0253 - val_accuracy: 0.9672\n",
      "Epoch 26/100\n",
      "780/780 [==============================] - 7s 9ms/step - loss: 0.0880 - accuracy: 0.9869 - val_loss: 0.0020 - val_accuracy: 0.9990\n",
      "Epoch 27/100\n",
      "780/780 [==============================] - 7s 9ms/step - loss: 0.0407 - accuracy: 0.9927 - val_loss: 0.0028 - val_accuracy: 0.9990\n",
      "Epoch 28/100\n",
      "780/780 [==============================] - 7s 9ms/step - loss: 0.1586 - accuracy: 0.9813 - val_loss: 0.0038 - val_accuracy: 0.9979\n",
      "Epoch 29/100\n",
      "780/780 [==============================] - 7s 9ms/step - loss: 0.2093 - accuracy: 0.9785 - val_loss: 0.0308 - val_accuracy: 0.9974\n",
      "Epoch 30/100\n",
      "780/780 [==============================] - 7s 9ms/step - loss: 0.1442 - accuracy: 0.9599 - val_loss: 0.0032 - val_accuracy: 0.9974\n",
      "Epoch 31/100\n",
      "780/780 [==============================] - 8s 10ms/step - loss: 0.0454 - accuracy: 0.9846 - val_loss: 0.0104 - val_accuracy: 0.9979\n",
      "Epoch 32/100\n",
      "780/780 [==============================] - 10s 13ms/step - loss: 0.0478 - accuracy: 0.9927 - val_loss: 0.0253 - val_accuracy: 0.9990\n",
      "Epoch 33/100\n",
      "780/780 [==============================] - 10s 13ms/step - loss: 0.0409 - accuracy: 0.9977 - val_loss: 0.0085 - val_accuracy: 0.9990\n",
      "Epoch 34/100\n",
      "780/780 [==============================] - 7s 9ms/step - loss: 0.1941 - accuracy: 0.9772 - val_loss: 0.0515 - val_accuracy: 0.9831\n",
      "Epoch 35/100\n",
      "780/780 [==============================] - 7s 9ms/step - loss: 0.1752 - accuracy: 0.9851 - val_loss: 0.0076 - val_accuracy: 0.9985\n",
      "Epoch 36/100\n",
      "780/780 [==============================] - 7s 9ms/step - loss: 0.0960 - accuracy: 0.9814 - val_loss: 0.0055 - val_accuracy: 0.9985\n",
      "Epoch 37/100\n",
      "780/780 [==============================] - 7s 9ms/step - loss: 0.0809 - accuracy: 0.9946 - val_loss: 0.0134 - val_accuracy: 0.9985\n",
      "Epoch 38/100\n",
      "780/780 [==============================] - 8s 10ms/step - loss: 0.0262 - accuracy: 0.9953 - val_loss: 0.0117 - val_accuracy: 0.9985\n",
      "Epoch 39/100\n",
      "780/780 [==============================] - 7s 9ms/step - loss: 0.1219 - accuracy: 0.9867 - val_loss: 0.0313 - val_accuracy: 0.9949\n",
      "Epoch 40/100\n",
      "780/780 [==============================] - 7s 9ms/step - loss: 0.1799 - accuracy: 0.9644 - val_loss: 0.0615 - val_accuracy: 0.9985\n",
      "Epoch 41/100\n",
      "780/780 [==============================] - 7s 9ms/step - loss: 0.1514 - accuracy: 0.9778 - val_loss: 0.0040 - val_accuracy: 0.9990\n",
      "Epoch 42/100\n",
      "780/780 [==============================] - 7s 9ms/step - loss: 0.1125 - accuracy: 0.9700 - val_loss: 0.1656 - val_accuracy: 0.9908\n",
      "Epoch 43/100\n",
      "780/780 [==============================] - 7s 9ms/step - loss: 0.1360 - accuracy: 0.9782 - val_loss: 0.0561 - val_accuracy: 0.9979\n",
      "Epoch 44/100\n",
      "780/780 [==============================] - 7s 9ms/step - loss: 0.0746 - accuracy: 0.9888 - val_loss: 0.0112 - val_accuracy: 0.9990\n",
      "Epoch 45/100\n",
      "780/780 [==============================] - 7s 9ms/step - loss: 0.1272 - accuracy: 0.9905 - val_loss: 0.0184 - val_accuracy: 0.9990\n",
      "Epoch 46/100\n",
      "780/780 [==============================] - 8s 10ms/step - loss: 0.0609 - accuracy: 0.9872 - val_loss: 0.0210 - val_accuracy: 0.9990\n",
      "Epoch 47/100\n",
      "780/780 [==============================] - 8s 10ms/step - loss: 0.1916 - accuracy: 0.9860 - val_loss: 0.0211 - val_accuracy: 0.9995\n",
      "Epoch 48/100\n",
      "780/780 [==============================] - 7s 9ms/step - loss: 0.1323 - accuracy: 0.9865 - val_loss: 0.0242 - val_accuracy: 0.9985\n",
      "Epoch 49/100\n",
      "780/780 [==============================] - 7s 9ms/step - loss: 0.0359 - accuracy: 0.9928 - val_loss: 0.0139 - val_accuracy: 0.9985\n",
      "Epoch 50/100\n",
      "780/780 [==============================] - 7s 9ms/step - loss: 0.0304 - accuracy: 0.9941 - val_loss: 0.0132 - val_accuracy: 0.9985\n",
      "Epoch 51/100\n",
      "780/780 [==============================] - 7s 9ms/step - loss: 0.2576 - accuracy: 0.9819 - val_loss: 0.5362 - val_accuracy: 0.9165\n",
      "Epoch 52/100\n",
      "780/780 [==============================] - 7s 9ms/step - loss: 0.2247 - accuracy: 0.9617 - val_loss: 0.0458 - val_accuracy: 0.9913\n",
      "Epoch 53/100\n",
      "780/780 [==============================] - 7s 9ms/step - loss: 0.0954 - accuracy: 0.9805 - val_loss: 0.0495 - val_accuracy: 0.9913\n",
      "Epoch 54/100\n",
      "780/780 [==============================] - 7s 9ms/step - loss: 0.1053 - accuracy: 0.9859 - val_loss: 0.0167 - val_accuracy: 0.9985\n",
      "Epoch 55/100\n",
      "780/780 [==============================] - 7s 9ms/step - loss: 0.1646 - accuracy: 0.9845 - val_loss: 0.0433 - val_accuracy: 0.9913\n",
      "Epoch 56/100\n",
      "780/780 [==============================] - 7s 9ms/step - loss: 0.2215 - accuracy: 0.9659 - val_loss: 0.0577 - val_accuracy: 0.9897\n",
      "Epoch 57/100\n",
      "780/780 [==============================] - 7s 9ms/step - loss: 0.1238 - accuracy: 0.9696 - val_loss: 0.0549 - val_accuracy: 0.9897\n",
      "Epoch 58/100\n",
      "780/780 [==============================] - 7s 9ms/step - loss: 0.0988 - accuracy: 0.9795 - val_loss: 0.0457 - val_accuracy: 0.9903\n",
      "Epoch 59/100\n",
      "780/780 [==============================] - 7s 9ms/step - loss: 0.1408 - accuracy: 0.9658 - val_loss: 0.0775 - val_accuracy: 0.9810\n",
      "Epoch 60/100\n",
      "780/780 [==============================] - 7s 9ms/step - loss: 0.0783 - accuracy: 0.9805 - val_loss: 0.0527 - val_accuracy: 0.9887\n",
      "Epoch 61/100\n",
      "780/780 [==============================] - 7s 9ms/step - loss: 0.0489 - accuracy: 0.9892 - val_loss: 0.0162 - val_accuracy: 0.9969\n",
      "Epoch 62/100\n",
      "780/780 [==============================] - 7s 9ms/step - loss: 0.1803 - accuracy: 0.9872 - val_loss: 0.0337 - val_accuracy: 0.9923\n",
      "Epoch 63/100\n",
      "780/780 [==============================] - 7s 9ms/step - loss: 0.1846 - accuracy: 0.9865 - val_loss: 0.0150 - val_accuracy: 0.9990\n",
      "Epoch 64/100\n",
      "780/780 [==============================] - 7s 9ms/step - loss: 0.1883 - accuracy: 0.9646 - val_loss: 0.1674 - val_accuracy: 0.9462\n",
      "Epoch 65/100\n",
      "780/780 [==============================] - 7s 9ms/step - loss: 0.1246 - accuracy: 0.9690 - val_loss: 0.0462 - val_accuracy: 0.9949\n",
      "Epoch 66/100\n",
      "780/780 [==============================] - 7s 9ms/step - loss: 0.0819 - accuracy: 0.9837 - val_loss: 0.0132 - val_accuracy: 0.9979\n",
      "Epoch 67/100\n",
      "780/780 [==============================] - 8s 10ms/step - loss: 0.1127 - accuracy: 0.9865 - val_loss: 0.0103 - val_accuracy: 0.9985\n",
      "Epoch 68/100\n",
      "780/780 [==============================] - 8s 10ms/step - loss: 0.0654 - accuracy: 0.9832 - val_loss: 0.0364 - val_accuracy: 0.9969\n",
      "Epoch 69/100\n",
      "780/780 [==============================] - 7s 9ms/step - loss: 0.1918 - accuracy: 0.9856 - val_loss: 0.0064 - val_accuracy: 0.9979\n",
      "Epoch 70/100\n",
      "780/780 [==============================] - 7s 9ms/step - loss: 0.1948 - accuracy: 0.9694 - val_loss: 0.0806 - val_accuracy: 0.9974\n",
      "Epoch 71/100\n",
      "780/780 [==============================] - 7s 9ms/step - loss: 0.1259 - accuracy: 0.9722 - val_loss: 0.2113 - val_accuracy: 0.9831\n",
      "Epoch 72/100\n",
      "780/780 [==============================] - 7s 9ms/step - loss: 0.2737 - accuracy: 0.9779 - val_loss: 0.0541 - val_accuracy: 0.9969\n",
      "Epoch 73/100\n",
      "780/780 [==============================] - 7s 9ms/step - loss: 0.1522 - accuracy: 0.9851 - val_loss: 0.0169 - val_accuracy: 0.9949\n",
      "Epoch 74/100\n",
      "780/780 [==============================] - 7s 9ms/step - loss: 0.0551 - accuracy: 0.9872 - val_loss: 0.0059 - val_accuracy: 0.9990\n",
      "Epoch 75/100\n",
      "780/780 [==============================] - 7s 9ms/step - loss: 0.0694 - accuracy: 0.9941 - val_loss: 0.0932 - val_accuracy: 0.9959\n",
      "Epoch 76/100\n",
      "780/780 [==============================] - 7s 9ms/step - loss: 0.1620 - accuracy: 0.9785 - val_loss: 0.0054 - val_accuracy: 0.9979\n",
      "Epoch 77/100\n",
      "780/780 [==============================] - 7s 9ms/step - loss: 0.0480 - accuracy: 0.9928 - val_loss: 0.0264 - val_accuracy: 0.9954\n",
      "Epoch 78/100\n",
      "780/780 [==============================] - 7s 9ms/step - loss: 0.1120 - accuracy: 0.9940 - val_loss: 0.1783 - val_accuracy: 0.9985\n",
      "Epoch 79/100\n",
      "780/780 [==============================] - 7s 9ms/step - loss: 0.2143 - accuracy: 0.9623 - val_loss: 0.0456 - val_accuracy: 0.9928\n",
      "Epoch 80/100\n",
      "780/780 [==============================] - 7s 9ms/step - loss: 0.3066 - accuracy: 0.9488 - val_loss: 0.0629 - val_accuracy: 0.9979\n",
      "Epoch 81/100\n",
      "780/780 [==============================] - 7s 9ms/step - loss: 0.1748 - accuracy: 0.9522 - val_loss: 0.0486 - val_accuracy: 0.9985\n",
      "Epoch 82/100\n",
      "780/780 [==============================] - 7s 9ms/step - loss: 0.2816 - accuracy: 0.9540 - val_loss: 0.2004 - val_accuracy: 0.9979\n",
      "Epoch 83/100\n",
      "780/780 [==============================] - 7s 9ms/step - loss: 0.2426 - accuracy: 0.9463 - val_loss: 0.0420 - val_accuracy: 0.9974\n",
      "Epoch 84/100\n",
      "780/780 [==============================] - 7s 9ms/step - loss: 0.2330 - accuracy: 0.9737 - val_loss: 0.0216 - val_accuracy: 0.9974\n",
      "Epoch 85/100\n",
      "780/780 [==============================] - 7s 9ms/step - loss: 0.0890 - accuracy: 0.9756 - val_loss: 0.0122 - val_accuracy: 0.9959\n",
      "Epoch 86/100\n",
      "780/780 [==============================] - 7s 9ms/step - loss: 0.2388 - accuracy: 0.9756 - val_loss: 0.0160 - val_accuracy: 0.9974\n",
      "Epoch 87/100\n",
      "780/780 [==============================] - 7s 9ms/step - loss: 0.0425 - accuracy: 0.9900 - val_loss: 0.0074 - val_accuracy: 0.9990\n",
      "Epoch 88/100\n",
      "780/780 [==============================] - 7s 9ms/step - loss: 0.0237 - accuracy: 0.9964 - val_loss: 0.0111 - val_accuracy: 0.9979\n",
      "Epoch 89/100\n",
      "780/780 [==============================] - 7s 9ms/step - loss: 0.0195 - accuracy: 0.9964 - val_loss: 0.8671 - val_accuracy: 0.9979\n",
      "Epoch 90/100\n",
      "780/780 [==============================] - 7s 9ms/step - loss: 0.1126 - accuracy: 0.9960 - val_loss: 0.0082 - val_accuracy: 0.9985\n",
      "Epoch 91/100\n",
      "780/780 [==============================] - 7s 9ms/step - loss: 0.0142 - accuracy: 0.9976 - val_loss: 0.0082 - val_accuracy: 0.9985\n",
      "Epoch 92/100\n",
      "780/780 [==============================] - 7s 9ms/step - loss: 0.0775 - accuracy: 0.9923 - val_loss: 0.0062 - val_accuracy: 0.9985\n",
      "Epoch 93/100\n",
      "780/780 [==============================] - 7s 9ms/step - loss: 0.0421 - accuracy: 0.9914 - val_loss: 0.0062 - val_accuracy: 0.9985\n",
      "Epoch 94/100\n",
      "780/780 [==============================] - 7s 9ms/step - loss: 0.1331 - accuracy: 0.9883 - val_loss: 0.0187 - val_accuracy: 0.9979\n",
      "Epoch 95/100\n",
      "780/780 [==============================] - 7s 10ms/step - loss: 0.0468 - accuracy: 0.9914 - val_loss: 0.0162 - val_accuracy: 0.9979\n",
      "Epoch 96/100\n",
      "780/780 [==============================] - 8s 10ms/step - loss: 0.0599 - accuracy: 0.9905 - val_loss: 0.0276 - val_accuracy: 0.9959\n",
      "Epoch 97/100\n",
      "780/780 [==============================] - 7s 9ms/step - loss: 0.3622 - accuracy: 0.9899 - val_loss: 0.0331 - val_accuracy: 0.9944\n",
      "Epoch 98/100\n",
      "780/780 [==============================] - 7s 9ms/step - loss: 0.0698 - accuracy: 0.9886 - val_loss: 0.0254 - val_accuracy: 0.9949\n",
      "Epoch 99/100\n",
      "780/780 [==============================] - 7s 9ms/step - loss: 0.2923 - accuracy: 0.9467 - val_loss: 0.2885 - val_accuracy: 0.7940\n",
      "Epoch 100/100\n",
      "780/780 [==============================] - 7s 9ms/step - loss: 0.2252 - accuracy: 0.9144 - val_loss: 0.1500 - val_accuracy: 0.9359\n"
     ]
    },
    {
     "data": {
      "text/plain": [
       "<keras.callbacks.History at 0x288d93be0>"
      ]
     },
     "execution_count": 39,
     "metadata": {},
     "output_type": "execute_result"
    }
   ],
   "source": [
    "model.fit(x_train, y_train, epochs=100, batch_size=10, validation_data=(x_test, y_test))"
   ]
  },
  {
   "cell_type": "markdown",
   "metadata": {},
   "source": [
    "### 4. Evaluate model"
   ]
  },
  {
   "cell_type": "markdown",
   "metadata": {},
   "source": [
    "#### 4.1. Confusion matrix"
   ]
  },
  {
   "cell_type": "code",
   "execution_count": 47,
   "metadata": {},
   "outputs": [
    {
     "name": "stdout",
     "output_type": "stream",
     "text": [
      "61/61 [==============================] - 0s 4ms/step\n",
      "61/61 [==============================] - 0s 2ms/step\n"
     ]
    },
    {
     "data": {
      "text/plain": [
       "array([[758,   8,   0],\n",
       "       [  0, 680,   0],\n",
       "       [  0, 117, 388]])"
      ]
     },
     "execution_count": 47,
     "metadata": {},
     "output_type": "execute_result"
    }
   ],
   "source": [
    "from sklearn.metrics import confusion_matrix\n",
    "\n",
    "predict_x = model.predict(x_test) \n",
    "y_pred_class = np.argmax(predict_x, axis=1)\n",
    "\n",
    "y_pred = model.predict(x_test)\n",
    "y_test_class = np.argmax(y_test, axis=1)\n",
    "\n",
    "confusion_matrix(y_test_class, y_pred_class)"
   ]
  },
  {
   "cell_type": "markdown",
   "metadata": {},
   "source": [
    "#### 4.2. Classification Report"
   ]
  },
  {
   "cell_type": "code",
   "execution_count": 41,
   "metadata": {},
   "outputs": [
    {
     "name": "stdout",
     "output_type": "stream",
     "text": [
      "              precision    recall  f1-score   support\n",
      "\n",
      "           0       1.00      0.99      0.99       766\n",
      "           1       0.84      1.00      0.92       680\n",
      "           2       1.00      0.77      0.87       505\n",
      "\n",
      "    accuracy                           0.94      1951\n",
      "   macro avg       0.95      0.92      0.93      1951\n",
      "weighted avg       0.95      0.94      0.93      1951\n",
      "\n"
     ]
    }
   ],
   "source": [
    "print(classification_report(y_test_class, y_pred_class))"
   ]
  },
  {
   "cell_type": "markdown",
   "metadata": {},
   "source": [
    "#### 4.3. Dumped model"
   ]
  },
  {
   "cell_type": "code",
   "execution_count": 44,
   "metadata": {},
   "outputs": [
    {
     "name": "stdout",
     "output_type": "stream",
     "text": [
      "INFO:tensorflow:Assets written to: ram://91f86a4f-1179-4551-aefc-88acf41c7e58/assets\n"
     ]
    }
   ],
   "source": [
    "# Dump the best model to a pickle file\n",
    "with open(\"./plank_model_deep_learning.pkl\", \"wb\") as f:\n",
    "    pickle.dump(model, f)"
   ]
  },
  {
   "cell_type": "code",
   "execution_count": null,
   "metadata": {},
   "outputs": [],
   "source": []
  }
 ],
 "metadata": {
  "kernelspec": {
   "display_name": "Python 3.8.13",
   "language": "python",
   "name": "python3"
  },
  "language_info": {
   "codemirror_mode": {
    "name": "ipython",
    "version": 3
   },
   "file_extension": ".py",
   "mimetype": "text/x-python",
   "name": "python",
   "nbconvert_exporter": "python",
   "pygments_lexer": "ipython3",
   "version": "3.8.13"
  },
  "orig_nbformat": 4,
  "vscode": {
   "interpreter": {
    "hash": "9260f401923fb5c4108c543a7d176de9733d378b3752e49535ad7c43c2271b65"
   }
  }
 },
 "nbformat": 4,
 "nbformat_minor": 2
}
