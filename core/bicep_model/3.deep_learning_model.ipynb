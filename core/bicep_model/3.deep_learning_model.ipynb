{
 "cells": [
  {
   "cell_type": "code",
   "execution_count": 1,
   "metadata": {},
   "outputs": [],
   "source": [
    "# Data visualization\n",
    "import matplotlib.pyplot as plt\n",
    "import seaborn as sns\n",
    "import numpy as np\n",
    "import pandas as pd \n",
    "import seaborn as sns\n",
    "# Keras\n",
    "from keras.models import Sequential\n",
    "from keras.layers import Dense\n",
    "from keras.layers import Dropout\n",
    "from keras.optimizers import SGD, Adam, Adadelta, RMSprop\n",
    "import keras.backend as K\n",
    "from keras.utils.np_utils import to_categorical\n",
    "\n",
    "# Train-Test\n",
    "from sklearn.model_selection import train_test_split\n",
    "# Scaling data\n",
    "from sklearn.preprocessing import StandardScaler\n",
    "# Classification Report\n",
    "from sklearn.metrics import classification_report\n",
    "\n",
    "import pickle\n",
    "\n",
    "import warnings\n",
    "warnings.filterwarnings('ignore')"
   ]
  },
  {
   "cell_type": "code",
   "execution_count": 2,
   "metadata": {},
   "outputs": [],
   "source": [
    "# Determine important landmarks for plank\n",
    "IMPORTANT_LMS = [\n",
    "    \"NOSE\",\n",
    "    \"LEFT_SHOULDER\",\n",
    "    \"RIGHT_SHOULDER\",\n",
    "    \"LEFT_HIP\",\n",
    "    \"RIGHT_HIP\",\n",
    "]\n",
    "\n",
    "# Generate all columns of the data frame\n",
    "\n",
    "HEADERS = [\"label\"] # Label column\n",
    "\n",
    "for lm in IMPORTANT_LMS:\n",
    "    HEADERS += [f\"{lm.lower()}_x\", f\"{lm.lower()}_y\", f\"{lm.lower()}_z\", f\"{lm.lower()}_v\"]"
   ]
  },
  {
   "cell_type": "code",
   "execution_count": 3,
   "metadata": {},
   "outputs": [
    {
     "name": "stdout",
     "output_type": "stream",
     "text": [
      "Headers: ['label', 'nose_x', 'nose_y', 'nose_z', 'nose_v', 'left_shoulder_x', 'left_shoulder_y', 'left_shoulder_z', 'left_shoulder_v', 'right_shoulder_x', 'right_shoulder_y', 'right_shoulder_z', 'right_shoulder_v', 'left_hip_x', 'left_hip_y', 'left_hip_z', 'left_hip_v', 'right_hip_x', 'right_hip_y', 'right_hip_z', 'right_hip_v']\n",
      "Number of rows: 18277 \n",
      "Number of columns: 21\n",
      "\n",
      "Labels: \n",
      "C    9272\n",
      "L    9005\n",
      "Name: label, dtype: int64\n",
      "\n",
      "Missing values: False\n",
      "\n",
      "Duplicate Rows : 0\n"
     ]
    }
   ],
   "source": [
    "def describe_dataset(dataset_path: str):\n",
    "    '''\n",
    "    Describe dataset\n",
    "    '''\n",
    "\n",
    "    data = pd.read_csv(dataset_path)\n",
    "    print(f\"Headers: {list(data.columns.values)}\")\n",
    "    print(f'Number of rows: {data.shape[0]} \\nNumber of columns: {data.shape[1]}\\n')\n",
    "    print(f\"Labels: \\n{data['label'].value_counts()}\\n\")\n",
    "    print(f\"Missing values: {data.isnull().values.any()}\\n\")\n",
    "    \n",
    "    duplicate = data[data.duplicated()]\n",
    "    print(f\"Duplicate Rows : {len(duplicate.sum(axis=1))}\")\n",
    "\n",
    "    return data\n",
    "\n",
    "\n",
    "# Remove duplicate rows (optional)\n",
    "def remove_duplicate_rows(dataset_path: str):\n",
    "    '''\n",
    "    Remove duplicated data from the dataset then save it to another files\n",
    "    '''\n",
    "    \n",
    "    df = pd.read_csv(dataset_path)\n",
    "    df.drop_duplicates(keep=\"first\", inplace=True)\n",
    "    df.to_csv(f\"cleaned_dataset.csv\", sep=',', encoding='utf-8', index=False)\n",
    "\n",
    "\n",
    "df = describe_dataset(\"./dataset.csv\")"
   ]
  },
  {
   "cell_type": "code",
   "execution_count": 5,
   "metadata": {},
   "outputs": [
    {
     "name": "stdout",
     "output_type": "stream",
     "text": [
      "Number of rows: 18277 \n",
      "Number of columns: 21\n",
      "\n",
      "Labels: \n",
      "0    9272\n",
      "1    9005\n",
      "Name: label, dtype: int64\n",
      "\n"
     ]
    }
   ],
   "source": [
    "# load dataset\n",
    "df = pd.read_csv(\"./dataset.csv\")\n",
    "\n",
    "# Categorizing label\n",
    "df.loc[df[\"label\"] == \"C\", \"label\"] = 0\n",
    "df.loc[df[\"label\"] == \"L\", \"label\"] = 1\n",
    "\n",
    "print(f'Number of rows: {df.shape[0]} \\nNumber of columns: {df.shape[1]}\\n')\n",
    "print(f\"Labels: \\n{df['label'].value_counts()}\\n\")"
   ]
  },
  {
   "cell_type": "code",
   "execution_count": 6,
   "metadata": {},
   "outputs": [],
   "source": [
    "# Standard Scaling of features\n",
    "sc = StandardScaler()\n",
    "\n",
    "x = df.drop(\"label\", axis = 1)\n",
    "x = pd.DataFrame(sc.fit_transform(x))\n",
    "\n",
    "y = df[\"label\"]\n",
    "\n",
    "# # Converting prediction to categorical\n",
    "y_cat = to_categorical(y)"
   ]
  },
  {
   "cell_type": "code",
   "execution_count": 7,
   "metadata": {},
   "outputs": [],
   "source": [
    "x_train, x_test, y_train, y_test = train_test_split(x.values, y_cat, test_size=0.2)"
   ]
  },
  {
   "cell_type": "code",
   "execution_count": 8,
   "metadata": {},
   "outputs": [
    {
     "name": "stdout",
     "output_type": "stream",
     "text": [
      "Metal device set to: Apple M1\n",
      "\n",
      "systemMemory: 16.00 GB\n",
      "maxCacheSize: 5.33 GB\n",
      "\n",
      "Model: \"sequential\"\n",
      "_________________________________________________________________\n",
      " Layer (type)                Output Shape              Param #   \n",
      "=================================================================\n",
      " dense (Dense)               (None, 20)                420       \n",
      "                                                                 \n",
      " dense_1 (Dense)             (None, 10)                210       \n",
      "                                                                 \n",
      " dense_2 (Dense)             (None, 2)                 22        \n",
      "                                                                 \n",
      "=================================================================\n",
      "Total params: 652\n",
      "Trainable params: 652\n",
      "Non-trainable params: 0\n",
      "_________________________________________________________________\n"
     ]
    },
    {
     "name": "stderr",
     "output_type": "stream",
     "text": [
      "2022-10-20 11:38:46.238238: I tensorflow/core/common_runtime/pluggable_device/pluggable_device_factory.cc:305] Could not identify NUMA node of platform GPU ID 0, defaulting to 0. Your kernel may not have been built with NUMA support.\n",
      "2022-10-20 11:38:46.238367: I tensorflow/core/common_runtime/pluggable_device/pluggable_device_factory.cc:271] Created TensorFlow device (/job:localhost/replica:0/task:0/device:GPU:0 with 0 MB memory) -> physical PluggableDevice (device: 0, name: METAL, pci bus id: <undefined>)\n"
     ]
    }
   ],
   "source": [
    "model = Sequential()\n",
    "model.add(Dense(20, input_dim = 20, activation = \"relu\"))\n",
    "model.add(Dense(10, activation = \"relu\"))\n",
    "model.add(Dense(2, activation = \"softmax\"))\n",
    "model.compile(Adam(lr = 0.01), \"categorical_crossentropy\", metrics = [\"accuracy\"])\n",
    "model.summary()"
   ]
  },
  {
   "cell_type": "code",
   "execution_count": 9,
   "metadata": {},
   "outputs": [
    {
     "name": "stdout",
     "output_type": "stream",
     "text": [
      "Epoch 1/100\n"
     ]
    },
    {
     "name": "stderr",
     "output_type": "stream",
     "text": [
      "2022-10-20 11:38:48.898128: W tensorflow/core/platform/profile_utils/cpu_utils.cc:128] Failed to get CPU frequency: 0 Hz\n",
      "2022-10-20 11:38:49.088386: I tensorflow/core/grappler/optimizers/custom_graph_optimizer_registry.cc:113] Plugin optimizer for device_type GPU is enabled.\n"
     ]
    },
    {
     "name": "stdout",
     "output_type": "stream",
     "text": [
      "1463/1463 [==============================] - ETA: 0s - loss: 0.0260 - accuracy: 0.9929"
     ]
    },
    {
     "name": "stderr",
     "output_type": "stream",
     "text": [
      "2022-10-20 11:38:59.862071: I tensorflow/core/grappler/optimizers/custom_graph_optimizer_registry.cc:113] Plugin optimizer for device_type GPU is enabled.\n"
     ]
    },
    {
     "name": "stdout",
     "output_type": "stream",
     "text": [
      "1463/1463 [==============================] - 13s 9ms/step - loss: 0.0260 - accuracy: 0.9929 - val_loss: 0.0203 - val_accuracy: 0.9951\n",
      "Epoch 2/100\n",
      "1463/1463 [==============================] - 13s 9ms/step - loss: 0.0167 - accuracy: 0.9962 - val_loss: 0.0172 - val_accuracy: 0.9943\n",
      "Epoch 3/100\n",
      "1463/1463 [==============================] - 12s 9ms/step - loss: 0.0149 - accuracy: 0.9961 - val_loss: 0.0073 - val_accuracy: 0.9978\n",
      "Epoch 4/100\n",
      "1463/1463 [==============================] - 12s 8ms/step - loss: 0.0117 - accuracy: 0.9969 - val_loss: 0.0143 - val_accuracy: 0.9975\n",
      "Epoch 5/100\n",
      "1463/1463 [==============================] - 12s 8ms/step - loss: 0.0133 - accuracy: 0.9969 - val_loss: 0.0087 - val_accuracy: 0.9984\n",
      "Epoch 6/100\n",
      "1463/1463 [==============================] - 13s 9ms/step - loss: 0.0111 - accuracy: 0.9973 - val_loss: 0.0064 - val_accuracy: 0.9989\n",
      "Epoch 7/100\n",
      "1463/1463 [==============================] - 12s 9ms/step - loss: 0.0102 - accuracy: 0.9975 - val_loss: 0.0067 - val_accuracy: 0.9986\n",
      "Epoch 8/100\n",
      "1463/1463 [==============================] - 12s 9ms/step - loss: 0.0104 - accuracy: 0.9975 - val_loss: 0.0064 - val_accuracy: 0.9989\n",
      "Epoch 9/100\n",
      "1463/1463 [==============================] - 13s 9ms/step - loss: 0.0076 - accuracy: 0.9980 - val_loss: 0.0057 - val_accuracy: 0.9992\n",
      "Epoch 10/100\n",
      "1463/1463 [==============================] - 12s 8ms/step - loss: 0.0083 - accuracy: 0.9980 - val_loss: 0.0056 - val_accuracy: 0.9989\n",
      "Epoch 11/100\n",
      "1463/1463 [==============================] - 13s 9ms/step - loss: 0.0082 - accuracy: 0.9974 - val_loss: 0.0102 - val_accuracy: 0.9986\n",
      "Epoch 12/100\n",
      "1463/1463 [==============================] - 13s 9ms/step - loss: 0.0109 - accuracy: 0.9975 - val_loss: 0.0047 - val_accuracy: 0.9992\n",
      "Epoch 13/100\n",
      "1463/1463 [==============================] - 12s 9ms/step - loss: 0.0080 - accuracy: 0.9982 - val_loss: 0.0057 - val_accuracy: 0.9989\n",
      "Epoch 14/100\n",
      "1463/1463 [==============================] - 13s 9ms/step - loss: 0.0071 - accuracy: 0.9980 - val_loss: 0.0041 - val_accuracy: 0.9995\n",
      "Epoch 15/100\n",
      "1463/1463 [==============================] - 13s 9ms/step - loss: 0.0087 - accuracy: 0.9978 - val_loss: 0.0051 - val_accuracy: 0.9989\n",
      "Epoch 16/100\n",
      "1463/1463 [==============================] - 13s 9ms/step - loss: 0.0058 - accuracy: 0.9986 - val_loss: 0.0053 - val_accuracy: 0.9986\n",
      "Epoch 17/100\n",
      "1463/1463 [==============================] - 13s 9ms/step - loss: 0.0054 - accuracy: 0.9984 - val_loss: 0.0071 - val_accuracy: 0.9984\n",
      "Epoch 18/100\n",
      "1463/1463 [==============================] - 13s 9ms/step - loss: 0.0093 - accuracy: 0.9979 - val_loss: 0.0048 - val_accuracy: 0.9989\n",
      "Epoch 19/100\n",
      "1463/1463 [==============================] - 13s 9ms/step - loss: 0.0062 - accuracy: 0.9984 - val_loss: 0.0041 - val_accuracy: 0.9992\n",
      "Epoch 20/100\n",
      "1463/1463 [==============================] - 12s 9ms/step - loss: 0.0058 - accuracy: 0.9982 - val_loss: 0.0045 - val_accuracy: 0.9989\n",
      "Epoch 21/100\n",
      "1463/1463 [==============================] - 13s 9ms/step - loss: 0.0068 - accuracy: 0.9982 - val_loss: 0.0085 - val_accuracy: 0.9986\n",
      "Epoch 22/100\n",
      "1463/1463 [==============================] - 12s 9ms/step - loss: 0.0065 - accuracy: 0.9982 - val_loss: 0.0067 - val_accuracy: 0.9986\n",
      "Epoch 23/100\n",
      "1463/1463 [==============================] - 13s 9ms/step - loss: 0.0067 - accuracy: 0.9982 - val_loss: 0.0042 - val_accuracy: 0.9986\n",
      "Epoch 24/100\n",
      "1463/1463 [==============================] - 13s 9ms/step - loss: 0.0063 - accuracy: 0.9985 - val_loss: 0.0094 - val_accuracy: 0.9986\n",
      "Epoch 25/100\n",
      "1463/1463 [==============================] - 13s 9ms/step - loss: 0.0130 - accuracy: 0.9986 - val_loss: 0.0057 - val_accuracy: 0.9986\n",
      "Epoch 26/100\n",
      "1463/1463 [==============================] - 13s 9ms/step - loss: 0.0054 - accuracy: 0.9986 - val_loss: 0.0051 - val_accuracy: 0.9989\n",
      "Epoch 27/100\n",
      "1463/1463 [==============================] - 13s 9ms/step - loss: 0.0060 - accuracy: 0.9988 - val_loss: 0.0025 - val_accuracy: 0.9989\n",
      "Epoch 28/100\n",
      "1463/1463 [==============================] - 13s 9ms/step - loss: 0.0054 - accuracy: 0.9984 - val_loss: 0.0059 - val_accuracy: 0.9992\n",
      "Epoch 29/100\n",
      "1463/1463 [==============================] - 12s 9ms/step - loss: 0.0051 - accuracy: 0.9988 - val_loss: 0.0041 - val_accuracy: 0.9995\n",
      "Epoch 30/100\n",
      "1463/1463 [==============================] - 13s 9ms/step - loss: 0.0053 - accuracy: 0.9987 - val_loss: 0.0053 - val_accuracy: 0.9981\n",
      "Epoch 31/100\n",
      "1463/1463 [==============================] - 13s 9ms/step - loss: 0.0066 - accuracy: 0.9984 - val_loss: 0.0071 - val_accuracy: 0.9989\n",
      "Epoch 32/100\n",
      "1463/1463 [==============================] - 12s 9ms/step - loss: 0.0060 - accuracy: 0.9987 - val_loss: 0.0059 - val_accuracy: 0.9995\n",
      "Epoch 33/100\n",
      "1463/1463 [==============================] - 13s 9ms/step - loss: 0.0058 - accuracy: 0.9987 - val_loss: 0.0070 - val_accuracy: 0.9986\n",
      "Epoch 34/100\n",
      "1463/1463 [==============================] - 13s 9ms/step - loss: 0.0070 - accuracy: 0.9986 - val_loss: 0.0210 - val_accuracy: 0.9984\n",
      "Epoch 35/100\n",
      "1463/1463 [==============================] - 12s 9ms/step - loss: 0.0072 - accuracy: 0.9984 - val_loss: 0.0194 - val_accuracy: 0.9981\n",
      "Epoch 36/100\n",
      "1463/1463 [==============================] - 13s 9ms/step - loss: 0.0062 - accuracy: 0.9983 - val_loss: 0.0084 - val_accuracy: 0.9986\n",
      "Epoch 37/100\n",
      "1463/1463 [==============================] - 13s 9ms/step - loss: 0.0051 - accuracy: 0.9985 - val_loss: 0.0035 - val_accuracy: 0.9989\n",
      "Epoch 38/100\n",
      "1463/1463 [==============================] - 13s 9ms/step - loss: 0.0049 - accuracy: 0.9988 - val_loss: 0.0032 - val_accuracy: 0.9992\n",
      "Epoch 39/100\n",
      "1463/1463 [==============================] - 13s 9ms/step - loss: 0.0084 - accuracy: 0.9987 - val_loss: 0.0049 - val_accuracy: 0.9989\n",
      "Epoch 40/100\n",
      "1463/1463 [==============================] - 13s 9ms/step - loss: 0.0056 - accuracy: 0.9986 - val_loss: 0.0043 - val_accuracy: 0.9992\n",
      "Epoch 41/100\n",
      "1463/1463 [==============================] - 12s 8ms/step - loss: 0.0047 - accuracy: 0.9991 - val_loss: 0.0046 - val_accuracy: 0.9992\n",
      "Epoch 42/100\n",
      "1463/1463 [==============================] - 13s 9ms/step - loss: 0.0096 - accuracy: 0.9984 - val_loss: 0.0039 - val_accuracy: 0.9992\n",
      "Epoch 43/100\n",
      "1463/1463 [==============================] - 13s 9ms/step - loss: 0.0041 - accuracy: 0.9988 - val_loss: 0.0079 - val_accuracy: 0.9989\n",
      "Epoch 44/100\n",
      "1463/1463 [==============================] - 12s 9ms/step - loss: 0.0048 - accuracy: 0.9987 - val_loss: 0.0055 - val_accuracy: 0.9992\n",
      "Epoch 45/100\n",
      "1463/1463 [==============================] - 13s 9ms/step - loss: 0.0062 - accuracy: 0.9988 - val_loss: 0.0068 - val_accuracy: 0.9995\n",
      "Epoch 46/100\n",
      "1463/1463 [==============================] - 12s 9ms/step - loss: 0.0077 - accuracy: 0.9988 - val_loss: 0.0063 - val_accuracy: 0.9989\n",
      "Epoch 47/100\n",
      "1463/1463 [==============================] - 13s 9ms/step - loss: 0.0037 - accuracy: 0.9990 - val_loss: 0.0050 - val_accuracy: 0.9995\n",
      "Epoch 48/100\n",
      "1463/1463 [==============================] - 13s 9ms/step - loss: 0.0046 - accuracy: 0.9988 - val_loss: 0.0128 - val_accuracy: 0.9989\n",
      "Epoch 49/100\n",
      "1463/1463 [==============================] - 13s 9ms/step - loss: 0.0052 - accuracy: 0.9989 - val_loss: 0.0082 - val_accuracy: 0.9973\n",
      "Epoch 50/100\n",
      "1463/1463 [==============================] - 13s 9ms/step - loss: 0.0072 - accuracy: 0.9986 - val_loss: 0.0176 - val_accuracy: 0.9967\n",
      "Epoch 51/100\n",
      "1463/1463 [==============================] - 12s 8ms/step - loss: 0.0065 - accuracy: 0.9984 - val_loss: 0.0045 - val_accuracy: 0.9989\n",
      "Epoch 52/100\n",
      "1463/1463 [==============================] - 13s 9ms/step - loss: 0.0052 - accuracy: 0.9987 - val_loss: 0.0075 - val_accuracy: 0.9986\n",
      "Epoch 53/100\n",
      "1463/1463 [==============================] - 12s 8ms/step - loss: 0.0082 - accuracy: 0.9987 - val_loss: 0.0115 - val_accuracy: 0.9986\n",
      "Epoch 54/100\n",
      "1463/1463 [==============================] - 13s 9ms/step - loss: 0.0029 - accuracy: 0.9992 - val_loss: 0.0124 - val_accuracy: 0.9992\n",
      "Epoch 55/100\n",
      "1463/1463 [==============================] - 12s 8ms/step - loss: 0.0062 - accuracy: 0.9990 - val_loss: 0.0019 - val_accuracy: 0.9992\n",
      "Epoch 56/100\n",
      "1463/1463 [==============================] - 12s 8ms/step - loss: 0.0031 - accuracy: 0.9993 - val_loss: 0.0043 - val_accuracy: 0.9995\n",
      "Epoch 57/100\n",
      "1463/1463 [==============================] - 13s 9ms/step - loss: 0.0067 - accuracy: 0.9989 - val_loss: 0.0028 - val_accuracy: 0.9992\n",
      "Epoch 58/100\n",
      "1463/1463 [==============================] - 13s 9ms/step - loss: 0.0031 - accuracy: 0.9991 - val_loss: 0.0140 - val_accuracy: 0.9973\n",
      "Epoch 59/100\n",
      "1463/1463 [==============================] - 12s 9ms/step - loss: 0.0100 - accuracy: 0.9985 - val_loss: 0.0015 - val_accuracy: 0.9997\n",
      "Epoch 60/100\n",
      "1463/1463 [==============================] - 12s 9ms/step - loss: 0.0034 - accuracy: 0.9992 - val_loss: 0.0018 - val_accuracy: 0.9997\n",
      "Epoch 61/100\n",
      "1463/1463 [==============================] - 13s 9ms/step - loss: 0.0026 - accuracy: 0.9992 - val_loss: 0.0202 - val_accuracy: 0.9962\n",
      "Epoch 62/100\n",
      "1463/1463 [==============================] - 13s 9ms/step - loss: 0.0115 - accuracy: 0.9982 - val_loss: 0.0041 - val_accuracy: 0.9995\n",
      "Epoch 63/100\n",
      "1463/1463 [==============================] - 13s 9ms/step - loss: 0.0064 - accuracy: 0.9988 - val_loss: 0.0081 - val_accuracy: 0.9992\n",
      "Epoch 64/100\n",
      "1463/1463 [==============================] - 13s 9ms/step - loss: 0.0056 - accuracy: 0.9989 - val_loss: 0.0044 - val_accuracy: 0.9997\n",
      "Epoch 65/100\n",
      "1463/1463 [==============================] - 12s 9ms/step - loss: 0.0024 - accuracy: 0.9994 - val_loss: 0.0117 - val_accuracy: 0.9995\n",
      "Epoch 66/100\n",
      "1463/1463 [==============================] - 13s 9ms/step - loss: 0.0022 - accuracy: 0.9993 - val_loss: 0.0071 - val_accuracy: 0.9984\n",
      "Epoch 67/100\n",
      "1463/1463 [==============================] - 13s 9ms/step - loss: 0.0056 - accuracy: 0.9990 - val_loss: 0.0064 - val_accuracy: 0.9984\n",
      "Epoch 68/100\n",
      "1463/1463 [==============================] - 13s 9ms/step - loss: 0.0052 - accuracy: 0.9989 - val_loss: 0.0026 - val_accuracy: 0.9995\n",
      "Epoch 69/100\n",
      "1463/1463 [==============================] - 12s 9ms/step - loss: 0.0043 - accuracy: 0.9990 - val_loss: 0.0049 - val_accuracy: 0.9986\n",
      "Epoch 70/100\n",
      "1463/1463 [==============================] - 13s 9ms/step - loss: 0.0037 - accuracy: 0.9991 - val_loss: 0.0077 - val_accuracy: 0.9981\n",
      "Epoch 71/100\n",
      "1463/1463 [==============================] - 13s 9ms/step - loss: 0.0029 - accuracy: 0.9991 - val_loss: 0.0035 - val_accuracy: 0.9995\n",
      "Epoch 72/100\n",
      "1463/1463 [==============================] - 13s 9ms/step - loss: 0.0086 - accuracy: 0.9984 - val_loss: 0.0132 - val_accuracy: 0.9995\n",
      "Epoch 73/100\n",
      "1463/1463 [==============================] - 13s 9ms/step - loss: 0.0053 - accuracy: 0.9987 - val_loss: 0.0150 - val_accuracy: 0.9989\n",
      "Epoch 74/100\n",
      "1463/1463 [==============================] - 13s 9ms/step - loss: 0.0042 - accuracy: 0.9990 - val_loss: 0.0137 - val_accuracy: 0.9975\n",
      "Epoch 75/100\n",
      "1463/1463 [==============================] - 920s 629ms/step - loss: 0.0020 - accuracy: 0.9995 - val_loss: 0.0119 - val_accuracy: 0.9995\n",
      "Epoch 76/100\n",
      "1463/1463 [==============================] - 12s 8ms/step - loss: 0.0014 - accuracy: 0.9997 - val_loss: 0.0181 - val_accuracy: 0.9995\n",
      "Epoch 77/100\n",
      "1463/1463 [==============================] - 12s 8ms/step - loss: 0.0354 - accuracy: 0.9979 - val_loss: 0.0100 - val_accuracy: 0.9989\n",
      "Epoch 78/100\n",
      "1463/1463 [==============================] - 12s 8ms/step - loss: 0.0125 - accuracy: 0.9989 - val_loss: 0.0083 - val_accuracy: 0.9992\n",
      "Epoch 79/100\n",
      "1463/1463 [==============================] - 291s 199ms/step - loss: 0.0028 - accuracy: 0.9994 - val_loss: 0.0094 - val_accuracy: 0.9995\n",
      "Epoch 80/100\n",
      "1463/1463 [==============================] - 12s 8ms/step - loss: 0.0038 - accuracy: 0.9990 - val_loss: 0.0123 - val_accuracy: 0.9995\n",
      "Epoch 81/100\n",
      "1463/1463 [==============================] - 12s 8ms/step - loss: 0.0026 - accuracy: 0.9992 - val_loss: 0.0364 - val_accuracy: 0.9992\n",
      "Epoch 82/100\n",
      "1463/1463 [==============================] - 12s 8ms/step - loss: 0.0090 - accuracy: 0.9987 - val_loss: 0.0319 - val_accuracy: 0.9986\n",
      "Epoch 83/100\n",
      "1463/1463 [==============================] - 16s 11ms/step - loss: 0.0069 - accuracy: 0.9992 - val_loss: 0.0033 - val_accuracy: 0.9995\n",
      "Epoch 84/100\n",
      "1463/1463 [==============================] - 12s 8ms/step - loss: 0.0018 - accuracy: 0.9997 - val_loss: 0.0034 - val_accuracy: 0.9995\n",
      "Epoch 85/100\n",
      "1463/1463 [==============================] - 12s 8ms/step - loss: 0.0035 - accuracy: 0.9995 - val_loss: 0.0049 - val_accuracy: 0.9992\n",
      "Epoch 86/100\n",
      "1463/1463 [==============================] - 12s 8ms/step - loss: 0.0042 - accuracy: 0.9990 - val_loss: 0.0220 - val_accuracy: 0.9992\n",
      "Epoch 87/100\n",
      "1463/1463 [==============================] - 21s 15ms/step - loss: 0.0048 - accuracy: 0.9990 - val_loss: 0.0122 - val_accuracy: 0.9992\n",
      "Epoch 88/100\n",
      "1463/1463 [==============================] - 12s 8ms/step - loss: 0.0026 - accuracy: 0.9995 - val_loss: 0.0207 - val_accuracy: 0.9995\n",
      "Epoch 89/100\n",
      "1463/1463 [==============================] - 12s 8ms/step - loss: 0.0054 - accuracy: 0.9990 - val_loss: 0.0048 - val_accuracy: 0.9995\n",
      "Epoch 90/100\n",
      "1463/1463 [==============================] - 12s 8ms/step - loss: 0.0048 - accuracy: 0.9989 - val_loss: 0.0064 - val_accuracy: 0.9995\n",
      "Epoch 91/100\n",
      "1463/1463 [==============================] - 28s 19ms/step - loss: 0.0035 - accuracy: 0.9992 - val_loss: 0.0242 - val_accuracy: 0.9992\n",
      "Epoch 92/100\n",
      "1463/1463 [==============================] - 12s 8ms/step - loss: 0.0069 - accuracy: 0.9986 - val_loss: 0.0161 - val_accuracy: 0.9995\n",
      "Epoch 93/100\n",
      "1463/1463 [==============================] - 12s 8ms/step - loss: 0.0039 - accuracy: 0.9990 - val_loss: 0.0256 - val_accuracy: 0.9997\n",
      "Epoch 94/100\n",
      "1463/1463 [==============================] - 12s 8ms/step - loss: 0.0028 - accuracy: 0.9991 - val_loss: 0.0413 - val_accuracy: 0.9992\n",
      "Epoch 95/100\n",
      "1463/1463 [==============================] - 1042s 713ms/step - loss: 0.0051 - accuracy: 0.9994 - val_loss: 0.0512 - val_accuracy: 0.9992\n",
      "Epoch 96/100\n",
      "1463/1463 [==============================] - 12s 8ms/step - loss: 0.0109 - accuracy: 0.9986 - val_loss: 0.0121 - val_accuracy: 0.9995\n",
      "Epoch 97/100\n",
      "1463/1463 [==============================] - 12s 8ms/step - loss: 0.0029 - accuracy: 0.9990 - val_loss: 0.0262 - val_accuracy: 0.9995\n",
      "Epoch 98/100\n",
      "1463/1463 [==============================] - 12s 8ms/step - loss: 0.0043 - accuracy: 0.9991 - val_loss: 0.0474 - val_accuracy: 0.9986\n",
      "Epoch 99/100\n",
      "1463/1463 [==============================] - 1045s 715ms/step - loss: 0.0029 - accuracy: 0.9995 - val_loss: 0.0262 - val_accuracy: 0.9995\n",
      "Epoch 100/100\n",
      "1463/1463 [==============================] - 12s 8ms/step - loss: 0.0074 - accuracy: 0.9988 - val_loss: 0.0127 - val_accuracy: 0.9984\n"
     ]
    },
    {
     "data": {
      "text/plain": [
       "<keras.callbacks.History at 0x16a920eb0>"
      ]
     },
     "execution_count": 9,
     "metadata": {},
     "output_type": "execute_result"
    }
   ],
   "source": [
    "model.fit(x_train, y_train, epochs=100, batch_size=10, validation_data=(x_test, y_test))"
   ]
  },
  {
   "cell_type": "code",
   "execution_count": 10,
   "metadata": {},
   "outputs": [
    {
     "name": "stdout",
     "output_type": "stream",
     "text": [
      "103/115 [=========================>....] - ETA: 0s"
     ]
    },
    {
     "name": "stderr",
     "output_type": "stream",
     "text": [
      "2022-10-20 13:16:04.302293: I tensorflow/core/grappler/optimizers/custom_graph_optimizer_registry.cc:113] Plugin optimizer for device_type GPU is enabled.\n"
     ]
    },
    {
     "name": "stdout",
     "output_type": "stream",
     "text": [
      "115/115 [==============================] - 0s 2ms/step\n",
      "115/115 [==============================] - 0s 2ms/step\n"
     ]
    },
    {
     "data": {
      "text/plain": [
       "array([[1882,    0],\n",
       "       [   6, 1768]])"
      ]
     },
     "execution_count": 10,
     "metadata": {},
     "output_type": "execute_result"
    }
   ],
   "source": [
    "from sklearn.metrics import confusion_matrix\n",
    "\n",
    "predict_x = model.predict(x_test) \n",
    "y_pred_class = np.argmax(predict_x, axis=1)\n",
    "\n",
    "y_pred = model.predict(x_test)\n",
    "y_test_class = np.argmax(y_test, axis=1)\n",
    "\n",
    "confusion_matrix(y_test_class, y_pred_class)"
   ]
  },
  {
   "cell_type": "code",
   "execution_count": 11,
   "metadata": {},
   "outputs": [
    {
     "name": "stdout",
     "output_type": "stream",
     "text": [
      "              precision    recall  f1-score   support\n",
      "\n",
      "           0       1.00      1.00      1.00      1882\n",
      "           1       1.00      1.00      1.00      1774\n",
      "\n",
      "    accuracy                           1.00      3656\n",
      "   macro avg       1.00      1.00      1.00      3656\n",
      "weighted avg       1.00      1.00      1.00      3656\n",
      "\n"
     ]
    }
   ],
   "source": [
    "print(classification_report(y_test_class, y_pred_class))"
   ]
  },
  {
   "cell_type": "code",
   "execution_count": 12,
   "metadata": {},
   "outputs": [
    {
     "name": "stdout",
     "output_type": "stream",
     "text": [
      "INFO:tensorflow:Assets written to: ram://5c212906-e47c-428f-acd4-fc4d807b4657/assets\n"
     ]
    }
   ],
   "source": [
    "# Dump the best model to a pickle file\n",
    "with open(\"./model/bicep_model_deep_learning.pkl\", \"wb\") as f:\n",
    "    pickle.dump(model, f)\n",
    "\n"
   ]
  },
  {
   "cell_type": "code",
   "execution_count": 13,
   "metadata": {},
   "outputs": [],
   "source": [
    "# Dump input scaler\n",
    "with open(\"./model/input_scaler.pkl\", \"wb\") as f:\n",
    "    pickle.dump(sc, f)"
   ]
  },
  {
   "cell_type": "code",
   "execution_count": null,
   "metadata": {},
   "outputs": [],
   "source": []
  }
 ],
 "metadata": {
  "kernelspec": {
   "display_name": "Python 3.8.13 (conda)",
   "language": "python",
   "name": "python3"
  },
  "language_info": {
   "codemirror_mode": {
    "name": "ipython",
    "version": 3
   },
   "file_extension": ".py",
   "mimetype": "text/x-python",
   "name": "python",
   "nbconvert_exporter": "python",
   "pygments_lexer": "ipython3",
   "version": "3.8.13"
  },
  "orig_nbformat": 4,
  "vscode": {
   "interpreter": {
    "hash": "9260f401923fb5c4108c543a7d176de9733d378b3752e49535ad7c43c2271b65"
   }
  }
 },
 "nbformat": 4,
 "nbformat_minor": 2
}
