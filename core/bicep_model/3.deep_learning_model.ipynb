{
 "cells": [
  {
   "cell_type": "code",
   "execution_count": 14,
   "metadata": {},
   "outputs": [],
   "source": [
    "# Data visualization\n",
    "import matplotlib.pyplot as plt\n",
    "import seaborn as sns\n",
    "import numpy as np\n",
    "import pandas as pd \n",
    "import seaborn as sns\n",
    "# Keras\n",
    "from keras.models import Sequential\n",
    "from keras.layers import Dense\n",
    "from keras.layers import Dropout\n",
    "from keras.optimizers import SGD, Adam, Adadelta, RMSprop\n",
    "import keras.backend as K\n",
    "from keras.utils.np_utils import to_categorical\n",
    "\n",
    "# Train-Test\n",
    "from sklearn.model_selection import train_test_split\n",
    "# Scaling data\n",
    "from sklearn.preprocessing import StandardScaler\n",
    "# Classification Report\n",
    "from sklearn.metrics import classification_report\n",
    "\n",
    "import pickle\n",
    "\n",
    "import warnings\n",
    "warnings.filterwarnings('ignore')"
   ]
  },
  {
   "cell_type": "code",
   "execution_count": 15,
   "metadata": {},
   "outputs": [],
   "source": [
    "# Determine important landmarks for plank\n",
    "IMPORTANT_LMS = [\n",
    "    \"NOSE\",\n",
    "    \"LEFT_SHOULDER\",\n",
    "    \"RIGHT_SHOULDER\",\n",
    "    \"RIGHT_ELBOW\",\n",
    "    \"LEFT_ELBOW\",\n",
    "    \"RIGHT_WRIST\",\n",
    "    \"LEFT_WRIST\",\n",
    "    \"LEFT_HIP\",\n",
    "    \"RIGHT_HIP\",\n",
    "]\n",
    "\n",
    "# Generate all columns of the data frame\n",
    "\n",
    "HEADERS = [\"label\"] # Label column\n",
    "\n",
    "for lm in IMPORTANT_LMS:\n",
    "    HEADERS += [f\"{lm.lower()}_x\", f\"{lm.lower()}_y\", f\"{lm.lower()}_z\", f\"{lm.lower()}_v\"]"
   ]
  },
  {
   "cell_type": "code",
   "execution_count": 16,
   "metadata": {},
   "outputs": [
    {
     "name": "stdout",
     "output_type": "stream",
     "text": [
      "Headers: ['label', 'nose_x', 'nose_y', 'nose_z', 'nose_v', 'left_shoulder_x', 'left_shoulder_y', 'left_shoulder_z', 'left_shoulder_v', 'right_shoulder_x', 'right_shoulder_y', 'right_shoulder_z', 'right_shoulder_v', 'right_elbow_x', 'right_elbow_y', 'right_elbow_z', 'right_elbow_v', 'left_elbow_x', 'left_elbow_y', 'left_elbow_z', 'left_elbow_v', 'right_wrist_x', 'right_wrist_y', 'right_wrist_z', 'right_wrist_v', 'left_wrist_x', 'left_wrist_y', 'left_wrist_z', 'left_wrist_v', 'left_hip_x', 'left_hip_y', 'left_hip_z', 'left_hip_v', 'right_hip_x', 'right_hip_y', 'right_hip_z', 'right_hip_v']\n",
      "Number of rows: 15372 \n",
      "Number of columns: 37\n",
      "\n",
      "Labels: \n",
      "C    8238\n",
      "L    7134\n",
      "Name: label, dtype: int64\n",
      "\n",
      "Missing values: False\n",
      "\n",
      "Duplicate Rows : 0\n"
     ]
    }
   ],
   "source": [
    "def describe_dataset(dataset_path: str):\n",
    "    '''\n",
    "    Describe dataset\n",
    "    '''\n",
    "\n",
    "    data = pd.read_csv(dataset_path)\n",
    "    print(f\"Headers: {list(data.columns.values)}\")\n",
    "    print(f'Number of rows: {data.shape[0]} \\nNumber of columns: {data.shape[1]}\\n')\n",
    "    print(f\"Labels: \\n{data['label'].value_counts()}\\n\")\n",
    "    print(f\"Missing values: {data.isnull().values.any()}\\n\")\n",
    "    \n",
    "    duplicate = data[data.duplicated()]\n",
    "    print(f\"Duplicate Rows : {len(duplicate.sum(axis=1))}\")\n",
    "\n",
    "    return data\n",
    "\n",
    "\n",
    "# Remove duplicate rows (optional)\n",
    "def remove_duplicate_rows(dataset_path: str):\n",
    "    '''\n",
    "    Remove duplicated data from the dataset then save it to another files\n",
    "    '''\n",
    "    \n",
    "    df = pd.read_csv(dataset_path)\n",
    "    df.drop_duplicates(keep=\"first\", inplace=True)\n",
    "    df.to_csv(f\"cleaned_dataset.csv\", sep=',', encoding='utf-8', index=False)\n",
    "\n",
    "\n",
    "df = describe_dataset(\"./dataset.csv\")"
   ]
  },
  {
   "cell_type": "code",
   "execution_count": 17,
   "metadata": {},
   "outputs": [
    {
     "name": "stdout",
     "output_type": "stream",
     "text": [
      "Number of rows: 15372 \n",
      "Number of columns: 37\n",
      "\n",
      "Labels: \n",
      "0    8238\n",
      "1    7134\n",
      "Name: label, dtype: int64\n",
      "\n"
     ]
    }
   ],
   "source": [
    "# load dataset\n",
    "df = pd.read_csv(\"./dataset.csv\")\n",
    "\n",
    "# Categorizing label\n",
    "df.loc[df[\"label\"] == \"C\", \"label\"] = 0\n",
    "df.loc[df[\"label\"] == \"L\", \"label\"] = 1\n",
    "\n",
    "print(f'Number of rows: {df.shape[0]} \\nNumber of columns: {df.shape[1]}\\n')\n",
    "print(f\"Labels: \\n{df['label'].value_counts()}\\n\")"
   ]
  },
  {
   "cell_type": "code",
   "execution_count": 18,
   "metadata": {},
   "outputs": [],
   "source": [
    "# Standard Scaling of features\n",
    "sc = StandardScaler()\n",
    "\n",
    "x = df.drop(\"label\", axis = 1)\n",
    "x = pd.DataFrame(sc.fit_transform(x))\n",
    "\n",
    "y = df[\"label\"]\n",
    "\n",
    "# # Converting prediction to categorical\n",
    "y_cat = to_categorical(y)"
   ]
  },
  {
   "cell_type": "code",
   "execution_count": 19,
   "metadata": {},
   "outputs": [],
   "source": [
    "x_train, x_test, y_train, y_test = train_test_split(x.values, y_cat, test_size=0.25)"
   ]
  },
  {
   "cell_type": "code",
   "execution_count": 23,
   "metadata": {},
   "outputs": [
    {
     "name": "stdout",
     "output_type": "stream",
     "text": [
      "Model: \"sequential_3\"\n",
      "_________________________________________________________________\n",
      " Layer (type)                Output Shape              Param #   \n",
      "=================================================================\n",
      " dense_11 (Dense)            (None, 36)                1332      \n",
      "                                                                 \n",
      " dense_12 (Dense)            (None, 18)                666       \n",
      "                                                                 \n",
      " dense_13 (Dense)            (None, 6)                 114       \n",
      "                                                                 \n",
      " dense_14 (Dense)            (None, 2)                 14        \n",
      "                                                                 \n",
      "=================================================================\n",
      "Total params: 2,126\n",
      "Trainable params: 2,126\n",
      "Non-trainable params: 0\n",
      "_________________________________________________________________\n"
     ]
    }
   ],
   "source": [
    "model = Sequential()\n",
    "model.add(Dense(36, input_dim = 36, activation = \"relu\"))\n",
    "model.add(Dense(18, activation = \"relu\"))\n",
    "model.add(Dense(6, activation = \"relu\"))\n",
    "model.add(Dense(2, activation = \"softmax\"))\n",
    "model.compile(Adam(lr = 0.01), \"categorical_crossentropy\", metrics = [\"accuracy\"])\n",
    "model.summary()"
   ]
  },
  {
   "cell_type": "code",
   "execution_count": 24,
   "metadata": {},
   "outputs": [
    {
     "name": "stdout",
     "output_type": "stream",
     "text": [
      "Epoch 1/100\n"
     ]
    },
    {
     "name": "stderr",
     "output_type": "stream",
     "text": [
      "2022-10-21 00:34:37.787710: I tensorflow/core/grappler/optimizers/custom_graph_optimizer_registry.cc:113] Plugin optimizer for device_type GPU is enabled.\n"
     ]
    },
    {
     "name": "stdout",
     "output_type": "stream",
     "text": [
      "1153/1153 [==============================] - ETA: 0s - loss: 0.0579 - accuracy: 0.9819"
     ]
    },
    {
     "name": "stderr",
     "output_type": "stream",
     "text": [
      "2022-10-21 00:34:47.509209: I tensorflow/core/grappler/optimizers/custom_graph_optimizer_registry.cc:113] Plugin optimizer for device_type GPU is enabled.\n"
     ]
    },
    {
     "name": "stdout",
     "output_type": "stream",
     "text": [
      "1153/1153 [==============================] - 12s 10ms/step - loss: 0.0579 - accuracy: 0.9819 - val_loss: 0.0698 - val_accuracy: 0.9844\n",
      "Epoch 2/100\n",
      "1153/1153 [==============================] - 11s 10ms/step - loss: 0.0289 - accuracy: 0.9925 - val_loss: 0.0439 - val_accuracy: 0.9909\n",
      "Epoch 3/100\n",
      "1153/1153 [==============================] - 11s 10ms/step - loss: 0.0282 - accuracy: 0.9928 - val_loss: 0.0158 - val_accuracy: 0.9953\n",
      "Epoch 4/100\n",
      "1153/1153 [==============================] - 11s 9ms/step - loss: 0.0233 - accuracy: 0.9931 - val_loss: 0.0171 - val_accuracy: 0.9948\n",
      "Epoch 5/100\n",
      "1153/1153 [==============================] - 11s 9ms/step - loss: 0.0250 - accuracy: 0.9936 - val_loss: 0.0226 - val_accuracy: 0.9922\n",
      "Epoch 6/100\n",
      "1153/1153 [==============================] - 11s 9ms/step - loss: 0.0248 - accuracy: 0.9945 - val_loss: 0.0255 - val_accuracy: 0.9943\n",
      "Epoch 7/100\n",
      "1153/1153 [==============================] - 11s 9ms/step - loss: 0.0191 - accuracy: 0.9945 - val_loss: 0.0252 - val_accuracy: 0.9956\n",
      "Epoch 8/100\n",
      "1153/1153 [==============================] - 11s 10ms/step - loss: 0.0172 - accuracy: 0.9946 - val_loss: 0.0125 - val_accuracy: 0.9961\n",
      "Epoch 9/100\n",
      "1153/1153 [==============================] - 11s 10ms/step - loss: 0.0202 - accuracy: 0.9945 - val_loss: 0.0159 - val_accuracy: 0.9961\n",
      "Epoch 10/100\n",
      "1153/1153 [==============================] - 11s 10ms/step - loss: 0.0169 - accuracy: 0.9942 - val_loss: 0.0140 - val_accuracy: 0.9964\n",
      "Epoch 11/100\n",
      "1153/1153 [==============================] - 11s 10ms/step - loss: 0.0188 - accuracy: 0.9949 - val_loss: 0.0092 - val_accuracy: 0.9971\n",
      "Epoch 12/100\n",
      "1153/1153 [==============================] - 11s 9ms/step - loss: 0.0152 - accuracy: 0.9953 - val_loss: 0.0130 - val_accuracy: 0.9961\n",
      "Epoch 13/100\n",
      "1153/1153 [==============================] - 11s 9ms/step - loss: 0.0168 - accuracy: 0.9953 - val_loss: 0.0204 - val_accuracy: 0.9956\n",
      "Epoch 14/100\n",
      "1153/1153 [==============================] - 11s 9ms/step - loss: 0.0140 - accuracy: 0.9951 - val_loss: 0.0159 - val_accuracy: 0.9948\n",
      "Epoch 15/100\n",
      "1153/1153 [==============================] - 11s 9ms/step - loss: 0.0148 - accuracy: 0.9952 - val_loss: 0.0085 - val_accuracy: 0.9977\n",
      "Epoch 16/100\n",
      "1153/1153 [==============================] - 11s 9ms/step - loss: 0.0163 - accuracy: 0.9957 - val_loss: 0.0121 - val_accuracy: 0.9964\n",
      "Epoch 17/100\n",
      "1153/1153 [==============================] - 11s 9ms/step - loss: 0.0116 - accuracy: 0.9951 - val_loss: 0.0199 - val_accuracy: 0.9951\n",
      "Epoch 18/100\n",
      "1153/1153 [==============================] - 11s 9ms/step - loss: 0.0126 - accuracy: 0.9957 - val_loss: 0.0171 - val_accuracy: 0.9935\n",
      "Epoch 19/100\n",
      "1153/1153 [==============================] - 11s 10ms/step - loss: 0.0132 - accuracy: 0.9951 - val_loss: 0.0199 - val_accuracy: 0.9943\n",
      "Epoch 20/100\n",
      "1153/1153 [==============================] - 11s 10ms/step - loss: 0.0112 - accuracy: 0.9962 - val_loss: 0.0110 - val_accuracy: 0.9974\n",
      "Epoch 21/100\n",
      "1153/1153 [==============================] - 11s 9ms/step - loss: 0.0131 - accuracy: 0.9962 - val_loss: 0.0166 - val_accuracy: 0.9966\n",
      "Epoch 22/100\n",
      "1153/1153 [==============================] - 11s 9ms/step - loss: 0.0149 - accuracy: 0.9957 - val_loss: 0.0216 - val_accuracy: 0.9953\n",
      "Epoch 23/100\n",
      "1153/1153 [==============================] - 11s 9ms/step - loss: 0.0099 - accuracy: 0.9971 - val_loss: 0.0238 - val_accuracy: 0.9969\n",
      "Epoch 24/100\n",
      "1153/1153 [==============================] - 11s 9ms/step - loss: 0.0091 - accuracy: 0.9973 - val_loss: 0.0161 - val_accuracy: 0.9932\n",
      "Epoch 25/100\n",
      "1153/1153 [==============================] - 11s 10ms/step - loss: 0.0206 - accuracy: 0.9951 - val_loss: 0.0994 - val_accuracy: 0.9826\n",
      "Epoch 26/100\n",
      "1153/1153 [==============================] - 11s 9ms/step - loss: 0.0207 - accuracy: 0.9952 - val_loss: 0.0123 - val_accuracy: 0.9969\n",
      "Epoch 27/100\n",
      "1153/1153 [==============================] - 11s 9ms/step - loss: 0.0086 - accuracy: 0.9976 - val_loss: 0.0092 - val_accuracy: 0.9979\n",
      "Epoch 28/100\n",
      "1153/1153 [==============================] - 11s 9ms/step - loss: 0.0201 - accuracy: 0.9961 - val_loss: 0.0112 - val_accuracy: 0.9969\n",
      "Epoch 29/100\n",
      "1153/1153 [==============================] - 11s 9ms/step - loss: 0.0166 - accuracy: 0.9957 - val_loss: 0.0113 - val_accuracy: 0.9974\n",
      "Epoch 30/100\n",
      "1153/1153 [==============================] - 11s 9ms/step - loss: 0.0106 - accuracy: 0.9963 - val_loss: 0.0111 - val_accuracy: 0.9966\n",
      "Epoch 31/100\n",
      "1153/1153 [==============================] - 12s 10ms/step - loss: 0.0136 - accuracy: 0.9953 - val_loss: 0.0296 - val_accuracy: 0.9945\n",
      "Epoch 32/100\n",
      "1153/1153 [==============================] - 11s 10ms/step - loss: 0.0095 - accuracy: 0.9961 - val_loss: 0.0194 - val_accuracy: 0.9977\n",
      "Epoch 33/100\n",
      "1153/1153 [==============================] - 12s 10ms/step - loss: 0.0097 - accuracy: 0.9977 - val_loss: 0.0087 - val_accuracy: 0.9971\n",
      "Epoch 34/100\n",
      "1153/1153 [==============================] - 12s 10ms/step - loss: 0.0106 - accuracy: 0.9965 - val_loss: 0.0095 - val_accuracy: 0.9977\n",
      "Epoch 35/100\n",
      "1153/1153 [==============================] - 12s 10ms/step - loss: 0.0197 - accuracy: 0.9962 - val_loss: 0.0091 - val_accuracy: 0.9971\n",
      "Epoch 36/100\n",
      "1153/1153 [==============================] - 11s 10ms/step - loss: 0.0166 - accuracy: 0.9949 - val_loss: 0.0126 - val_accuracy: 0.9964\n",
      "Epoch 37/100\n",
      "1153/1153 [==============================] - 11s 10ms/step - loss: 0.0109 - accuracy: 0.9964 - val_loss: 0.0133 - val_accuracy: 0.9961\n",
      "Epoch 38/100\n",
      "1153/1153 [==============================] - 11s 10ms/step - loss: 0.0117 - accuracy: 0.9970 - val_loss: 0.0116 - val_accuracy: 0.9974\n",
      "Epoch 39/100\n",
      "1153/1153 [==============================] - 11s 10ms/step - loss: 0.0098 - accuracy: 0.9970 - val_loss: 0.0176 - val_accuracy: 0.9906\n",
      "Epoch 40/100\n",
      "1153/1153 [==============================] - 11s 10ms/step - loss: 0.0065 - accuracy: 0.9973 - val_loss: 0.0159 - val_accuracy: 0.9969\n",
      "Epoch 41/100\n",
      "1153/1153 [==============================] - 11s 10ms/step - loss: 0.0102 - accuracy: 0.9970 - val_loss: 0.0186 - val_accuracy: 0.9979\n",
      "Epoch 42/100\n",
      "1153/1153 [==============================] - 11s 10ms/step - loss: 0.0099 - accuracy: 0.9971 - val_loss: 0.0203 - val_accuracy: 0.9964\n",
      "Epoch 43/100\n",
      "1153/1153 [==============================] - 11s 10ms/step - loss: 0.0166 - accuracy: 0.9968 - val_loss: 0.0158 - val_accuracy: 0.9958\n",
      "Epoch 44/100\n",
      "1153/1153 [==============================] - 11s 9ms/step - loss: 0.0100 - accuracy: 0.9967 - val_loss: 0.0076 - val_accuracy: 0.9982\n",
      "Epoch 45/100\n",
      "1153/1153 [==============================] - 11s 9ms/step - loss: 0.0060 - accuracy: 0.9978 - val_loss: 0.0241 - val_accuracy: 0.9971\n",
      "Epoch 46/100\n",
      "1153/1153 [==============================] - 11s 9ms/step - loss: 0.0170 - accuracy: 0.9965 - val_loss: 0.0139 - val_accuracy: 0.9945\n",
      "Epoch 47/100\n",
      "1153/1153 [==============================] - 11s 9ms/step - loss: 0.0088 - accuracy: 0.9980 - val_loss: 0.0186 - val_accuracy: 0.9969\n",
      "Epoch 48/100\n",
      "1153/1153 [==============================] - 11s 9ms/step - loss: 0.0086 - accuracy: 0.9977 - val_loss: 0.0201 - val_accuracy: 0.9961\n",
      "Epoch 49/100\n",
      "1153/1153 [==============================] - 11s 9ms/step - loss: 0.0148 - accuracy: 0.9973 - val_loss: 0.0159 - val_accuracy: 0.9932\n",
      "Epoch 50/100\n",
      "1153/1153 [==============================] - 11s 9ms/step - loss: 0.0178 - accuracy: 0.9953 - val_loss: 0.0159 - val_accuracy: 0.9966\n",
      "Epoch 51/100\n",
      "1153/1153 [==============================] - 11s 10ms/step - loss: 0.0088 - accuracy: 0.9975 - val_loss: 0.0383 - val_accuracy: 0.9971\n",
      "Epoch 52/100\n",
      "1153/1153 [==============================] - 11s 10ms/step - loss: 0.0107 - accuracy: 0.9976 - val_loss: 0.0137 - val_accuracy: 0.9966\n",
      "Epoch 53/100\n",
      "1153/1153 [==============================] - 11s 10ms/step - loss: 0.0040 - accuracy: 0.9980 - val_loss: 0.0112 - val_accuracy: 0.9982\n",
      "Epoch 54/100\n",
      "1153/1153 [==============================] - 11s 9ms/step - loss: 0.0096 - accuracy: 0.9979 - val_loss: 0.0291 - val_accuracy: 0.9945\n",
      "Epoch 55/100\n",
      "1153/1153 [==============================] - 11s 9ms/step - loss: 0.0156 - accuracy: 0.9964 - val_loss: 0.0070 - val_accuracy: 0.9979\n",
      "Epoch 56/100\n",
      "1153/1153 [==============================] - 11s 9ms/step - loss: 0.0162 - accuracy: 0.9972 - val_loss: 0.0151 - val_accuracy: 0.9977\n",
      "Epoch 57/100\n",
      "1153/1153 [==============================] - 11s 10ms/step - loss: 0.0105 - accuracy: 0.9975 - val_loss: 0.0077 - val_accuracy: 0.9977\n",
      "Epoch 58/100\n",
      "1153/1153 [==============================] - 11s 9ms/step - loss: 0.0043 - accuracy: 0.9984 - val_loss: 0.0107 - val_accuracy: 0.9984\n",
      "Epoch 59/100\n",
      "1153/1153 [==============================] - 11s 9ms/step - loss: 0.0070 - accuracy: 0.9971 - val_loss: 0.0094 - val_accuracy: 0.9977\n",
      "Epoch 60/100\n",
      "1153/1153 [==============================] - 11s 9ms/step - loss: 0.0089 - accuracy: 0.9970 - val_loss: 0.0307 - val_accuracy: 0.9984\n",
      "Epoch 61/100\n",
      "1153/1153 [==============================] - 11s 9ms/step - loss: 0.0180 - accuracy: 0.9958 - val_loss: 0.0090 - val_accuracy: 0.9964\n",
      "Epoch 62/100\n",
      "1153/1153 [==============================] - 12s 10ms/step - loss: 0.0105 - accuracy: 0.9964 - val_loss: 0.0095 - val_accuracy: 0.9979\n",
      "Epoch 63/100\n",
      "1153/1153 [==============================] - 11s 10ms/step - loss: 0.0049 - accuracy: 0.9975 - val_loss: 0.0148 - val_accuracy: 0.9979\n",
      "Epoch 64/100\n",
      "1153/1153 [==============================] - 11s 9ms/step - loss: 0.0081 - accuracy: 0.9977 - val_loss: 0.0608 - val_accuracy: 0.9922\n",
      "Epoch 65/100\n",
      "1153/1153 [==============================] - 11s 9ms/step - loss: 0.0087 - accuracy: 0.9976 - val_loss: 0.0137 - val_accuracy: 0.9966\n",
      "Epoch 66/100\n",
      "1153/1153 [==============================] - 11s 10ms/step - loss: 0.0132 - accuracy: 0.9963 - val_loss: 0.0245 - val_accuracy: 0.9958\n",
      "Epoch 67/100\n",
      "1153/1153 [==============================] - 11s 10ms/step - loss: 0.0160 - accuracy: 0.9951 - val_loss: 0.0108 - val_accuracy: 0.9951\n",
      "Epoch 68/100\n",
      "1153/1153 [==============================] - 12s 11ms/step - loss: 0.0060 - accuracy: 0.9970 - val_loss: 0.0072 - val_accuracy: 0.9979\n",
      "Epoch 69/100\n",
      "1153/1153 [==============================] - 11s 10ms/step - loss: 0.0096 - accuracy: 0.9978 - val_loss: 0.0102 - val_accuracy: 0.9987\n",
      "Epoch 70/100\n",
      "1153/1153 [==============================] - 12s 10ms/step - loss: 0.0057 - accuracy: 0.9982 - val_loss: 0.0120 - val_accuracy: 0.9984\n",
      "Epoch 71/100\n",
      "1153/1153 [==============================] - 12s 10ms/step - loss: 0.0069 - accuracy: 0.9976 - val_loss: 0.0117 - val_accuracy: 0.9966\n",
      "Epoch 72/100\n",
      "1153/1153 [==============================] - 11s 9ms/step - loss: 0.0288 - accuracy: 0.9971 - val_loss: 0.0164 - val_accuracy: 0.9964\n",
      "Epoch 73/100\n",
      "1153/1153 [==============================] - 11s 9ms/step - loss: 0.0060 - accuracy: 0.9978 - val_loss: 0.0112 - val_accuracy: 0.9971\n",
      "Epoch 74/100\n",
      "1153/1153 [==============================] - 11s 9ms/step - loss: 0.0035 - accuracy: 0.9982 - val_loss: 0.0106 - val_accuracy: 0.9948\n",
      "Epoch 75/100\n",
      "1153/1153 [==============================] - 11s 9ms/step - loss: 0.0058 - accuracy: 0.9973 - val_loss: 0.0112 - val_accuracy: 0.9966\n",
      "Epoch 76/100\n",
      "1153/1153 [==============================] - 11s 9ms/step - loss: 0.0215 - accuracy: 0.9950 - val_loss: 0.0175 - val_accuracy: 0.9977\n",
      "Epoch 77/100\n",
      "1153/1153 [==============================] - 11s 9ms/step - loss: 0.0104 - accuracy: 0.9965 - val_loss: 0.0109 - val_accuracy: 0.9982\n",
      "Epoch 78/100\n",
      "1153/1153 [==============================] - 11s 9ms/step - loss: 0.0062 - accuracy: 0.9973 - val_loss: 0.0101 - val_accuracy: 0.9977\n",
      "Epoch 79/100\n",
      "1153/1153 [==============================] - 11s 10ms/step - loss: 0.0059 - accuracy: 0.9974 - val_loss: 0.0098 - val_accuracy: 0.9974\n",
      "Epoch 80/100\n",
      "1153/1153 [==============================] - 11s 10ms/step - loss: 0.0078 - accuracy: 0.9974 - val_loss: 0.0197 - val_accuracy: 0.9971\n",
      "Epoch 81/100\n",
      "1153/1153 [==============================] - 11s 9ms/step - loss: 0.0178 - accuracy: 0.9939 - val_loss: 0.0284 - val_accuracy: 0.9979\n",
      "Epoch 82/100\n",
      "1153/1153 [==============================] - 11s 9ms/step - loss: 0.0262 - accuracy: 0.9961 - val_loss: 0.0126 - val_accuracy: 0.9966\n",
      "Epoch 83/100\n",
      "1153/1153 [==============================] - 11s 10ms/step - loss: 0.0091 - accuracy: 0.9957 - val_loss: 0.0091 - val_accuracy: 0.9961\n",
      "Epoch 84/100\n",
      "1153/1153 [==============================] - 11s 10ms/step - loss: 0.0058 - accuracy: 0.9977 - val_loss: 0.0153 - val_accuracy: 0.9971\n",
      "Epoch 85/100\n",
      "1153/1153 [==============================] - 11s 9ms/step - loss: 0.0102 - accuracy: 0.9979 - val_loss: 0.0413 - val_accuracy: 0.9886\n",
      "Epoch 86/100\n",
      "1153/1153 [==============================] - 11s 9ms/step - loss: 0.0161 - accuracy: 0.9967 - val_loss: 0.0129 - val_accuracy: 0.9953\n",
      "Epoch 87/100\n",
      "1153/1153 [==============================] - 11s 9ms/step - loss: 0.0060 - accuracy: 0.9974 - val_loss: 0.0103 - val_accuracy: 0.9987\n",
      "Epoch 88/100\n",
      "1153/1153 [==============================] - 11s 9ms/step - loss: 0.0054 - accuracy: 0.9982 - val_loss: 0.0116 - val_accuracy: 0.9992\n",
      "Epoch 89/100\n",
      "1153/1153 [==============================] - 11s 9ms/step - loss: 0.0146 - accuracy: 0.9972 - val_loss: 0.0130 - val_accuracy: 0.9971\n",
      "Epoch 90/100\n",
      "1153/1153 [==============================] - 11s 9ms/step - loss: 0.0078 - accuracy: 0.9972 - val_loss: 0.0150 - val_accuracy: 0.9987\n",
      "Epoch 91/100\n",
      "1153/1153 [==============================] - 11s 9ms/step - loss: 0.0089 - accuracy: 0.9969 - val_loss: 0.0106 - val_accuracy: 0.9979\n",
      "Epoch 92/100\n",
      "1153/1153 [==============================] - 11s 10ms/step - loss: 0.0038 - accuracy: 0.9984 - val_loss: 0.0159 - val_accuracy: 0.9979\n",
      "Epoch 93/100\n",
      "1153/1153 [==============================] - 11s 10ms/step - loss: 0.0087 - accuracy: 0.9983 - val_loss: 0.0220 - val_accuracy: 0.9945\n",
      "Epoch 94/100\n",
      "1153/1153 [==============================] - 11s 9ms/step - loss: 0.0118 - accuracy: 0.9975 - val_loss: 0.0139 - val_accuracy: 0.9961\n",
      "Epoch 95/100\n",
      "1153/1153 [==============================] - 11s 10ms/step - loss: 0.0179 - accuracy: 0.9953 - val_loss: 0.0180 - val_accuracy: 0.9974\n",
      "Epoch 96/100\n",
      "1153/1153 [==============================] - 11s 10ms/step - loss: 0.0104 - accuracy: 0.9969 - val_loss: 0.0114 - val_accuracy: 0.9982\n",
      "Epoch 97/100\n",
      "1153/1153 [==============================] - 11s 9ms/step - loss: 0.0041 - accuracy: 0.9982 - val_loss: 0.0086 - val_accuracy: 0.9984\n",
      "Epoch 98/100\n",
      "1153/1153 [==============================] - 11s 9ms/step - loss: 0.0148 - accuracy: 0.9951 - val_loss: 0.0108 - val_accuracy: 0.9977\n",
      "Epoch 99/100\n",
      "1153/1153 [==============================] - 11s 9ms/step - loss: 0.0056 - accuracy: 0.9986 - val_loss: 0.0114 - val_accuracy: 0.9982\n",
      "Epoch 100/100\n",
      "1153/1153 [==============================] - 11s 9ms/step - loss: 0.0054 - accuracy: 0.9974 - val_loss: 0.0121 - val_accuracy: 0.9984\n"
     ]
    },
    {
     "data": {
      "text/plain": [
       "<keras.callbacks.History at 0x17cbb7f10>"
      ]
     },
     "execution_count": 24,
     "metadata": {},
     "output_type": "execute_result"
    }
   ],
   "source": [
    "model.fit(x_train, y_train, epochs=100, batch_size=10, validation_data=(x_test, y_test))"
   ]
  },
  {
   "cell_type": "code",
   "execution_count": 25,
   "metadata": {},
   "outputs": [
    {
     "name": "stdout",
     "output_type": "stream",
     "text": [
      " 88/121 [====================>.........] - ETA: 0s"
     ]
    },
    {
     "name": "stderr",
     "output_type": "stream",
     "text": [
      "2022-10-21 00:53:06.260531: I tensorflow/core/grappler/optimizers/custom_graph_optimizer_registry.cc:113] Plugin optimizer for device_type GPU is enabled.\n"
     ]
    },
    {
     "name": "stdout",
     "output_type": "stream",
     "text": [
      "121/121 [==============================] - 0s 2ms/step\n",
      "121/121 [==============================] - 0s 2ms/step\n"
     ]
    },
    {
     "data": {
      "text/plain": [
       "array([[2043,    4],\n",
       "       [   2, 1794]])"
      ]
     },
     "execution_count": 25,
     "metadata": {},
     "output_type": "execute_result"
    }
   ],
   "source": [
    "from sklearn.metrics import confusion_matrix\n",
    "\n",
    "predict_x = model.predict(x_test) \n",
    "y_pred_class = np.argmax(predict_x, axis=1)\n",
    "\n",
    "y_pred = model.predict(x_test)\n",
    "y_test_class = np.argmax(y_test, axis=1)\n",
    "\n",
    "confusion_matrix(y_test_class, y_pred_class)"
   ]
  },
  {
   "cell_type": "code",
   "execution_count": 26,
   "metadata": {},
   "outputs": [
    {
     "name": "stdout",
     "output_type": "stream",
     "text": [
      "              precision    recall  f1-score   support\n",
      "\n",
      "           0       1.00      1.00      1.00      2047\n",
      "           1       1.00      1.00      1.00      1796\n",
      "\n",
      "    accuracy                           1.00      3843\n",
      "   macro avg       1.00      1.00      1.00      3843\n",
      "weighted avg       1.00      1.00      1.00      3843\n",
      "\n"
     ]
    }
   ],
   "source": [
    "print(classification_report(y_test_class, y_pred_class))"
   ]
  },
  {
   "cell_type": "code",
   "execution_count": 27,
   "metadata": {},
   "outputs": [
    {
     "name": "stdout",
     "output_type": "stream",
     "text": [
      "INFO:tensorflow:Assets written to: ram://1172770c-92ef-499a-9f6a-762c9d25b9f3/assets\n"
     ]
    }
   ],
   "source": [
    "# Dump the best model to a pickle file\n",
    "with open(\"./model/bicep_model_deep_learning.pkl\", \"wb\") as f:\n",
    "    pickle.dump(model, f)\n",
    "\n"
   ]
  },
  {
   "cell_type": "code",
   "execution_count": 28,
   "metadata": {},
   "outputs": [],
   "source": [
    "# Dump input scaler\n",
    "with open(\"./model/input_scaler.pkl\", \"wb\") as f:\n",
    "    pickle.dump(sc, f)"
   ]
  },
  {
   "cell_type": "code",
   "execution_count": null,
   "metadata": {},
   "outputs": [],
   "source": []
  }
 ],
 "metadata": {
  "kernelspec": {
   "display_name": "Python 3.8.13 (conda)",
   "language": "python",
   "name": "python3"
  },
  "language_info": {
   "codemirror_mode": {
    "name": "ipython",
    "version": 3
   },
   "file_extension": ".py",
   "mimetype": "text/x-python",
   "name": "python",
   "nbconvert_exporter": "python",
   "pygments_lexer": "ipython3",
   "version": "3.8.13"
  },
  "orig_nbformat": 4,
  "vscode": {
   "interpreter": {
    "hash": "9260f401923fb5c4108c543a7d176de9733d378b3752e49535ad7c43c2271b65"
   }
  }
 },
 "nbformat": 4,
 "nbformat_minor": 2
}
