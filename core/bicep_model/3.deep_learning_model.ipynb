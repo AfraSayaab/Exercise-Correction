{
 "cells": [
  {
   "cell_type": "code",
   "execution_count": 1,
   "metadata": {},
   "outputs": [],
   "source": [
    "# Data visualization\n",
    "import matplotlib.pyplot as plt\n",
    "import seaborn as sns\n",
    "import numpy as np\n",
    "import pandas as pd \n",
    "import seaborn as sns\n",
    "# Keras\n",
    "from keras.models import Sequential\n",
    "from keras.layers import Dense\n",
    "from keras.layers import Dropout\n",
    "from keras.optimizers import SGD, Adam, Adadelta, RMSprop\n",
    "import keras.backend as K\n",
    "from keras.utils.np_utils import to_categorical\n",
    "\n",
    "# Train-Test\n",
    "from sklearn.model_selection import train_test_split\n",
    "# Scaling data\n",
    "from sklearn.preprocessing import StandardScaler\n",
    "# Classification Report\n",
    "from sklearn.metrics import classification_report\n",
    "\n",
    "import pickle\n",
    "\n",
    "import warnings\n",
    "warnings.filterwarnings('ignore')"
   ]
  },
  {
   "cell_type": "code",
   "execution_count": 2,
   "metadata": {},
   "outputs": [],
   "source": [
    "# Determine important landmarks for plank\n",
    "IMPORTANT_LMS = [\n",
    "    \"NOSE\",\n",
    "    \"LEFT_SHOULDER\",\n",
    "    \"RIGHT_SHOULDER\",\n",
    "    \"LEFT_HIP\",\n",
    "    \"RIGHT_HIP\",\n",
    "]\n",
    "\n",
    "# Generate all columns of the data frame\n",
    "\n",
    "HEADERS = [\"label\"] # Label column\n",
    "\n",
    "for lm in IMPORTANT_LMS:\n",
    "    HEADERS += [f\"{lm.lower()}_x\", f\"{lm.lower()}_y\", f\"{lm.lower()}_z\", f\"{lm.lower()}_v\"]"
   ]
  },
  {
   "cell_type": "code",
   "execution_count": 3,
   "metadata": {},
   "outputs": [
    {
     "name": "stdout",
     "output_type": "stream",
     "text": [
      "Headers: ['label', 'nose_x', 'nose_y', 'nose_z', 'nose_v', 'left_shoulder_x', 'left_shoulder_y', 'left_shoulder_z', 'left_shoulder_v', 'right_shoulder_x', 'right_shoulder_y', 'right_shoulder_z', 'right_shoulder_v', 'left_hip_x', 'left_hip_y', 'left_hip_z', 'left_hip_v', 'right_hip_x', 'right_hip_y', 'right_hip_z', 'right_hip_v']\n",
      "Number of rows: 5151 \n",
      "Number of columns: 21\n",
      "\n",
      "Labels: \n",
      "C    2685\n",
      "L    2466\n",
      "Name: label, dtype: int64\n",
      "\n",
      "Missing values: False\n",
      "\n",
      "Duplicate Rows : 0\n"
     ]
    }
   ],
   "source": [
    "def describe_dataset(dataset_path: str):\n",
    "    '''\n",
    "    Describe dataset\n",
    "    '''\n",
    "\n",
    "    data = pd.read_csv(dataset_path)\n",
    "    print(f\"Headers: {list(data.columns.values)}\")\n",
    "    print(f'Number of rows: {data.shape[0]} \\nNumber of columns: {data.shape[1]}\\n')\n",
    "    print(f\"Labels: \\n{data['label'].value_counts()}\\n\")\n",
    "    print(f\"Missing values: {data.isnull().values.any()}\\n\")\n",
    "    \n",
    "    duplicate = data[data.duplicated()]\n",
    "    print(f\"Duplicate Rows : {len(duplicate.sum(axis=1))}\")\n",
    "\n",
    "    return data\n",
    "\n",
    "\n",
    "# Remove duplicate rows (optional)\n",
    "def remove_duplicate_rows(dataset_path: str):\n",
    "    '''\n",
    "    Remove duplicated data from the dataset then save it to another files\n",
    "    '''\n",
    "    \n",
    "    df = pd.read_csv(dataset_path)\n",
    "    df.drop_duplicates(keep=\"first\", inplace=True)\n",
    "    df.to_csv(f\"cleaned_dataset.csv\", sep=',', encoding='utf-8', index=False)\n",
    "\n",
    "\n",
    "df = describe_dataset(\"./dataset.csv\")"
   ]
  },
  {
   "cell_type": "code",
   "execution_count": 4,
   "metadata": {},
   "outputs": [
    {
     "name": "stdout",
     "output_type": "stream",
     "text": [
      "Number of rows: 5151 \n",
      "Number of columns: 21\n",
      "\n",
      "Labels: \n",
      "0    2685\n",
      "1    2466\n",
      "Name: label, dtype: int64\n",
      "\n"
     ]
    }
   ],
   "source": [
    "# load dataset\n",
    "df = pd.read_csv(\"./dataset.csv\")\n",
    "\n",
    "# Categorizing label\n",
    "df.loc[df[\"label\"] == \"C\", \"label\"] = 0\n",
    "df.loc[df[\"label\"] == \"L\", \"label\"] = 1\n",
    "\n",
    "print(f'Number of rows: {df.shape[0]} \\nNumber of columns: {df.shape[1]}\\n')\n",
    "print(f\"Labels: \\n{df['label'].value_counts()}\\n\")"
   ]
  },
  {
   "cell_type": "code",
   "execution_count": 5,
   "metadata": {},
   "outputs": [],
   "source": [
    "# Standard Scaling of features\n",
    "sc = StandardScaler()\n",
    "\n",
    "x = df.drop(\"label\", axis = 1)\n",
    "x = pd.DataFrame(sc.fit_transform(x))\n",
    "\n",
    "y = df[\"label\"]\n",
    "\n",
    "# # Converting prediction to categorical\n",
    "y_cat = to_categorical(y)"
   ]
  },
  {
   "cell_type": "code",
   "execution_count": 6,
   "metadata": {},
   "outputs": [],
   "source": [
    "x_train, x_test, y_train, y_test = train_test_split(x.values, y_cat, test_size=0.2)"
   ]
  },
  {
   "cell_type": "code",
   "execution_count": 7,
   "metadata": {},
   "outputs": [
    {
     "name": "stdout",
     "output_type": "stream",
     "text": [
      "Metal device set to: Apple M1\n",
      "\n",
      "systemMemory: 16.00 GB\n",
      "maxCacheSize: 5.33 GB\n",
      "\n",
      "Model: \"sequential\"\n",
      "_________________________________________________________________\n",
      " Layer (type)                Output Shape              Param #   \n",
      "=================================================================\n",
      " dense (Dense)               (None, 20)                420       \n",
      "                                                                 \n",
      " dense_1 (Dense)             (None, 10)                210       \n",
      "                                                                 \n",
      " dense_2 (Dense)             (None, 2)                 22        \n",
      "                                                                 \n",
      "=================================================================\n",
      "Total params: 652\n",
      "Trainable params: 652\n",
      "Non-trainable params: 0\n",
      "_________________________________________________________________\n"
     ]
    },
    {
     "name": "stderr",
     "output_type": "stream",
     "text": [
      "2022-10-15 00:47:49.440928: I tensorflow/core/common_runtime/pluggable_device/pluggable_device_factory.cc:305] Could not identify NUMA node of platform GPU ID 0, defaulting to 0. Your kernel may not have been built with NUMA support.\n",
      "2022-10-15 00:47:49.441555: I tensorflow/core/common_runtime/pluggable_device/pluggable_device_factory.cc:271] Created TensorFlow device (/job:localhost/replica:0/task:0/device:GPU:0 with 0 MB memory) -> physical PluggableDevice (device: 0, name: METAL, pci bus id: <undefined>)\n"
     ]
    }
   ],
   "source": [
    "model = Sequential()\n",
    "model.add(Dense(20, input_dim = 20, activation = \"relu\"))\n",
    "model.add(Dense(10, activation = \"relu\"))\n",
    "model.add(Dense(2, activation = \"softmax\"))\n",
    "model.compile(Adam(lr = 0.01), \"categorical_crossentropy\", metrics = [\"accuracy\"])\n",
    "model.summary()"
   ]
  },
  {
   "cell_type": "code",
   "execution_count": 8,
   "metadata": {},
   "outputs": [
    {
     "name": "stdout",
     "output_type": "stream",
     "text": [
      "Epoch 1/100\n"
     ]
    },
    {
     "name": "stderr",
     "output_type": "stream",
     "text": [
      "2022-10-15 00:48:05.540839: W tensorflow/core/platform/profile_utils/cpu_utils.cc:128] Failed to get CPU frequency: 0 Hz\n",
      "2022-10-15 00:48:05.741505: I tensorflow/core/grappler/optimizers/custom_graph_optimizer_registry.cc:113] Plugin optimizer for device_type GPU is enabled.\n"
     ]
    },
    {
     "name": "stdout",
     "output_type": "stream",
     "text": [
      "410/412 [============================>.] - ETA: 0s - loss: 0.0415 - accuracy: 0.9883"
     ]
    },
    {
     "name": "stderr",
     "output_type": "stream",
     "text": [
      "2022-10-15 00:48:08.924773: I tensorflow/core/grappler/optimizers/custom_graph_optimizer_registry.cc:113] Plugin optimizer for device_type GPU is enabled.\n"
     ]
    },
    {
     "name": "stdout",
     "output_type": "stream",
     "text": [
      "412/412 [==============================] - 4s 8ms/step - loss: 0.0413 - accuracy: 0.9883 - val_loss: 0.0062 - val_accuracy: 0.9990\n",
      "Epoch 2/100\n",
      "412/412 [==============================] - 3s 8ms/step - loss: 0.0233 - accuracy: 0.9939 - val_loss: 0.0046 - val_accuracy: 0.9990\n",
      "Epoch 3/100\n",
      "412/412 [==============================] - 3s 7ms/step - loss: 0.0167 - accuracy: 0.9954 - val_loss: 0.0043 - val_accuracy: 0.9990\n",
      "Epoch 4/100\n",
      "412/412 [==============================] - 3s 8ms/step - loss: 0.0160 - accuracy: 0.9949 - val_loss: 0.0054 - val_accuracy: 0.9990\n",
      "Epoch 5/100\n",
      "412/412 [==============================] - 3s 7ms/step - loss: 0.0188 - accuracy: 0.9949 - val_loss: 0.0073 - val_accuracy: 0.9990\n",
      "Epoch 6/100\n",
      "412/412 [==============================] - 3s 7ms/step - loss: 0.0125 - accuracy: 0.9947 - val_loss: 0.0063 - val_accuracy: 0.9981\n",
      "Epoch 7/100\n",
      "412/412 [==============================] - 3s 7ms/step - loss: 0.0204 - accuracy: 0.9937 - val_loss: 0.0083 - val_accuracy: 0.9981\n",
      "Epoch 8/100\n",
      "412/412 [==============================] - 3s 7ms/step - loss: 0.0117 - accuracy: 0.9954 - val_loss: 0.0046 - val_accuracy: 0.9990\n",
      "Epoch 9/100\n",
      "412/412 [==============================] - 3s 7ms/step - loss: 0.0140 - accuracy: 0.9954 - val_loss: 0.0062 - val_accuracy: 0.9981\n",
      "Epoch 10/100\n",
      "412/412 [==============================] - 3s 7ms/step - loss: 0.0132 - accuracy: 0.9939 - val_loss: 0.0043 - val_accuracy: 0.9990\n",
      "Epoch 11/100\n",
      "412/412 [==============================] - 3s 8ms/step - loss: 0.0109 - accuracy: 0.9954 - val_loss: 0.0047 - val_accuracy: 0.9990\n",
      "Epoch 12/100\n",
      "412/412 [==============================] - 3s 7ms/step - loss: 0.0101 - accuracy: 0.9971 - val_loss: 0.0037 - val_accuracy: 0.9990\n",
      "Epoch 13/100\n",
      "412/412 [==============================] - 3s 7ms/step - loss: 0.0104 - accuracy: 0.9959 - val_loss: 0.0436 - val_accuracy: 0.9855\n",
      "Epoch 14/100\n",
      "412/412 [==============================] - 3s 8ms/step - loss: 0.0109 - accuracy: 0.9961 - val_loss: 0.0090 - val_accuracy: 0.9971\n",
      "Epoch 15/100\n",
      "412/412 [==============================] - 3s 8ms/step - loss: 0.0139 - accuracy: 0.9964 - val_loss: 0.0037 - val_accuracy: 0.9990\n",
      "Epoch 16/100\n",
      "412/412 [==============================] - 3s 8ms/step - loss: 0.0078 - accuracy: 0.9971 - val_loss: 0.0041 - val_accuracy: 0.9990\n",
      "Epoch 17/100\n",
      "412/412 [==============================] - 3s 8ms/step - loss: 0.0227 - accuracy: 0.9956 - val_loss: 0.0048 - val_accuracy: 0.9981\n",
      "Epoch 18/100\n",
      "412/412 [==============================] - 3s 8ms/step - loss: 0.0080 - accuracy: 0.9966 - val_loss: 0.0086 - val_accuracy: 0.9961\n",
      "Epoch 19/100\n",
      "412/412 [==============================] - 3s 7ms/step - loss: 0.0079 - accuracy: 0.9971 - val_loss: 0.0031 - val_accuracy: 0.9990\n",
      "Epoch 20/100\n",
      "412/412 [==============================] - 3s 7ms/step - loss: 0.0056 - accuracy: 0.9985 - val_loss: 0.0026 - val_accuracy: 0.9990\n",
      "Epoch 21/100\n",
      "412/412 [==============================] - 3s 8ms/step - loss: 0.0102 - accuracy: 0.9964 - val_loss: 0.0018 - val_accuracy: 0.9990\n",
      "Epoch 22/100\n",
      "412/412 [==============================] - 3s 8ms/step - loss: 0.0101 - accuracy: 0.9961 - val_loss: 0.0053 - val_accuracy: 0.9990\n",
      "Epoch 23/100\n",
      "412/412 [==============================] - 3s 8ms/step - loss: 0.0054 - accuracy: 0.9981 - val_loss: 0.0041 - val_accuracy: 0.9981\n",
      "Epoch 24/100\n",
      "412/412 [==============================] - 3s 8ms/step - loss: 0.0078 - accuracy: 0.9966 - val_loss: 0.0033 - val_accuracy: 0.9981\n",
      "Epoch 25/100\n",
      "412/412 [==============================] - 3s 8ms/step - loss: 0.0047 - accuracy: 0.9981 - val_loss: 0.0035 - val_accuracy: 0.9981\n",
      "Epoch 26/100\n",
      "412/412 [==============================] - 3s 8ms/step - loss: 0.0047 - accuracy: 0.9985 - val_loss: 0.0020 - val_accuracy: 1.0000\n",
      "Epoch 27/100\n",
      "412/412 [==============================] - 3s 8ms/step - loss: 0.0070 - accuracy: 0.9973 - val_loss: 0.0053 - val_accuracy: 0.9971\n",
      "Epoch 28/100\n",
      "412/412 [==============================] - 3s 7ms/step - loss: 0.0054 - accuracy: 0.9978 - val_loss: 0.0036 - val_accuracy: 0.9990\n",
      "Epoch 29/100\n",
      "412/412 [==============================] - 3s 7ms/step - loss: 0.0213 - accuracy: 0.9956 - val_loss: 0.0015 - val_accuracy: 1.0000\n",
      "Epoch 30/100\n",
      "412/412 [==============================] - 3s 8ms/step - loss: 0.0057 - accuracy: 0.9973 - val_loss: 0.0030 - val_accuracy: 0.9990\n",
      "Epoch 31/100\n",
      "412/412 [==============================] - 3s 7ms/step - loss: 0.0047 - accuracy: 0.9983 - val_loss: 0.0059 - val_accuracy: 0.9981\n",
      "Epoch 32/100\n",
      "412/412 [==============================] - 3s 8ms/step - loss: 0.0060 - accuracy: 0.9976 - val_loss: 0.0039 - val_accuracy: 0.9981\n",
      "Epoch 33/100\n",
      "412/412 [==============================] - 3s 7ms/step - loss: 0.0070 - accuracy: 0.9978 - val_loss: 0.0051 - val_accuracy: 0.9981\n",
      "Epoch 34/100\n",
      "412/412 [==============================] - 3s 7ms/step - loss: 0.0057 - accuracy: 0.9976 - val_loss: 0.0078 - val_accuracy: 0.9981\n",
      "Epoch 35/100\n",
      "412/412 [==============================] - 3s 7ms/step - loss: 0.0046 - accuracy: 0.9983 - val_loss: 0.0045 - val_accuracy: 0.9990\n",
      "Epoch 36/100\n",
      "412/412 [==============================] - 3s 7ms/step - loss: 0.0025 - accuracy: 0.9990 - val_loss: 0.0042 - val_accuracy: 0.9990\n",
      "Epoch 37/100\n",
      "412/412 [==============================] - 3s 8ms/step - loss: 0.0040 - accuracy: 0.9978 - val_loss: 0.0052 - val_accuracy: 0.9981\n",
      "Epoch 38/100\n",
      "412/412 [==============================] - 3s 8ms/step - loss: 0.0035 - accuracy: 0.9983 - val_loss: 0.0038 - val_accuracy: 0.9990\n",
      "Epoch 39/100\n",
      "412/412 [==============================] - 3s 7ms/step - loss: 0.0040 - accuracy: 0.9985 - val_loss: 0.0039 - val_accuracy: 0.9981\n",
      "Epoch 40/100\n",
      "412/412 [==============================] - 3s 7ms/step - loss: 0.0037 - accuracy: 0.9983 - val_loss: 0.0073 - val_accuracy: 0.9981\n",
      "Epoch 41/100\n",
      "412/412 [==============================] - 3s 7ms/step - loss: 0.0049 - accuracy: 0.9978 - val_loss: 0.0097 - val_accuracy: 0.9981\n",
      "Epoch 42/100\n",
      "412/412 [==============================] - 3s 8ms/step - loss: 0.0057 - accuracy: 0.9988 - val_loss: 0.0112 - val_accuracy: 0.9981\n",
      "Epoch 43/100\n",
      "412/412 [==============================] - 3s 8ms/step - loss: 0.0034 - accuracy: 0.9988 - val_loss: 0.0095 - val_accuracy: 0.9981\n",
      "Epoch 44/100\n",
      "412/412 [==============================] - 3s 8ms/step - loss: 0.0042 - accuracy: 0.9983 - val_loss: 0.0282 - val_accuracy: 0.9990\n",
      "Epoch 45/100\n",
      "412/412 [==============================] - 3s 7ms/step - loss: 0.0041 - accuracy: 0.9988 - val_loss: 0.0016 - val_accuracy: 0.9990\n",
      "Epoch 46/100\n",
      "412/412 [==============================] - 3s 7ms/step - loss: 0.0155 - accuracy: 0.9985 - val_loss: 0.0058 - val_accuracy: 0.9981\n",
      "Epoch 47/100\n",
      "412/412 [==============================] - 3s 8ms/step - loss: 0.0036 - accuracy: 0.9990 - val_loss: 0.0060 - val_accuracy: 0.9990\n",
      "Epoch 48/100\n",
      "412/412 [==============================] - 3s 7ms/step - loss: 0.0020 - accuracy: 0.9995 - val_loss: 0.0035 - val_accuracy: 0.9990\n",
      "Epoch 49/100\n",
      "412/412 [==============================] - 3s 7ms/step - loss: 0.0043 - accuracy: 0.9985 - val_loss: 0.0024 - val_accuracy: 0.9981\n",
      "Epoch 50/100\n",
      "412/412 [==============================] - 3s 8ms/step - loss: 0.0034 - accuracy: 0.9981 - val_loss: 0.0015 - val_accuracy: 0.9990\n",
      "Epoch 51/100\n",
      "412/412 [==============================] - 3s 7ms/step - loss: 0.0015 - accuracy: 0.9998 - val_loss: 0.0010 - val_accuracy: 0.9990\n",
      "Epoch 52/100\n",
      "412/412 [==============================] - 3s 7ms/step - loss: 0.0036 - accuracy: 0.9983 - val_loss: 0.0027 - val_accuracy: 0.9981\n",
      "Epoch 53/100\n",
      "412/412 [==============================] - 3s 8ms/step - loss: 0.0088 - accuracy: 0.9973 - val_loss: 0.0100 - val_accuracy: 0.9990\n",
      "Epoch 54/100\n",
      "412/412 [==============================] - 3s 7ms/step - loss: 0.0029 - accuracy: 0.9993 - val_loss: 0.0082 - val_accuracy: 0.9990\n",
      "Epoch 55/100\n",
      "412/412 [==============================] - 3s 8ms/step - loss: 0.0029 - accuracy: 0.9988 - val_loss: 0.0107 - val_accuracy: 0.9981\n",
      "Epoch 56/100\n",
      "412/412 [==============================] - 3s 8ms/step - loss: 0.0177 - accuracy: 0.9983 - val_loss: 4.1320e-04 - val_accuracy: 1.0000\n",
      "Epoch 57/100\n",
      "412/412 [==============================] - 3s 8ms/step - loss: 0.0116 - accuracy: 0.9990 - val_loss: 0.0057 - val_accuracy: 0.9990\n",
      "Epoch 58/100\n",
      "412/412 [==============================] - 3s 8ms/step - loss: 0.0037 - accuracy: 0.9978 - val_loss: 0.0043 - val_accuracy: 0.9990\n",
      "Epoch 59/100\n",
      "412/412 [==============================] - 3s 7ms/step - loss: 0.0027 - accuracy: 0.9988 - val_loss: 0.0044 - val_accuracy: 0.9990\n",
      "Epoch 60/100\n",
      "412/412 [==============================] - 3s 7ms/step - loss: 0.0024 - accuracy: 0.9993 - val_loss: 0.0036 - val_accuracy: 0.9990\n",
      "Epoch 61/100\n",
      "412/412 [==============================] - 3s 8ms/step - loss: 0.0015 - accuracy: 0.9998 - val_loss: 0.0031 - val_accuracy: 0.9990\n",
      "Epoch 62/100\n",
      "412/412 [==============================] - 3s 8ms/step - loss: 0.0031 - accuracy: 0.9985 - val_loss: 0.0025 - val_accuracy: 0.9990\n",
      "Epoch 63/100\n",
      "412/412 [==============================] - 3s 8ms/step - loss: 0.0025 - accuracy: 0.9990 - val_loss: 0.0032 - val_accuracy: 0.9981\n",
      "Epoch 64/100\n",
      "412/412 [==============================] - 3s 8ms/step - loss: 0.0050 - accuracy: 0.9981 - val_loss: 0.0016 - val_accuracy: 0.9990\n",
      "Epoch 65/100\n",
      "412/412 [==============================] - 3s 8ms/step - loss: 0.0053 - accuracy: 0.9976 - val_loss: 0.0058 - val_accuracy: 0.9990\n",
      "Epoch 66/100\n",
      "412/412 [==============================] - 3s 7ms/step - loss: 0.0030 - accuracy: 0.9988 - val_loss: 0.0022 - val_accuracy: 0.9990\n",
      "Epoch 67/100\n",
      "412/412 [==============================] - 3s 8ms/step - loss: 0.0027 - accuracy: 0.9993 - val_loss: 6.7628e-04 - val_accuracy: 1.0000\n",
      "Epoch 68/100\n",
      "412/412 [==============================] - 3s 8ms/step - loss: 0.0019 - accuracy: 0.9998 - val_loss: 8.6107e-05 - val_accuracy: 1.0000\n",
      "Epoch 69/100\n",
      "412/412 [==============================] - 3s 8ms/step - loss: 0.0016 - accuracy: 0.9993 - val_loss: 1.0560e-04 - val_accuracy: 1.0000\n",
      "Epoch 70/100\n",
      "412/412 [==============================] - 3s 8ms/step - loss: 0.0017 - accuracy: 0.9993 - val_loss: 7.9287e-04 - val_accuracy: 0.9990\n",
      "Epoch 71/100\n",
      "412/412 [==============================] - 3s 8ms/step - loss: 8.3353e-04 - accuracy: 0.9998 - val_loss: 6.7303e-05 - val_accuracy: 1.0000\n",
      "Epoch 72/100\n",
      "412/412 [==============================] - 3s 8ms/step - loss: 0.0041 - accuracy: 0.9988 - val_loss: 5.5240e-05 - val_accuracy: 1.0000\n",
      "Epoch 73/100\n",
      "412/412 [==============================] - 3s 7ms/step - loss: 0.0015 - accuracy: 0.9998 - val_loss: 1.6565e-04 - val_accuracy: 1.0000\n",
      "Epoch 74/100\n",
      "412/412 [==============================] - 3s 8ms/step - loss: 0.0025 - accuracy: 0.9985 - val_loss: 1.8146e-05 - val_accuracy: 1.0000\n",
      "Epoch 75/100\n",
      "412/412 [==============================] - 3s 8ms/step - loss: 0.0067 - accuracy: 0.9983 - val_loss: 0.0062 - val_accuracy: 0.9961\n",
      "Epoch 76/100\n",
      "412/412 [==============================] - 3s 8ms/step - loss: 0.0023 - accuracy: 0.9993 - val_loss: 1.2810e-04 - val_accuracy: 1.0000\n",
      "Epoch 77/100\n",
      "412/412 [==============================] - 3s 8ms/step - loss: 0.0158 - accuracy: 0.9990 - val_loss: 0.0071 - val_accuracy: 0.9990\n",
      "Epoch 78/100\n",
      "412/412 [==============================] - 3s 7ms/step - loss: 0.0015 - accuracy: 1.0000 - val_loss: 0.0065 - val_accuracy: 0.9990\n",
      "Epoch 79/100\n",
      "412/412 [==============================] - 3s 8ms/step - loss: 7.6760e-04 - accuracy: 1.0000 - val_loss: 0.0069 - val_accuracy: 0.9990\n",
      "Epoch 80/100\n",
      "412/412 [==============================] - 3s 8ms/step - loss: 4.8219e-04 - accuracy: 1.0000 - val_loss: 0.0071 - val_accuracy: 0.9990\n",
      "Epoch 81/100\n",
      "412/412 [==============================] - 3s 8ms/step - loss: 4.7428e-04 - accuracy: 1.0000 - val_loss: 0.0072 - val_accuracy: 0.9990\n",
      "Epoch 82/100\n",
      "412/412 [==============================] - 3s 8ms/step - loss: 0.0033 - accuracy: 0.9985 - val_loss: 0.0072 - val_accuracy: 0.9990\n",
      "Epoch 83/100\n",
      "412/412 [==============================] - 3s 8ms/step - loss: 3.7029e-04 - accuracy: 1.0000 - val_loss: 0.0101 - val_accuracy: 0.9990\n",
      "Epoch 84/100\n",
      "412/412 [==============================] - 3s 8ms/step - loss: 0.0033 - accuracy: 0.9983 - val_loss: 0.0105 - val_accuracy: 0.9990\n",
      "Epoch 85/100\n",
      "412/412 [==============================] - 3s 8ms/step - loss: 4.7153e-04 - accuracy: 1.0000 - val_loss: 0.0113 - val_accuracy: 0.9990\n",
      "Epoch 86/100\n",
      "412/412 [==============================] - 3s 8ms/step - loss: 6.6038e-04 - accuracy: 1.0000 - val_loss: 0.0121 - val_accuracy: 0.9990\n",
      "Epoch 87/100\n",
      "412/412 [==============================] - 3s 8ms/step - loss: 2.7898e-04 - accuracy: 1.0000 - val_loss: 0.0124 - val_accuracy: 0.9990\n",
      "Epoch 88/100\n",
      "412/412 [==============================] - 3s 8ms/step - loss: 2.2576e-04 - accuracy: 1.0000 - val_loss: 0.0127 - val_accuracy: 0.9990\n",
      "Epoch 89/100\n",
      "412/412 [==============================] - 3s 8ms/step - loss: 1.0904e-04 - accuracy: 1.0000 - val_loss: 0.0130 - val_accuracy: 0.9990\n",
      "Epoch 90/100\n",
      "412/412 [==============================] - 3s 8ms/step - loss: 8.8462e-05 - accuracy: 1.0000 - val_loss: 0.0133 - val_accuracy: 0.9990\n",
      "Epoch 91/100\n",
      "412/412 [==============================] - 3s 8ms/step - loss: 8.6119e-05 - accuracy: 1.0000 - val_loss: 0.0135 - val_accuracy: 0.9990\n",
      "Epoch 92/100\n",
      "412/412 [==============================] - 3s 8ms/step - loss: 5.7616e-05 - accuracy: 1.0000 - val_loss: 0.0138 - val_accuracy: 0.9990\n",
      "Epoch 93/100\n",
      "412/412 [==============================] - 3s 8ms/step - loss: 0.0073 - accuracy: 0.9988 - val_loss: 0.0140 - val_accuracy: 0.9990\n",
      "Epoch 94/100\n",
      "412/412 [==============================] - 3s 8ms/step - loss: 0.0054 - accuracy: 0.9985 - val_loss: 0.0116 - val_accuracy: 0.9981\n",
      "Epoch 95/100\n",
      "412/412 [==============================] - 3s 8ms/step - loss: 7.6293e-04 - accuracy: 0.9998 - val_loss: 0.0042 - val_accuracy: 0.9990\n",
      "Epoch 96/100\n",
      "412/412 [==============================] - 3s 8ms/step - loss: 0.0013 - accuracy: 0.9995 - val_loss: 0.0038 - val_accuracy: 0.9990\n",
      "Epoch 97/100\n",
      "412/412 [==============================] - 3s 8ms/step - loss: 0.0431 - accuracy: 0.9983 - val_loss: 0.0141 - val_accuracy: 0.9971\n",
      "Epoch 98/100\n",
      "412/412 [==============================] - 3s 8ms/step - loss: 0.0071 - accuracy: 0.9985 - val_loss: 1.2828e-04 - val_accuracy: 1.0000\n",
      "Epoch 99/100\n",
      "412/412 [==============================] - 3s 8ms/step - loss: 0.0018 - accuracy: 0.9990 - val_loss: 0.0091 - val_accuracy: 0.9981\n",
      "Epoch 100/100\n",
      "412/412 [==============================] - 3s 8ms/step - loss: 0.0029 - accuracy: 0.9990 - val_loss: 0.0217 - val_accuracy: 0.9990\n"
     ]
    },
    {
     "data": {
      "text/plain": [
       "<keras.callbacks.History at 0x16a754880>"
      ]
     },
     "execution_count": 8,
     "metadata": {},
     "output_type": "execute_result"
    }
   ],
   "source": [
    "model.fit(x_train, y_train, epochs=100, batch_size=10, validation_data=(x_test, y_test))"
   ]
  },
  {
   "cell_type": "code",
   "execution_count": 9,
   "metadata": {},
   "outputs": [
    {
     "name": "stdout",
     "output_type": "stream",
     "text": [
      "33/33 [==============================] - 0s 4ms/step\n",
      " 1/33 [..............................] - ETA: 0s"
     ]
    },
    {
     "name": "stderr",
     "output_type": "stream",
     "text": [
      "2022-10-15 00:57:26.901323: I tensorflow/core/grappler/optimizers/custom_graph_optimizer_registry.cc:113] Plugin optimizer for device_type GPU is enabled.\n"
     ]
    },
    {
     "name": "stdout",
     "output_type": "stream",
     "text": [
      "33/33 [==============================] - 0s 2ms/step\n"
     ]
    },
    {
     "data": {
      "text/plain": [
       "array([[536,   0],\n",
       "       [  1, 494]])"
      ]
     },
     "execution_count": 9,
     "metadata": {},
     "output_type": "execute_result"
    }
   ],
   "source": [
    "from sklearn.metrics import confusion_matrix\n",
    "\n",
    "predict_x = model.predict(x_test) \n",
    "y_pred_class = np.argmax(predict_x, axis=1)\n",
    "\n",
    "y_pred = model.predict(x_test)\n",
    "y_test_class = np.argmax(y_test, axis=1)\n",
    "\n",
    "confusion_matrix(y_test_class, y_pred_class)"
   ]
  },
  {
   "cell_type": "code",
   "execution_count": 10,
   "metadata": {},
   "outputs": [
    {
     "name": "stdout",
     "output_type": "stream",
     "text": [
      "              precision    recall  f1-score   support\n",
      "\n",
      "           0       1.00      1.00      1.00       536\n",
      "           1       1.00      1.00      1.00       495\n",
      "\n",
      "    accuracy                           1.00      1031\n",
      "   macro avg       1.00      1.00      1.00      1031\n",
      "weighted avg       1.00      1.00      1.00      1031\n",
      "\n"
     ]
    }
   ],
   "source": [
    "print(classification_report(y_test_class, y_pred_class))"
   ]
  },
  {
   "cell_type": "code",
   "execution_count": 11,
   "metadata": {},
   "outputs": [
    {
     "name": "stdout",
     "output_type": "stream",
     "text": [
      "INFO:tensorflow:Assets written to: ram://c59159f4-5014-40d0-89a4-cc4b78edd148/assets\n"
     ]
    }
   ],
   "source": [
    "# Dump the best model to a pickle file\n",
    "with open(\"./model/bicep_model_deep_learning.pkl\", \"wb\") as f:\n",
    "    pickle.dump(model, f)\n",
    "\n"
   ]
  },
  {
   "cell_type": "code",
   "execution_count": 6,
   "metadata": {},
   "outputs": [],
   "source": [
    "# Dump input scaler\n",
    "with open(\"./model/input_scaler.pkl\", \"wb\") as f:\n",
    "    pickle.dump(sc, f)"
   ]
  },
  {
   "cell_type": "code",
   "execution_count": null,
   "metadata": {},
   "outputs": [],
   "source": []
  }
 ],
 "metadata": {
  "kernelspec": {
   "display_name": "Python 3.8.13 (conda)",
   "language": "python",
   "name": "python3"
  },
  "language_info": {
   "codemirror_mode": {
    "name": "ipython",
    "version": 3
   },
   "file_extension": ".py",
   "mimetype": "text/x-python",
   "name": "python",
   "nbconvert_exporter": "python",
   "pygments_lexer": "ipython3",
   "version": "3.8.13"
  },
  "orig_nbformat": 4,
  "vscode": {
   "interpreter": {
    "hash": "9260f401923fb5c4108c543a7d176de9733d378b3752e49535ad7c43c2271b65"
   }
  }
 },
 "nbformat": 4,
 "nbformat_minor": 2
}
