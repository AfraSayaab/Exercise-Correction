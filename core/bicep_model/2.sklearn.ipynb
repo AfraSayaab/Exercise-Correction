{
 "cells": [
  {
   "cell_type": "code",
   "execution_count": 5,
   "metadata": {},
   "outputs": [],
   "source": [
    "import mediapipe as mp\n",
    "import cv2\n",
    "import pandas as pd\n",
    "import pickle\n",
    "\n",
    "from sklearn.model_selection import train_test_split\n",
    "from sklearn.linear_model import LogisticRegression, SGDClassifier\n",
    "from sklearn.svm import SVC\n",
    "from sklearn.neighbors import KNeighborsClassifier\n",
    "from sklearn.tree import DecisionTreeClassifier\n",
    "from sklearn.ensemble import RandomForestClassifier\n",
    "from sklearn.naive_bayes import GaussianNB\n",
    "from sklearn.metrics import precision_score, accuracy_score, f1_score, recall_score, confusion_matrix\n",
    "from sklearn.preprocessing import StandardScaler\n",
    "from sklearn.calibration import CalibratedClassifierCV\n",
    "\n",
    "import warnings\n",
    "warnings.filterwarnings('ignore')\n",
    "\n",
    "# Drawing helpers\n",
    "mp_drawing = mp.solutions.drawing_utils\n",
    "mp_pose = mp.solutions.pose"
   ]
  },
  {
   "cell_type": "markdown",
   "metadata": {},
   "source": [
    "### 1. Train model"
   ]
  },
  {
   "cell_type": "markdown",
   "metadata": {},
   "source": [
    "#### 1.1. Describe data and split dataset"
   ]
  },
  {
   "cell_type": "code",
   "execution_count": 2,
   "metadata": {},
   "outputs": [],
   "source": [
    "def rescale_frame(frame, percent=50):\n",
    "    '''\n",
    "    Rescale a frame to a certain percentage compare to its original frame\n",
    "    '''\n",
    "    width = int(frame.shape[1] * percent/ 100)\n",
    "    height = int(frame.shape[0] * percent/ 100)\n",
    "    dim = (width, height)\n",
    "    return cv2.resize(frame, dim, interpolation = cv2.INTER_AREA)\n",
    "\n",
    "\n",
    "def describe_dataset(dataset_path: str):\n",
    "    '''\n",
    "    Describe dataset\n",
    "    '''\n",
    "\n",
    "    data = pd.read_csv(dataset_path)\n",
    "    print(f\"Headers: {list(data.columns.values)}\")\n",
    "    print(f'Number of rows: {data.shape[0]} \\nNumber of columns: {data.shape[1]}\\n')\n",
    "    print(f\"Labels: \\n{data['label'].value_counts()}\\n\")\n",
    "    print(f\"Missing values: {data.isnull().values.any()}\\n\")\n",
    "    \n",
    "    duplicate = data[data.duplicated()]\n",
    "    print(f\"Duplicate Rows : {len(duplicate.sum(axis=1))}\")\n",
    "\n",
    "    return data\n",
    "\n",
    "\n",
    "def round_up_metric_results(results) -> list:\n",
    "    '''Round up metrics results such as precision score, recall score, ...'''\n",
    "    return list(map(lambda el: round(el, 3), results))"
   ]
  },
  {
   "cell_type": "code",
   "execution_count": 3,
   "metadata": {},
   "outputs": [
    {
     "name": "stdout",
     "output_type": "stream",
     "text": [
      "Headers: ['label', 'nose_x', 'nose_y', 'nose_z', 'nose_v', 'left_shoulder_x', 'left_shoulder_y', 'left_shoulder_z', 'left_shoulder_v', 'right_shoulder_x', 'right_shoulder_y', 'right_shoulder_z', 'right_shoulder_v', 'right_elbow_x', 'right_elbow_y', 'right_elbow_z', 'right_elbow_v', 'left_elbow_x', 'left_elbow_y', 'left_elbow_z', 'left_elbow_v', 'right_wrist_x', 'right_wrist_y', 'right_wrist_z', 'right_wrist_v', 'left_wrist_x', 'left_wrist_y', 'left_wrist_z', 'left_wrist_v', 'left_hip_x', 'left_hip_y', 'left_hip_z', 'left_hip_v', 'right_hip_x', 'right_hip_y', 'right_hip_z', 'right_hip_v']\n",
      "Number of rows: 15372 \n",
      "Number of columns: 37\n",
      "\n",
      "Labels: \n",
      "C    8238\n",
      "L    7134\n",
      "Name: label, dtype: int64\n",
      "\n",
      "Missing values: False\n",
      "\n",
      "Duplicate Rows : 0\n"
     ]
    }
   ],
   "source": [
    "df = describe_dataset(\"./train.csv\")"
   ]
  },
  {
   "cell_type": "code",
   "execution_count": 6,
   "metadata": {},
   "outputs": [],
   "source": [
    "# Extract features and class\n",
    "X = df.drop(\"label\", axis=1) # features\n",
    "y = df[\"label\"]"
   ]
  },
  {
   "cell_type": "code",
   "execution_count": 8,
   "metadata": {},
   "outputs": [],
   "source": [
    "sc = StandardScaler()\n",
    "X = pd.DataFrame(sc.fit_transform(X))"
   ]
  },
  {
   "cell_type": "code",
   "execution_count": 9,
   "metadata": {},
   "outputs": [
    {
     "data": {
      "text/plain": [
       "1922     L\n",
       "6789     L\n",
       "8933     L\n",
       "1985     L\n",
       "14857    C\n",
       "Name: label, dtype: object"
      ]
     },
     "execution_count": 9,
     "metadata": {},
     "output_type": "execute_result"
    }
   ],
   "source": [
    "X_train, X_test, y_train, y_test = train_test_split(X, y, test_size=0.2, random_state=1234)\n",
    "y_test.head(5)"
   ]
  },
  {
   "cell_type": "markdown",
   "metadata": {},
   "source": [
    "#### 1.2. Train model using Scikit-learn"
   ]
  },
  {
   "cell_type": "code",
   "execution_count": 10,
   "metadata": {},
   "outputs": [
    {
     "data": {
      "text/html": [
       "<div>\n",
       "<style scoped>\n",
       "    .dataframe tbody tr th:only-of-type {\n",
       "        vertical-align: middle;\n",
       "    }\n",
       "\n",
       "    .dataframe tbody tr th {\n",
       "        vertical-align: top;\n",
       "    }\n",
       "\n",
       "    .dataframe thead th {\n",
       "        text-align: right;\n",
       "    }\n",
       "</style>\n",
       "<table border=\"1\" class=\"dataframe\">\n",
       "  <thead>\n",
       "    <tr style=\"text-align: right;\">\n",
       "      <th></th>\n",
       "      <th>Model</th>\n",
       "      <th>Precision Score</th>\n",
       "      <th>Accuracy score</th>\n",
       "      <th>Recall Score</th>\n",
       "      <th>F1 score</th>\n",
       "      <th>Confusion Matrix</th>\n",
       "    </tr>\n",
       "  </thead>\n",
       "  <tbody>\n",
       "    <tr>\n",
       "      <th>0</th>\n",
       "      <td>RF</td>\n",
       "      <td>[0.999, 0.998]</td>\n",
       "      <td>0.998699</td>\n",
       "      <td>[0.998, 0.999]</td>\n",
       "      <td>[0.999, 0.999]</td>\n",
       "      <td>[[1676, 3], [1, 1395]]</td>\n",
       "    </tr>\n",
       "    <tr>\n",
       "      <th>1</th>\n",
       "      <td>KNN</td>\n",
       "      <td>[0.997, 0.999]</td>\n",
       "      <td>0.998049</td>\n",
       "      <td>[0.999, 0.996]</td>\n",
       "      <td>[0.998, 0.998]</td>\n",
       "      <td>[[1678, 1], [5, 1391]]</td>\n",
       "    </tr>\n",
       "    <tr>\n",
       "      <th>2</th>\n",
       "      <td>SVC</td>\n",
       "      <td>[0.997, 0.995]</td>\n",
       "      <td>0.996098</td>\n",
       "      <td>[0.996, 0.996]</td>\n",
       "      <td>[0.996, 0.996]</td>\n",
       "      <td>[[1672, 7], [5, 1391]]</td>\n",
       "    </tr>\n",
       "    <tr>\n",
       "      <th>3</th>\n",
       "      <td>DTC</td>\n",
       "      <td>[0.997, 0.991]</td>\n",
       "      <td>0.994472</td>\n",
       "      <td>[0.993, 0.996]</td>\n",
       "      <td>[0.995, 0.994]</td>\n",
       "      <td>[[1667, 12], [5, 1391]]</td>\n",
       "    </tr>\n",
       "    <tr>\n",
       "      <th>4</th>\n",
       "      <td>LR</td>\n",
       "      <td>[0.986, 0.975]</td>\n",
       "      <td>0.980813</td>\n",
       "      <td>[0.979, 0.983]</td>\n",
       "      <td>[0.982, 0.979]</td>\n",
       "      <td>[[1644, 35], [24, 1372]]</td>\n",
       "    </tr>\n",
       "    <tr>\n",
       "      <th>5</th>\n",
       "      <td>SGDC</td>\n",
       "      <td>[0.984, 0.975]</td>\n",
       "      <td>0.979837</td>\n",
       "      <td>[0.979, 0.981]</td>\n",
       "      <td>[0.981, 0.978]</td>\n",
       "      <td>[[1644, 35], [27, 1369]]</td>\n",
       "    </tr>\n",
       "    <tr>\n",
       "      <th>6</th>\n",
       "      <td>NB</td>\n",
       "      <td>[0.927, 0.842]</td>\n",
       "      <td>0.884878</td>\n",
       "      <td>[0.857, 0.918]</td>\n",
       "      <td>[0.89, 0.879]</td>\n",
       "      <td>[[1439, 240], [114, 1282]]</td>\n",
       "    </tr>\n",
       "  </tbody>\n",
       "</table>\n",
       "</div>"
      ],
      "text/plain": [
       "  Model Precision Score  Accuracy score    Recall Score        F1 score  \\\n",
       "0    RF  [0.999, 0.998]        0.998699  [0.998, 0.999]  [0.999, 0.999]   \n",
       "1   KNN  [0.997, 0.999]        0.998049  [0.999, 0.996]  [0.998, 0.998]   \n",
       "2   SVC  [0.997, 0.995]        0.996098  [0.996, 0.996]  [0.996, 0.996]   \n",
       "3   DTC  [0.997, 0.991]        0.994472  [0.993, 0.996]  [0.995, 0.994]   \n",
       "4    LR  [0.986, 0.975]        0.980813  [0.979, 0.983]  [0.982, 0.979]   \n",
       "5  SGDC  [0.984, 0.975]        0.979837  [0.979, 0.981]  [0.981, 0.978]   \n",
       "6    NB  [0.927, 0.842]        0.884878  [0.857, 0.918]   [0.89, 0.879]   \n",
       "\n",
       "             Confusion Matrix  \n",
       "0      [[1676, 3], [1, 1395]]  \n",
       "1      [[1678, 1], [5, 1391]]  \n",
       "2      [[1672, 7], [5, 1391]]  \n",
       "3     [[1667, 12], [5, 1391]]  \n",
       "4    [[1644, 35], [24, 1372]]  \n",
       "5    [[1644, 35], [27, 1369]]  \n",
       "6  [[1439, 240], [114, 1282]]  "
      ]
     },
     "execution_count": 10,
     "metadata": {},
     "output_type": "execute_result"
    }
   ],
   "source": [
    "algorithms =[(\"LR\", LogisticRegression()),\n",
    "         (\"SVC\", SVC(probability=True)),\n",
    "         ('KNN',KNeighborsClassifier()),\n",
    "         (\"DTC\", DecisionTreeClassifier()),\n",
    "         (\"SGDC\", CalibratedClassifierCV(SGDClassifier())),\n",
    "         (\"NB\", GaussianNB()),\n",
    "         ('RF', RandomForestClassifier()),]\n",
    "\n",
    "models = {}\n",
    "final_results = []\n",
    "\n",
    "for name, model in algorithms:\n",
    "    trained_model = model.fit(X_train, y_train)\n",
    "    models[name] = trained_model\n",
    "\n",
    "    # Evaluate model\n",
    "    model_results = model.predict(X_test)\n",
    "\n",
    "    p_score = precision_score(y_test, model_results, average=None, labels=[\"C\", \"L\"])\n",
    "    a_score = accuracy_score(y_test, model_results)\n",
    "    r_score = recall_score(y_test, model_results, average=None, labels=[\"C\", \"L\"])\n",
    "    f1_score_result = f1_score(y_test, model_results, average=None, labels=[\"C\", \"L\"])\n",
    "    cm = confusion_matrix(y_test, model_results, labels=[\"C\", \"L\"])\n",
    "    final_results.append(( name,  round_up_metric_results(p_score), a_score, round_up_metric_results(r_score), round_up_metric_results(f1_score_result), cm))\n",
    "\n",
    "# Sort results by F1 score\n",
    "final_results.sort(key=lambda k: sum(k[4]), reverse=True)\n",
    "pd.DataFrame(final_results, columns=[\"Model\", \"Precision Score\", \"Accuracy score\", \"Recall Score\", \"F1 score\", \"Confusion Matrix\"])"
   ]
  },
  {
   "cell_type": "markdown",
   "metadata": {},
   "source": [
    "#### 1.3. Evaluation with Test set"
   ]
  },
  {
   "cell_type": "code",
   "execution_count": 11,
   "metadata": {},
   "outputs": [
    {
     "name": "stdout",
     "output_type": "stream",
     "text": [
      "Headers: ['label', 'nose_x', 'nose_y', 'nose_z', 'nose_v', 'left_shoulder_x', 'left_shoulder_y', 'left_shoulder_z', 'left_shoulder_v', 'right_shoulder_x', 'right_shoulder_y', 'right_shoulder_z', 'right_shoulder_v', 'right_elbow_x', 'right_elbow_y', 'right_elbow_z', 'right_elbow_v', 'left_elbow_x', 'left_elbow_y', 'left_elbow_z', 'left_elbow_v', 'right_wrist_x', 'right_wrist_y', 'right_wrist_z', 'right_wrist_v', 'left_wrist_x', 'left_wrist_y', 'left_wrist_z', 'left_wrist_v', 'left_hip_x', 'left_hip_y', 'left_hip_z', 'left_hip_v', 'right_hip_x', 'right_hip_y', 'right_hip_z', 'right_hip_v']\n",
      "Number of rows: 604 \n",
      "Number of columns: 37\n",
      "\n",
      "Labels: \n",
      "C    339\n",
      "L    265\n",
      "Name: label, dtype: int64\n",
      "\n",
      "Missing values: False\n",
      "\n",
      "Duplicate Rows : 0\n"
     ]
    }
   ],
   "source": [
    "test_df = describe_dataset(\"./test.csv\")\n",
    "test_df = test_df.sample(frac=1).reset_index(drop=True)\n",
    "\n",
    "test_x = test_df.drop(\"label\", axis=1)\n",
    "test_y = test_df[\"label\"]\n",
    "\n",
    "test_x = pd.DataFrame(sc.transform(test_x))"
   ]
  },
  {
   "cell_type": "code",
   "execution_count": 12,
   "metadata": {},
   "outputs": [
    {
     "data": {
      "text/html": [
       "<div>\n",
       "<style scoped>\n",
       "    .dataframe tbody tr th:only-of-type {\n",
       "        vertical-align: middle;\n",
       "    }\n",
       "\n",
       "    .dataframe tbody tr th {\n",
       "        vertical-align: top;\n",
       "    }\n",
       "\n",
       "    .dataframe thead th {\n",
       "        text-align: right;\n",
       "    }\n",
       "</style>\n",
       "<table border=\"1\" class=\"dataframe\">\n",
       "  <thead>\n",
       "    <tr style=\"text-align: right;\">\n",
       "      <th></th>\n",
       "      <th>Model</th>\n",
       "      <th>Precision Score</th>\n",
       "      <th>Accuracy score</th>\n",
       "      <th>Recall Score</th>\n",
       "      <th>F1 score</th>\n",
       "      <th>Confusion Matrix</th>\n",
       "    </tr>\n",
       "  </thead>\n",
       "  <tbody>\n",
       "    <tr>\n",
       "      <th>0</th>\n",
       "      <td>KNN</td>\n",
       "      <td>[0.955, 0.996]</td>\n",
       "      <td>0.971854</td>\n",
       "      <td>[0.997, 0.94]</td>\n",
       "      <td>[0.975, 0.967]</td>\n",
       "      <td>[[338, 1], [16, 249]]</td>\n",
       "    </tr>\n",
       "    <tr>\n",
       "      <th>1</th>\n",
       "      <td>RF</td>\n",
       "      <td>[0.91, 0.975]</td>\n",
       "      <td>0.935430</td>\n",
       "      <td>[0.982, 0.875]</td>\n",
       "      <td>[0.945, 0.922]</td>\n",
       "      <td>[[333, 6], [33, 232]]</td>\n",
       "    </tr>\n",
       "    <tr>\n",
       "      <th>2</th>\n",
       "      <td>SVC</td>\n",
       "      <td>[0.957, 0.903]</td>\n",
       "      <td>0.932119</td>\n",
       "      <td>[0.92, 0.947]</td>\n",
       "      <td>[0.938, 0.924]</td>\n",
       "      <td>[[312, 27], [14, 251]]</td>\n",
       "    </tr>\n",
       "    <tr>\n",
       "      <th>3</th>\n",
       "      <td>DTC</td>\n",
       "      <td>[0.732, 0.979]</td>\n",
       "      <td>0.791391</td>\n",
       "      <td>[0.991, 0.536]</td>\n",
       "      <td>[0.842, 0.693]</td>\n",
       "      <td>[[336, 3], [123, 142]]</td>\n",
       "    </tr>\n",
       "    <tr>\n",
       "      <th>4</th>\n",
       "      <td>LR</td>\n",
       "      <td>[0.723, 0.862]</td>\n",
       "      <td>0.761589</td>\n",
       "      <td>[0.932, 0.543]</td>\n",
       "      <td>[0.814, 0.667]</td>\n",
       "      <td>[[316, 23], [121, 144]]</td>\n",
       "    </tr>\n",
       "    <tr>\n",
       "      <th>5</th>\n",
       "      <td>SGDC</td>\n",
       "      <td>[0.708, 0.769]</td>\n",
       "      <td>0.726821</td>\n",
       "      <td>[0.873, 0.54]</td>\n",
       "      <td>[0.782, 0.634]</td>\n",
       "      <td>[[296, 43], [122, 143]]</td>\n",
       "    </tr>\n",
       "    <tr>\n",
       "      <th>6</th>\n",
       "      <td>NB</td>\n",
       "      <td>[0.595, 1.0]</td>\n",
       "      <td>0.617550</td>\n",
       "      <td>[1.0, 0.128]</td>\n",
       "      <td>[0.746, 0.227]</td>\n",
       "      <td>[[339, 0], [231, 34]]</td>\n",
       "    </tr>\n",
       "  </tbody>\n",
       "</table>\n",
       "</div>"
      ],
      "text/plain": [
       "  Model Precision Score  Accuracy score    Recall Score        F1 score  \\\n",
       "0   KNN  [0.955, 0.996]        0.971854   [0.997, 0.94]  [0.975, 0.967]   \n",
       "1    RF   [0.91, 0.975]        0.935430  [0.982, 0.875]  [0.945, 0.922]   \n",
       "2   SVC  [0.957, 0.903]        0.932119   [0.92, 0.947]  [0.938, 0.924]   \n",
       "3   DTC  [0.732, 0.979]        0.791391  [0.991, 0.536]  [0.842, 0.693]   \n",
       "4    LR  [0.723, 0.862]        0.761589  [0.932, 0.543]  [0.814, 0.667]   \n",
       "5  SGDC  [0.708, 0.769]        0.726821   [0.873, 0.54]  [0.782, 0.634]   \n",
       "6    NB    [0.595, 1.0]        0.617550    [1.0, 0.128]  [0.746, 0.227]   \n",
       "\n",
       "          Confusion Matrix  \n",
       "0    [[338, 1], [16, 249]]  \n",
       "1    [[333, 6], [33, 232]]  \n",
       "2   [[312, 27], [14, 251]]  \n",
       "3   [[336, 3], [123, 142]]  \n",
       "4  [[316, 23], [121, 144]]  \n",
       "5  [[296, 43], [122, 143]]  \n",
       "6    [[339, 0], [231, 34]]  "
      ]
     },
     "execution_count": 12,
     "metadata": {},
     "output_type": "execute_result"
    }
   ],
   "source": [
    "testset_final_results = []\n",
    "\n",
    "for name, model in models.items():\n",
    "    # Evaluate model\n",
    "    model_results = model.predict(test_x)\n",
    "\n",
    "    p_score = precision_score(test_y, model_results, average=None, labels=[\"C\", \"L\"])\n",
    "    a_score = accuracy_score(test_y, model_results)\n",
    "    r_score = recall_score(test_y, model_results, average=None, labels=[\"C\", \"L\"])\n",
    "    f1_score_result = f1_score(test_y, model_results, average=None, labels=[\"C\", \"L\"])\n",
    "    cm = confusion_matrix(test_y, model_results, labels=[\"C\", \"L\"])\n",
    "    testset_final_results.append(( name,  round_up_metric_results(p_score), a_score, round_up_metric_results(r_score), round_up_metric_results(f1_score_result), cm ))\n",
    "\n",
    "\n",
    "testset_final_results.sort(key=lambda k: sum(k[4]), reverse=True)\n",
    "pd.DataFrame(testset_final_results, columns=[\"Model\", \"Precision Score\", \"Accuracy score\", \"Recall Score\", \"F1 score\", \"Confusion Matrix\"])"
   ]
  },
  {
   "cell_type": "markdown",
   "metadata": {},
   "source": [
    "#### 1.4. Dump model pickle"
   ]
  },
  {
   "cell_type": "code",
   "execution_count": 13,
   "metadata": {},
   "outputs": [],
   "source": [
    "with open(\"./model/all_sklearn.pkl\", \"wb\") as f:\n",
    "    pickle.dump(models, f)"
   ]
  },
  {
   "cell_type": "code",
   "execution_count": 39,
   "metadata": {},
   "outputs": [],
   "source": [
    "with open(\"./model/RF_model.pkl\", \"wb\") as f:\n",
    "    pickle.dump(models[\"RF\"], f)"
   ]
  },
  {
   "cell_type": "code",
   "execution_count": 40,
   "metadata": {},
   "outputs": [],
   "source": [
    "with open(\"./model/KNN_model.pkl\", \"wb\") as f:\n",
    "    pickle.dump(models[\"KNN\"], f)"
   ]
  },
  {
   "cell_type": "code",
   "execution_count": 43,
   "metadata": {},
   "outputs": [],
   "source": [
    "with open(\"./model/input_scaler.pkl\", \"wb\") as f:\n",
    "    pickle.dump(sc, f)"
   ]
  }
 ],
 "metadata": {
  "kernelspec": {
   "display_name": "Python 3.8.13 (conda)",
   "language": "python",
   "name": "python3"
  },
  "language_info": {
   "codemirror_mode": {
    "name": "ipython",
    "version": 3
   },
   "file_extension": ".py",
   "mimetype": "text/x-python",
   "name": "python",
   "nbconvert_exporter": "python",
   "pygments_lexer": "ipython3",
   "version": "3.8.13"
  },
  "orig_nbformat": 4,
  "vscode": {
   "interpreter": {
    "hash": "9260f401923fb5c4108c543a7d176de9733d378b3752e49535ad7c43c2271b65"
   }
  }
 },
 "nbformat": 4,
 "nbformat_minor": 2
}
