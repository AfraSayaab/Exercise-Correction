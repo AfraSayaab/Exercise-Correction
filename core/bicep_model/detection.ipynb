{
 "cells": [
  {
   "cell_type": "code",
   "execution_count": 1,
   "metadata": {},
   "outputs": [
    {
     "name": "stderr",
     "output_type": "stream",
     "text": [
      "objc[43491]: Class CaptureDelegate is implemented in both /Users/fuixlabsdev1/Programming/PP/graduation-thesis/env/lib/python3.8/site-packages/cv2/cv2.abi3.so (0x147476480) and /Users/fuixlabsdev1/Programming/PP/graduation-thesis/env/lib/python3.8/site-packages/mediapipe/.dylibs/libopencv_videoio.3.4.16.dylib (0x11d590860). One of the two will be used. Which one is undefined.\n",
      "objc[43491]: Class CVWindow is implemented in both /Users/fuixlabsdev1/Programming/PP/graduation-thesis/env/lib/python3.8/site-packages/cv2/cv2.abi3.so (0x1474764d0) and /Users/fuixlabsdev1/Programming/PP/graduation-thesis/env/lib/python3.8/site-packages/mediapipe/.dylibs/libopencv_highgui.3.4.16.dylib (0x10ea04a68). One of the two will be used. Which one is undefined.\n",
      "objc[43491]: Class CVView is implemented in both /Users/fuixlabsdev1/Programming/PP/graduation-thesis/env/lib/python3.8/site-packages/cv2/cv2.abi3.so (0x1474764f8) and /Users/fuixlabsdev1/Programming/PP/graduation-thesis/env/lib/python3.8/site-packages/mediapipe/.dylibs/libopencv_highgui.3.4.16.dylib (0x10ea04a90). One of the two will be used. Which one is undefined.\n",
      "objc[43491]: Class CVSlider is implemented in both /Users/fuixlabsdev1/Programming/PP/graduation-thesis/env/lib/python3.8/site-packages/cv2/cv2.abi3.so (0x147476520) and /Users/fuixlabsdev1/Programming/PP/graduation-thesis/env/lib/python3.8/site-packages/mediapipe/.dylibs/libopencv_highgui.3.4.16.dylib (0x10ea04ab8). One of the two will be used. Which one is undefined.\n"
     ]
    }
   ],
   "source": [
    "import cv2\n",
    "import mediapipe as mp\n",
    "import numpy as np\n",
    "import math\n",
    "import datetime\n",
    "\n",
    "mp_drawing = mp.solutions.drawing_utils\n",
    "mp_pose = mp.solutions.pose"
   ]
  },
  {
   "cell_type": "markdown",
   "metadata": {},
   "source": [
    "### 1. Set up important functions"
   ]
  },
  {
   "cell_type": "code",
   "execution_count": 17,
   "metadata": {},
   "outputs": [],
   "source": [
    "def rescale_frame(frame, percent=50):\n",
    "    '''\n",
    "    Rescale a frame from OpenCV to a certain percentage compare to its original frame\n",
    "    '''\n",
    "    width = int(frame.shape[1] * percent/ 100)\n",
    "    height = int(frame.shape[0] * percent/ 100)\n",
    "    dim = (width, height)\n",
    "    return cv2.resize(frame, dim, interpolation =cv2.INTER_AREA)\n",
    "\n",
    "\n",
    "def calculate_angle(point1: list, point2: list, point3: list) -> float:\n",
    "    '''\n",
    "    Calculate the angle between 3 points\n",
    "    Unit of the angle will be in Degree\n",
    "    '''\n",
    "    point1 = np.array(point1)\n",
    "    point2 = np.array(point2)\n",
    "    point3 = np.array(point3)\n",
    "\n",
    "    # Calculate algo\n",
    "    angleInRad = np.arctan2(point3[1] - point2[1], point3[0] - point2[0]) - np.arctan2(point1[1] - point2[1], point1[0] - point2[0])\n",
    "    angleInDeg = np.abs(angleInRad * 180.0 / np.pi)\n",
    "\n",
    "    angleInDeg = angleInDeg if angleInDeg <= 180 else 360 - angleInDeg\n",
    "    return angleInDeg\n",
    "\n",
    "\n",
    "def save_frame_as_image(frame, message: str = None):\n",
    "    '''\n",
    "    Save a frame as image to display the error\n",
    "    '''\n",
    "    now = datetime.datetime.now()\n",
    "\n",
    "    if message:\n",
    "        cv2.putText(frame, message, (50, 150), cv2.FONT_HERSHEY_COMPLEX, 1, (0, 0, 0), 3, cv2.LINE_AA)\n",
    "        \n",
    "    print(\"Saving ...\")\n",
    "    cv2.imwrite(f\"../data/logs/bicep_{now}.jpg\", frame)"
   ]
  },
  {
   "cell_type": "markdown",
   "metadata": {},
   "source": [
    "### 2. Counter, Errors detection"
   ]
  },
  {
   "cell_type": "code",
   "execution_count": 5,
   "metadata": {},
   "outputs": [],
   "source": [
    "VIDEO_PATH = \"../data/db_curl/db_curl_1.mov\"\n",
    "VIDEO_PATH2 = \"../data/db_curl/db_curl_bad_1.mov\""
   ]
  },
  {
   "cell_type": "code",
   "execution_count": 19,
   "metadata": {},
   "outputs": [
    {
     "name": "stdout",
     "output_type": "stream",
     "text": [
      "Saving ...\n",
      "Saving ...\n",
      "Saving ...\n"
     ]
    }
   ],
   "source": [
    "cap = cv2.VideoCapture(VIDEO_PATH2)\n",
    "\n",
    "# Params for counter\n",
    "STAGE_UP_THRESHOLD = 90\n",
    "STAGE_DOWN_THRESHOLD = 120\n",
    "stage = \"down\"\n",
    "counter = 0\n",
    "\n",
    "# Params to catch FULL RANGE OF MOTION error\n",
    "PEAK_CONTRACTION_THRESHOLD = 70\n",
    "peak_contraction_degree = 1000\n",
    "peaked_error_framed = None\n",
    "\n",
    "# LOOSE UPPER ARM error detection\n",
    "LOOSE_UPPER_ARM = False\n",
    "\n",
    "with mp_pose.Pose(min_detection_confidence=0.5, min_tracking_confidence=0.5) as pose:\n",
    "    while cap.isOpened():\n",
    "        ret, image = cap.read()\n",
    "\n",
    "        if not ret:\n",
    "            break\n",
    "\n",
    "        # Reduce size of a frame\n",
    "        image = rescale_frame(image, 50)\n",
    "        \n",
    "        video_dimensions = [image.shape[1], image.shape[0]]\n",
    "\n",
    "        # Recolor image from BGR to RGB for mediapipe\n",
    "        image = cv2.cvtColor(image, cv2.COLOR_BGR2RGB)\n",
    "        image.flags.writeable = False\n",
    "\n",
    "        results = pose.process(image)\n",
    "\n",
    "        if not results.pose_landmarks:\n",
    "            print(\"No human found\")\n",
    "            continue\n",
    "\n",
    "        # Recolor image from BGR to RGB for mediapipe\n",
    "        image.flags.writeable = True\n",
    "        image = cv2.cvtColor(image, cv2.COLOR_RGB2BGR)\n",
    "\n",
    "        # Draw landmarks and connections\n",
    "        mp_drawing.draw_landmarks(image, results.pose_landmarks, mp_pose.POSE_CONNECTIONS, mp_drawing.DrawingSpec(color=(244, 117, 66), thickness=2, circle_radius=2), mp_drawing.DrawingSpec(color=(245, 66, 230), thickness=2, circle_radius=1))\n",
    "\n",
    "        # Make detection\n",
    "        try:\n",
    "            landmarks = results.pose_landmarks.landmark\n",
    "\n",
    "            # Get joints' coordinates\n",
    "            shoulder = [ landmarks[mp_pose.PoseLandmark.LEFT_SHOULDER.value].x, landmarks[mp_pose.PoseLandmark.LEFT_SHOULDER.value].y ]\n",
    "            elbow = [ landmarks[mp_pose.PoseLandmark.LEFT_ELBOW.value].x, landmarks[mp_pose.PoseLandmark.LEFT_ELBOW.value].y ]\n",
    "            wrist = [ landmarks[mp_pose.PoseLandmark.LEFT_WRIST.value].x, landmarks[mp_pose.PoseLandmark.LEFT_WRIST.value].y ]\n",
    "\n",
    "            # Calculate curl angle for counter\n",
    "            angle = int(calculate_angle(shoulder, elbow, wrist))\n",
    "            if angle > STAGE_DOWN_THRESHOLD:\n",
    "                stage = \"down\"\n",
    "            elif angle < STAGE_UP_THRESHOLD and stage == \"down\":\n",
    "                stage = \"up\"\n",
    "                counter += 1\n",
    "            \n",
    "            # Calculate the angle between the upper arm (shoulder & joint) and the Y axis\n",
    "            shoulder_projection = [ shoulder[0], 1 ] # Represent the projection of the shoulder to the X axis\n",
    "            ground_upper_arm_angle = int(calculate_angle(elbow, shoulder, shoulder_projection))\n",
    "\n",
    "            # * Evaluation for LOOSE UPPER ARM error\n",
    "            if ground_upper_arm_angle > 40:\n",
    "                # Limit the saved frame\n",
    "                if not LOOSE_UPPER_ARM:\n",
    "                    LOOSE_UPPER_ARM = True\n",
    "                    save_frame_as_image(image, \"Loose upper arm\")\n",
    "                else:\n",
    "                    pass\n",
    "            else:\n",
    "                LOOSE_UPPER_ARM = False\n",
    "            \n",
    "\n",
    "            # Evaluate PEAK CONTRACTION error\n",
    "            if stage == \"up\" and angle < peak_contraction_degree:\n",
    "                # Capture peaked contraction every rep\n",
    "                peak_contraction_degree = angle\n",
    "                peaked_error_framed = image\n",
    "                \n",
    "            elif stage == \"down\":\n",
    "                # Evaluate if the peak is higher than the threshold than capture that image and marked as an error\n",
    "                if peak_contraction_degree != 1000 and peak_contraction_degree >= PEAK_CONTRACTION_THRESHOLD:\n",
    "                    print(peak_contraction_degree)\n",
    "                    save_frame_as_image(peaked_error_framed, \"Peak contraction could be better\")\n",
    "                \n",
    "                # Reset params\n",
    "                peak_contraction_degree = 1000\n",
    "                peaked_framed = None\n",
    "            \n",
    "            # Visualize calculated angles\n",
    "            cv2.putText(image, str(angle), tuple(np.multiply(elbow, video_dimensions).astype(int)), cv2.FONT_HERSHEY_COMPLEX, 1, (255, 255, 255), 2, cv2.LINE_AA)\n",
    "            cv2.putText(image, str(ground_upper_arm_angle), tuple(np.multiply(shoulder, video_dimensions).astype(int)), cv2.FONT_HERSHEY_COMPLEX, 1, (255, 255, 255), 2, cv2.LINE_AA)\n",
    "\n",
    "            # Visualize Counter\n",
    "            cv2.putText(image, stage + \" \" + str(counter), (50, 100), cv2.FONT_HERSHEY_COMPLEX, 2, (255, 255, 255), 2, cv2.LINE_AA)\n",
    "        \n",
    "        except Exception as e:\n",
    "            print(f\"Error: {e}\")\n",
    "        \n",
    "        cv2.imshow(\"CV2\", image)\n",
    "        \n",
    "        # Press Q to close cv2 window\n",
    "        if cv2.waitKey(1) & 0xFF == ord('q'):\n",
    "            break\n",
    "\n",
    "    cap.release()\n",
    "    cv2.destroyAllWindows()\n",
    "\n",
    "    # (Optional)Fix bugs cannot close windows in MacOS (https://stackoverflow.com/questions/6116564/destroywindow-does-not-close-window-on-mac-using-python-and-opencv)\n",
    "    for i in range (1, 5):\n",
    "        cv2.waitKey(1)\n",
    "  "
   ]
  },
  {
   "cell_type": "code",
   "execution_count": null,
   "metadata": {},
   "outputs": [],
   "source": []
  }
 ],
 "metadata": {
  "kernelspec": {
   "display_name": "Python 3.8.13 (conda)",
   "language": "python",
   "name": "python3"
  },
  "language_info": {
   "codemirror_mode": {
    "name": "ipython",
    "version": 3
   },
   "file_extension": ".py",
   "mimetype": "text/x-python",
   "name": "python",
   "nbconvert_exporter": "python",
   "pygments_lexer": "ipython3",
   "version": "3.8.13"
  },
  "orig_nbformat": 4,
  "vscode": {
   "interpreter": {
    "hash": "9260f401923fb5c4108c543a7d176de9733d378b3752e49535ad7c43c2271b65"
   }
  }
 },
 "nbformat": 4,
 "nbformat_minor": 2
}
